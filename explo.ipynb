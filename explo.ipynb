{
 "cells": [
  {
   "cell_type": "code",
   "execution_count": 1,
   "id": "initial_id",
   "metadata": {
    "collapsed": true,
    "ExecuteTime": {
     "end_time": "2024-01-26T18:25:58.409184658Z",
     "start_time": "2024-01-26T18:25:58.405489199Z"
    }
   },
   "outputs": [],
   "source": [
    "non_corr= \"MAZ_non_corr/1-100/Moreau80_GBOOKS.json\"\n",
    "corr = \"MAZ_corr/1-100/Moreau80_GBOOKS.json\""
   ]
  },
  {
   "cell_type": "code",
   "outputs": [],
   "source": [
    "import json\n",
    "from pathlib import Path"
   ],
   "metadata": {
    "collapsed": false,
    "ExecuteTime": {
     "end_time": "2024-01-26T18:25:58.447439602Z",
     "start_time": "2024-01-26T18:25:58.406730467Z"
    }
   },
   "id": "ba5e1eaab3bf8916",
   "execution_count": 2
  },
  {
   "cell_type": "code",
   "outputs": [],
   "source": [
    "with open(non_corr) as f:\n",
    "    nc = json.load(f)\n",
    "    \n",
    "with open(corr) as f:\n",
    "    c = json.load(f)"
   ],
   "metadata": {
    "collapsed": false,
    "ExecuteTime": {
     "end_time": "2024-01-26T18:25:58.524714206Z",
     "start_time": "2024-01-26T18:25:58.486707987Z"
    }
   },
   "id": "14b6163ad85aedf5",
   "execution_count": 3
  },
  {
   "cell_type": "code",
   "outputs": [],
   "source": [
    "txt_nc = nc[\"texte\"]\n",
    "txt_c = c[\"texte\"]"
   ],
   "metadata": {
    "collapsed": false,
    "ExecuteTime": {
     "end_time": "2024-01-26T18:25:58.558537402Z",
     "start_time": "2024-01-26T18:25:58.525859848Z"
    }
   },
   "id": "4ac049a3cb08bf6f",
   "execution_count": 4
  },
  {
   "cell_type": "code",
   "outputs": [
    {
     "name": "stdout",
     "output_type": "stream",
     "text": [
      "1 True\n",
      "2 True\n",
      "3 True\n",
      "4 True\n",
      "5 True\n",
      "6 True\n"
     ]
    }
   ],
   "source": [
    "for i, (page_nc, page_c) in enumerate(zip(txt_nc, txt_c), 1):\n",
    "    print(i, page_c == page_nc)"
   ],
   "metadata": {
    "collapsed": false,
    "ExecuteTime": {
     "end_time": "2024-01-26T18:25:58.597371729Z",
     "start_time": "2024-01-26T18:25:58.551700938Z"
    }
   },
   "id": "4b5a5e45db12a75c",
   "execution_count": 5
  },
  {
   "cell_type": "code",
   "outputs": [],
   "source": [
    "corr = Path(\"MAZ_corr\")\n",
    "non_corr = Path(\"MAZ_non_corr\")"
   ],
   "metadata": {
    "collapsed": false,
    "ExecuteTime": {
     "end_time": "2024-01-26T18:25:58.643730194Z",
     "start_time": "2024-01-26T18:25:58.596891925Z"
    }
   },
   "id": "187c7c10bbccb445",
   "execution_count": 6
  },
  {
   "cell_type": "code",
   "outputs": [],
   "source": [
    "corr_files = set((e.name for e in corr.glob(\"*/*\"))) \n",
    "non_corr_files = set((e.name for e in non_corr.glob(\"*/*\")))"
   ],
   "metadata": {
    "collapsed": false,
    "ExecuteTime": {
     "end_time": "2024-01-26T18:25:58.697925012Z",
     "start_time": "2024-01-26T18:25:58.637956114Z"
    }
   },
   "id": "2b493cf841a02260",
   "execution_count": 7
  },
  {
   "cell_type": "code",
   "outputs": [],
   "source": [
    "common = corr_files & non_corr_files"
   ],
   "metadata": {
    "collapsed": false,
    "ExecuteTime": {
     "end_time": "2024-01-26T18:25:58.740590662Z",
     "start_time": "2024-01-26T18:25:58.699027358Z"
    }
   },
   "id": "17f9a233d0e6339b",
   "execution_count": 8
  },
  {
   "cell_type": "code",
   "outputs": [
    {
     "data": {
      "text/plain": "2285"
     },
     "execution_count": 9,
     "metadata": {},
     "output_type": "execute_result"
    }
   ],
   "source": [
    "len(common)"
   ],
   "metadata": {
    "collapsed": false,
    "ExecuteTime": {
     "end_time": "2024-01-26T18:25:58.797463711Z",
     "start_time": "2024-01-26T18:25:58.740517363Z"
    }
   },
   "id": "eae1dd919c56ebd7",
   "execution_count": 9
  },
  {
   "cell_type": "code",
   "outputs": [],
   "source": [
    "corr_n_non_corr = []\n",
    "\n",
    "for file_c in corr.glob(\"*/*\"):\n",
    "    # print(file_c)\n",
    "    # print(list(file_c.parents))\n",
    "    \n",
    "    file_nc = non_corr / file_c.relative_to(corr)\n",
    "    \n",
    "    # print(file_nc)\n",
    "    # print(file_nc.exists())\n",
    "    # if file_nc.exists():\n",
    "    #     1/0\n",
    "        \n",
    "    if not file_nc.exists():\n",
    "        type_ = \"C\"\n",
    "    else:\n",
    "        with open(file_c) as f:\n",
    "            c = json.load(f)\n",
    "        with open(file_nc) as f:\n",
    "            nc = json.load(f)\n",
    "            \n",
    "        txt_nc = nc[\"texte\"]\n",
    "        txt_c = c[\"texte\"]\n",
    "        \n",
    "        if txt_nc == txt_c:\n",
    "            type_ = \"A\"\n",
    "        else:\n",
    "            type_ = \"B\"\n",
    "            \n",
    "    corr_n_non_corr.append((file_c, type_))\n",
    "    \n",
    "    "
   ],
   "metadata": {
    "collapsed": false,
    "ExecuteTime": {
     "end_time": "2024-01-26T18:25:59.813616157Z",
     "start_time": "2024-01-26T18:25:58.786670814Z"
    }
   },
   "id": "333ea1e1914fe37a",
   "execution_count": 10
  },
  {
   "cell_type": "code",
   "outputs": [],
   "source": [
    "files_by_type = {\n",
    "    \"A\": [],\n",
    "    \"B\": [],\n",
    "    \"C\": []\n",
    "}\n",
    "\n",
    "for file, type_ in corr_n_non_corr:\n",
    "    files_by_type[type_].append(file)\n",
    "    \n"
   ],
   "metadata": {
    "collapsed": false,
    "ExecuteTime": {
     "end_time": "2024-01-26T18:25:59.819511225Z",
     "start_time": "2024-01-26T18:25:59.815421259Z"
    }
   },
   "id": "e6015c843bedf565",
   "execution_count": 11
  },
  {
   "cell_type": "code",
   "outputs": [
    {
     "name": "stdout",
     "output_type": "stream",
     "text": [
      "A 151\n",
      "B 787\n",
      "C 2127\n"
     ]
    }
   ],
   "source": [
    "for k, v in files_by_type.items():\n",
    "    print(k, len(v))"
   ],
   "metadata": {
    "collapsed": false,
    "ExecuteTime": {
     "end_time": "2024-01-26T18:25:59.871631371Z",
     "start_time": "2024-01-26T18:25:59.817501132Z"
    }
   },
   "id": "17f07eca603aceb0",
   "execution_count": 12
  },
  {
   "cell_type": "code",
   "outputs": [
    {
     "name": "stdout",
     "output_type": "stream",
     "text": [
      "MAZ_corr/1-100/Moreau19_GBOOKS.json\n",
      "MAZ_corr/1-100/Moreau30_MAZ.json\n",
      "MAZ_corr/1-100/Moreau3_MAZ.json\n",
      "MAZ_corr/1-100/Moreau42_MAZ.json\n",
      "MAZ_corr/1-100/Moreau59_MAZ.json\n",
      "MAZ_corr/1-100/Moreau81_MAZ.json\n",
      "MAZ_corr/1-100/Moreau83_MAZ.json\n",
      "MAZ_corr/1-100/Moreau95_GBOOKS.json\n",
      "MAZ_corr/1-100/Moreau97_GBOOKS.json\n",
      "MAZ_corr/1-100/Moreau98_MAZ.json\n",
      "MAZ_corr/1-100/Moreau99_GBOOKS.json\n",
      "MAZ_corr/1001-1100/Moreau1001_GBOOKS.json\n",
      "MAZ_corr/1001-1100/Moreau1002_GBOOKS.json\n",
      "MAZ_corr/1001-1100/Moreau1005_GBOOKS.json\n",
      "MAZ_corr/1001-1100/Moreau1006_MAZ.json\n",
      "MAZ_corr/1001-1100/Moreau1007_GBOOKS.json\n",
      "MAZ_corr/1001-1100/Moreau1008_GBOOKS.json\n",
      "MAZ_corr/1001-1100/Moreau1009_MAZ.json\n",
      "MAZ_corr/1001-1100/Moreau1010_GBOOKS.json\n",
      "MAZ_corr/1001-1100/Moreau1012_GBOOKS.json\n",
      "MAZ_corr/1001-1100/Moreau1016_GBOOKS.json\n",
      "MAZ_corr/1001-1100/Moreau1018_GBOOKS.json\n",
      "MAZ_corr/1001-1100/Moreau1019_GBOOKS.json\n",
      "MAZ_corr/1001-1100/Moreau1020_GBOOKS.json\n",
      "MAZ_corr/1001-1100/Moreau1021_GBOOKS.json\n",
      "MAZ_corr/1001-1100/Moreau1023_GBOOKS.json\n",
      "MAZ_corr/1001-1100/Moreau1024_GBOOKS.json\n",
      "MAZ_corr/1001-1100/Moreau1030_GBOOKS.json\n",
      "MAZ_corr/1001-1100/Moreau1035_GBOOKS.json\n",
      "MAZ_corr/1001-1100/Moreau1036_GBOOKS.json\n",
      "MAZ_corr/1001-1100/Moreau1037_GBOOKS.json\n",
      "MAZ_corr/1001-1100/Moreau1040_MAZ.json\n",
      "MAZ_corr/1001-1100/Moreau1041_GBOOKS.json\n",
      "MAZ_corr/1001-1100/Moreau1043_GBOOKS.json\n",
      "MAZ_corr/1001-1100/Moreau1047_GBOOKS.json\n",
      "MAZ_corr/1001-1100/Moreau1053_GBOOKS.json\n",
      "MAZ_corr/1001-1100/Moreau1054_GBOOKS.json\n",
      "MAZ_corr/1001-1100/Moreau1056_GALL.json\n",
      "MAZ_corr/1001-1100/Moreau1059_GBOOKS.json\n",
      "MAZ_corr/1001-1100/Moreau1060_GBOOKS.json\n",
      "MAZ_corr/1001-1100/Moreau1068_GBOOKS.json\n",
      "MAZ_corr/1001-1100/Moreau1072_MAZ.json\n",
      "MAZ_corr/1001-1100/Moreau1077_GALL.json\n",
      "MAZ_corr/1001-1100/Moreau1078_MAZ.json\n",
      "MAZ_corr/1001-1100/Moreau1080_GBOOKS.json\n",
      "MAZ_corr/1001-1100/Moreau1081_GBOOKS.json\n",
      "MAZ_corr/1001-1100/Moreau1084_GALL.json\n",
      "MAZ_corr/1001-1100/Moreau1085-i_MAZ.json\n",
      "MAZ_corr/1001-1100/Moreau1085-ii_MAZ.json\n",
      "MAZ_corr/1001-1100/Moreau1089_GBOOKS.json\n",
      "MAZ_corr/1001-1100/Moreau1090_GBOOKS.json\n",
      "MAZ_corr/1001-1100/Moreau1092_GALL.json\n",
      "MAZ_corr/1001-1100/Moreau1093_MAZ.json\n",
      "MAZ_corr/1001-1100/Moreau1094_GBOOKS.json\n",
      "MAZ_corr/1001-1100/Moreau1097_GBOOKS.json\n",
      "MAZ_corr/101-200/Moreau101_GBOOKS.json\n",
      "MAZ_corr/101-200/Moreau104_GBOOKS.json\n",
      "MAZ_corr/101-200/Moreau105_MAZ.json\n",
      "MAZ_corr/101-200/Moreau109_GBOOKS.json\n",
      "MAZ_corr/101-200/Moreau110_GBOOKS.json\n",
      "MAZ_corr/101-200/Moreau120_GBOOKS.json\n",
      "MAZ_corr/101-200/Moreau121_GALL.json\n",
      "MAZ_corr/101-200/Moreau123_GBOOKS.json\n",
      "MAZ_corr/101-200/Moreau124_GALL.json\n",
      "MAZ_corr/101-200/Moreau125_GBOOKS.json\n",
      "MAZ_corr/101-200/Moreau126_MAZ.json\n",
      "MAZ_corr/101-200/Moreau127_MAZ.json\n",
      "MAZ_corr/101-200/Moreau131_MAZ.json\n",
      "MAZ_corr/101-200/Moreau144_MAZ.json\n",
      "MAZ_corr/101-200/Moreau148_MAZ.json\n",
      "MAZ_corr/101-200/Moreau164_MAZ.json\n",
      "MAZ_corr/101-200/Moreau166_MAZ.json\n",
      "MAZ_corr/101-200/Moreau184_MAZ.json\n",
      "MAZ_corr/101-200/Moreau196_MAZ.json\n",
      "MAZ_corr/101-200/Moreau197_MAZ.json\n",
      "MAZ_corr/101-200/Moreau200_MAZ.json\n",
      "MAZ_corr/1101-1200/Moreau1102_MAZ.json\n",
      "MAZ_corr/1101-1200/Moreau1104_MAZ.json\n",
      "MAZ_corr/1101-1200/Moreau1106_GBOOKS.json\n",
      "MAZ_corr/1101-1200/Moreau1107_MAZ.json\n",
      "MAZ_corr/1101-1200/Moreau1113_MAZ.json\n",
      "MAZ_corr/1101-1200/Moreau1124_MAZ.json\n",
      "MAZ_corr/1101-1200/Moreau1125_MAZ.json\n",
      "MAZ_corr/1101-1200/Moreau1160_GBOOKS.json\n",
      "MAZ_corr/1101-1200/Moreau1161_GALL.json\n",
      "MAZ_corr/1101-1200/Moreau1174_MAZ.json\n",
      "MAZ_corr/1101-1200/Moreau1183_MAZ.json\n",
      "MAZ_corr/1101-1200/Moreau1184_MAZ.json\n",
      "MAZ_corr/1101-1200/Moreau1200_GALL.json\n",
      "MAZ_corr/1201-1300/Moreau1210_GBOOKS.json\n",
      "MAZ_corr/1201-1300/Moreau1216_MAZ.json\n",
      "MAZ_corr/1201-1300/Moreau1217_GBOOKS.json\n",
      "MAZ_corr/1201-1300/Moreau1218_GBOOKS.json\n",
      "MAZ_corr/1201-1300/Moreau1220_GBOOKS.json\n",
      "MAZ_corr/1201-1300/Moreau1225_GBOOKS.json\n",
      "MAZ_corr/1201-1300/Moreau1228_GALL.json\n",
      "MAZ_corr/1201-1300/Moreau1240_GALL.json\n",
      "MAZ_corr/1201-1300/Moreau1241_GBOOKS.json\n",
      "MAZ_corr/1201-1300/Moreau1242_GBOOKS.json\n",
      "MAZ_corr/1201-1300/Moreau1244_GBOOKS.json\n",
      "MAZ_corr/1201-1300/Moreau1248_GBOOKS.json\n",
      "MAZ_corr/1201-1300/Moreau1249_GBOOKS.json\n",
      "MAZ_corr/1201-1300/Moreau1251_GBOOKS.json\n",
      "MAZ_corr/1201-1300/Moreau1253_GBOOKS.json\n",
      "MAZ_corr/1201-1300/Moreau1255_GBOOKS.json\n",
      "MAZ_corr/1201-1300/Moreau1256_MAZ.json\n",
      "MAZ_corr/1201-1300/Moreau1257_GBOOKS.json\n",
      "MAZ_corr/1201-1300/Moreau1260_GBOOKS.json\n",
      "MAZ_corr/1201-1300/Moreau1264_GBOOKS.json\n",
      "MAZ_corr/1201-1300/Moreau1267_GALL.json\n",
      "MAZ_corr/1201-1300/Moreau1271_GBOOKS.json\n",
      "MAZ_corr/1201-1300/Moreau1272_GBOOKS.json\n",
      "MAZ_corr/1201-1300/Moreau1274_GALL.json\n",
      "MAZ_corr/1201-1300/Moreau1275_GBOOKS.json\n",
      "MAZ_corr/1201-1300/Moreau1276_GBOOKS.json\n",
      "MAZ_corr/1201-1300/Moreau1278_GBOOKS.json\n",
      "MAZ_corr/1201-1300/Moreau1279_GBOOKS.json\n",
      "MAZ_corr/1201-1300/Moreau1282_MAZ.json\n",
      "MAZ_corr/1201-1300/Moreau1283_MAZ.json\n",
      "MAZ_corr/1201-1300/Moreau1284_GBOOKS.json\n",
      "MAZ_corr/1201-1300/Moreau1285_GBOOKS.json\n",
      "MAZ_corr/1201-1300/Moreau1287_GBOOKS.json\n",
      "MAZ_corr/1201-1300/Moreau1288_GBOOKS.json\n",
      "MAZ_corr/1201-1300/Moreau1289_GBOOKS.json\n",
      "MAZ_corr/1201-1300/Moreau1290_GBOOKS.json\n",
      "MAZ_corr/1201-1300/Moreau1293_GBOOKS.json\n",
      "MAZ_corr/1201-1300/Moreau1294_GBOOKS.json\n",
      "MAZ_corr/1201-1300/Moreau1299_GBOOKS.json\n",
      "MAZ_corr/1301-1400/Moreau1314_MAZ.json\n",
      "MAZ_corr/1301-1400/Moreau1317_GBOOKS.json\n",
      "MAZ_corr/1301-1400/Moreau1324_MAZ.json\n",
      "MAZ_corr/1301-1400/Moreau1326_GBOOKS.json\n",
      "MAZ_corr/1301-1400/Moreau1332_MAZ.json\n",
      "MAZ_corr/1301-1400/Moreau1342_GBOOKS.json\n",
      "MAZ_corr/1301-1400/Moreau1351_GBOOKS.json\n",
      "MAZ_corr/1301-1400/Moreau1353_MAZ.json\n",
      "MAZ_corr/1301-1400/Moreau1359_MAZ.json\n",
      "MAZ_corr/1301-1400/Moreau1365_MAZ.json\n",
      "MAZ_corr/1301-1400/Moreau1366_MAZ.json\n",
      "MAZ_corr/1301-1400/Moreau1367_MAZ.json\n",
      "MAZ_corr/1301-1400/Moreau1368_MAZ.json\n",
      "MAZ_corr/1301-1400/Moreau1370_MAZ.json\n",
      "MAZ_corr/1301-1400/Moreau1372_GALL.json\n",
      "MAZ_corr/1301-1400/Moreau1376_MAZ.json\n",
      "MAZ_corr/1301-1400/Moreau1377_GBOOKS.json\n",
      "MAZ_corr/1401-1500/Moreau1401_MAZ.json\n",
      "MAZ_corr/1401-1500/Moreau1447_MAZ.json\n",
      "MAZ_corr/1401-1500/Moreau1448_MAZ.json\n",
      "MAZ_corr/1401-1500/Moreau1461_MAZ.json\n",
      "MAZ_corr/1401-1500/Moreau1463_GBOOKS.json\n",
      "MAZ_corr/1401-1500/Moreau1469_GALL.json\n",
      "MAZ_corr/1401-1500/Moreau1470_GBOOKS.json\n",
      "MAZ_corr/1401-1500/Moreau1472_MAZ.json\n",
      "MAZ_corr/1401-1500/Moreau1477_MAZ.json\n",
      "MAZ_corr/1401-1500/Moreau1498_GBOOKS.json\n",
      "MAZ_corr/1401-1500/Moreau1500_MAZ.json\n",
      "MAZ_corr/1501-1600/Moreau1510_GBOOKS.json\n",
      "MAZ_corr/1501-1600/Moreau1531_GBOOKS.json\n",
      "MAZ_corr/1501-1600/Moreau1532_GBOOKS.json\n",
      "MAZ_corr/1601-1700/Moreau1624_GBOOKS.json\n",
      "MAZ_corr/1601-1700/Moreau1634_GBOOKS.json\n",
      "MAZ_corr/1601-1700/Moreau1638_GALL.json\n",
      "MAZ_corr/1601-1700/Moreau1639_GBOOKS.json\n",
      "MAZ_corr/1601-1700/Moreau1643_GBOOKS.json\n",
      "MAZ_corr/1601-1700/Moreau1644_MAZ.json\n",
      "MAZ_corr/1601-1700/Moreau1645_MAZ.json\n",
      "MAZ_corr/1601-1700/Moreau1649_MAZ.json\n",
      "MAZ_corr/1601-1700/Moreau1650_MAZ.json\n",
      "MAZ_corr/1601-1700/Moreau1652_GALL.json\n",
      "MAZ_corr/1601-1700/Moreau1653_GBOOKS.json\n",
      "MAZ_corr/1601-1700/Moreau1656_MAZ.json\n",
      "MAZ_corr/1601-1700/Moreau1666_GBOOKS.json\n",
      "MAZ_corr/1601-1700/Moreau1673_MAZ.json\n",
      "MAZ_corr/1601-1700/Moreau1674_MAZ.json\n",
      "MAZ_corr/1601-1700/Moreau1691_GBOOKS.json\n",
      "MAZ_corr/1601-1700/Moreau1694_MAZ.json\n",
      "MAZ_corr/1701-1800/Moreau1733_GBOOKS.json\n",
      "MAZ_corr/1701-1800/Moreau1740_GALL.json\n",
      "MAZ_corr/1701-1800/Moreau1741_GBOOKS.json\n",
      "MAZ_corr/1701-1800/Moreau1742_GBOOKS.json\n",
      "MAZ_corr/1701-1800/Moreau1743_GBOOKS.json\n",
      "MAZ_corr/1701-1800/Moreau1745_GBOOKS.json\n",
      "MAZ_corr/1701-1800/Moreau1748_GBOOKS.json\n",
      "MAZ_corr/1701-1800/Moreau1751_GBOOKS.json\n",
      "MAZ_corr/1701-1800/Moreau1757_GBOOKS.json\n",
      "MAZ_corr/1701-1800/Moreau1759_GALL.json\n",
      "MAZ_corr/1701-1800/Moreau1760_GBOOKS.json\n",
      "MAZ_corr/1701-1800/Moreau1761_GALL.json\n",
      "MAZ_corr/1701-1800/Moreau1762_GBOOKS.json\n",
      "MAZ_corr/1701-1800/Moreau1763_GALL.json\n",
      "MAZ_corr/1701-1800/Moreau1764_GBOOKS.json\n",
      "MAZ_corr/1801-1900/Moreau1808_GBOOKS.json\n",
      "MAZ_corr/1801-1900/Moreau1819_GBOOKS.json\n",
      "MAZ_corr/1801-1900/Moreau1832_GBOOKS.json\n",
      "MAZ_corr/1801-1900/Moreau1836_GBOOKS.json\n",
      "MAZ_corr/1801-1900/Moreau1839_GBOOKS.json\n",
      "MAZ_corr/1801-1900/Moreau1843_MAZ.json\n",
      "MAZ_corr/1801-1900/Moreau1851_GBOOKS.json\n",
      "MAZ_corr/1801-1900/Moreau1866_MAZ.json\n",
      "MAZ_corr/1801-1900/Moreau1869_GBOOKS.json\n",
      "MAZ_corr/1801-1900/Moreau1881_GBOOKS.json\n",
      "MAZ_corr/1801-1900/Moreau1887_GBOOKS.json\n",
      "MAZ_corr/1801-1900/Moreau1894_GBOOKS.json\n",
      "MAZ_corr/1801-1900/Moreau1895_MAZ.json\n",
      "MAZ_corr/1801-1900/Moreau1897_GBOOKS.json\n",
      "MAZ_corr/1901-2000/Moreau1901_GBOOKS.json\n",
      "MAZ_corr/1901-2000/Moreau1902_GBOOKS.json\n",
      "MAZ_corr/1901-2000/Moreau1904_GBOOKS.json\n",
      "MAZ_corr/1901-2000/Moreau1910_GBOOKS.json\n",
      "MAZ_corr/1901-2000/Moreau1913_GBOOKS.json\n",
      "MAZ_corr/1901-2000/Moreau1915_GBOOKS.json\n",
      "MAZ_corr/1901-2000/Moreau1916_GBOOKS.json\n",
      "MAZ_corr/1901-2000/Moreau1917_MAZ.json\n",
      "MAZ_corr/1901-2000/Moreau1921_MAZ.json\n",
      "MAZ_corr/1901-2000/Moreau1932_GBOOKS.json\n",
      "MAZ_corr/1901-2000/Moreau1936_GBOOKS.json\n",
      "MAZ_corr/1901-2000/Moreau1937_MAZ.json\n",
      "MAZ_corr/1901-2000/Moreau1939_GBOOKS.json\n",
      "MAZ_corr/1901-2000/Moreau1940_GBOOKS.json\n",
      "MAZ_corr/1901-2000/Moreau1942_GBOOKS.json\n",
      "MAZ_corr/1901-2000/Moreau1943_GBOOKS.json\n",
      "MAZ_corr/1901-2000/Moreau1952_GBOOKS.json\n",
      "MAZ_corr/1901-2000/Moreau1960_GBOOKS.json\n",
      "MAZ_corr/1901-2000/Moreau1968_GBOOKS.json\n",
      "MAZ_corr/1901-2000/Moreau1974_GBOOKS.json\n",
      "MAZ_corr/1901-2000/Moreau1985_MAZ.json\n",
      "MAZ_corr/1901-2000/Moreau1986_MAZ.json\n",
      "MAZ_corr/1901-2000/Moreau1991_GALL.json\n",
      "MAZ_corr/2001-2100/Moreau2006_MAZ.json\n",
      "MAZ_corr/2001-2100/Moreau2011_GBOOKS.json\n",
      "MAZ_corr/2001-2100/Moreau2017_MAZ.json\n",
      "MAZ_corr/2001-2100/Moreau2019_GBOOKS.json\n",
      "MAZ_corr/2001-2100/Moreau2020_GBOOKS.json\n",
      "MAZ_corr/2001-2100/Moreau2022_GBOOKS.json\n",
      "MAZ_corr/2001-2100/Moreau2026_GBOOKS.json\n",
      "MAZ_corr/2001-2100/Moreau2032_MAZ.json\n",
      "MAZ_corr/2001-2100/Moreau2033_MAZ.json\n",
      "MAZ_corr/2001-2100/Moreau2040_GBOOKS.json\n",
      "MAZ_corr/2001-2100/Moreau2042_GBOOKS.json\n",
      "MAZ_corr/2001-2100/Moreau2043_GBOOKS.json\n",
      "MAZ_corr/2001-2100/Moreau2045_GBOOKS.json\n",
      "MAZ_corr/2001-2100/Moreau2047_GBOOKS.json\n",
      "MAZ_corr/2001-2100/Moreau2050_GBOOKS.json\n",
      "MAZ_corr/2001-2100/Moreau2051_GBOOKS.json\n",
      "MAZ_corr/2001-2100/Moreau2056_GBOOKS.json\n",
      "MAZ_corr/2001-2100/Moreau2059_GBOOKS.json\n",
      "MAZ_corr/2001-2100/Moreau2061_GBOOKS.json\n",
      "MAZ_corr/2001-2100/Moreau2067_GBOOKS.json\n",
      "MAZ_corr/2001-2100/Moreau2068_GBOOKS.json\n",
      "MAZ_corr/2001-2100/Moreau2069_GBOOKS.json\n",
      "MAZ_corr/2001-2100/Moreau2076_GBOOKS.json\n",
      "MAZ_corr/2001-2100/Moreau2079_GBOOKS.json\n",
      "MAZ_corr/2001-2100/Moreau2081_GALL.json\n",
      "MAZ_corr/2001-2100/Moreau2084_GBOOKS.json\n",
      "MAZ_corr/2001-2100/Moreau2086_GBOOKS.json\n",
      "MAZ_corr/2001-2100/Moreau2088_GBOOKS.json\n",
      "MAZ_corr/2001-2100/Moreau2094_GBOOKS.json\n",
      "MAZ_corr/2001-2100/Moreau2099-i_MAZ.json\n",
      "MAZ_corr/2001-2100/Moreau2099-ii_MAZ.json\n",
      "MAZ_corr/2001-2100/Moreau2099-iii_MAZ.json\n",
      "MAZ_corr/201-300/Moreau211_MAZ.json\n",
      "MAZ_corr/201-300/Moreau212_MAZ.json\n",
      "MAZ_corr/201-300/Moreau214_MAZ.json\n",
      "MAZ_corr/201-300/Moreau216_MAZ.json\n",
      "MAZ_corr/201-300/Moreau217_MAZ.json\n",
      "MAZ_corr/201-300/Moreau219_MAZ.json\n",
      "MAZ_corr/201-300/Moreau220_MAZ.json\n",
      "MAZ_corr/201-300/Moreau223_MAZ.json\n",
      "MAZ_corr/201-300/Moreau225_MAZ.json\n",
      "MAZ_corr/201-300/Moreau227_MAZ.json\n",
      "MAZ_corr/201-300/Moreau230_MAZ.json\n",
      "MAZ_corr/201-300/Moreau233_MAZ.json\n",
      "MAZ_corr/201-300/Moreau234_MAZ.json\n",
      "MAZ_corr/201-300/Moreau242_MAZ.json\n",
      "MAZ_corr/201-300/Moreau247_MAZ.json\n",
      "MAZ_corr/201-300/Moreau258_MAZ.json\n",
      "MAZ_corr/201-300/Moreau260_MAZ.json\n",
      "MAZ_corr/201-300/Moreau278_MAZ.json\n",
      "MAZ_corr/201-300/Moreau289_MAZ.json\n",
      "MAZ_corr/201-300/Moreau293_MAZ.json\n",
      "MAZ_corr/2101-2200/Moreau2101_GBOOKS.json\n",
      "MAZ_corr/2101-2200/Moreau2103_GBOOKS.json\n",
      "MAZ_corr/2101-2200/Moreau2105_GBOOKS.json\n",
      "MAZ_corr/2101-2200/Moreau2106_GBOOKS.json\n",
      "MAZ_corr/2101-2200/Moreau2107_GBOOKS.json\n",
      "MAZ_corr/2101-2200/Moreau2110_GBOOKS.json\n",
      "MAZ_corr/2101-2200/Moreau2113_GBOOKS.json\n",
      "MAZ_corr/2101-2200/Moreau2114_GBOOKS.json\n",
      "MAZ_corr/2101-2200/Moreau2116_GBOOKS.json\n",
      "MAZ_corr/2101-2200/Moreau2118_GBOOKS.json\n",
      "MAZ_corr/2101-2200/Moreau2119_GBOOKS.json\n",
      "MAZ_corr/2101-2200/Moreau2124_MAZ.json\n",
      "MAZ_corr/2101-2200/Moreau2126_GBOOKS.json\n",
      "MAZ_corr/2101-2200/Moreau2128_GBOOKS.json\n",
      "MAZ_corr/2101-2200/Moreau2129_GBOOKS.json\n",
      "MAZ_corr/2101-2200/Moreau2130_GBOOKS.json\n",
      "MAZ_corr/2101-2200/Moreau2131_GBOOKS.json\n",
      "MAZ_corr/2101-2200/Moreau2132_GALL.json\n",
      "MAZ_corr/2101-2200/Moreau2135_MAZ.json\n",
      "MAZ_corr/2101-2200/Moreau2140_MAZ.json\n",
      "MAZ_corr/2101-2200/Moreau2147_GBOOKS.json\n",
      "MAZ_corr/2101-2200/Moreau2157_GBOOKS.json\n",
      "MAZ_corr/2101-2200/Moreau2158_GBOOKS.json\n",
      "MAZ_corr/2101-2200/Moreau2159_GBOOKS.json\n",
      "MAZ_corr/2101-2200/Moreau2160_GBOOKS.json\n",
      "MAZ_corr/2101-2200/Moreau2163_MAZ.json\n",
      "MAZ_corr/2101-2200/Moreau2164_MAZ.json\n",
      "MAZ_corr/2101-2200/Moreau2166_GBOOKS.json\n",
      "MAZ_corr/2101-2200/Moreau2168_GBOOKS.json\n",
      "MAZ_corr/2101-2200/Moreau2169_GBOOKS.json\n",
      "MAZ_corr/2101-2200/Moreau2176_GBOOKS.json\n",
      "MAZ_corr/2101-2200/Moreau2180_GBOOKS.json\n",
      "MAZ_corr/2101-2200/Moreau2197_MAZ.json\n",
      "MAZ_corr/2101-2200/Moreau2200_GBOOKS.json\n",
      "MAZ_corr/2201-2300/Moreau2201_GBOOKS.json\n",
      "MAZ_corr/2201-2300/Moreau2202_GBOOKS.json\n",
      "MAZ_corr/2201-2300/Moreau2203_GBOOKS.json\n",
      "MAZ_corr/2201-2300/Moreau2205_GBOOKS.json\n",
      "MAZ_corr/2201-2300/Moreau2206_GBOOKS.json\n",
      "MAZ_corr/2201-2300/Moreau2208_GBOOKS.json\n",
      "MAZ_corr/2201-2300/Moreau2209_GBOOKS.json\n",
      "MAZ_corr/2201-2300/Moreau2212_GBOOKS.json\n",
      "MAZ_corr/2201-2300/Moreau2213_GBOOKS.json\n",
      "MAZ_corr/2201-2300/Moreau2216_GBOOKS.json\n",
      "MAZ_corr/2201-2300/Moreau2217_GBOOKS.json\n",
      "MAZ_corr/2201-2300/Moreau2220_GBOOKS.json\n",
      "MAZ_corr/2201-2300/Moreau2225_GBOOKS.json\n",
      "MAZ_corr/2201-2300/Moreau2227_GBOOKS.json\n",
      "MAZ_corr/2201-2300/Moreau2229_GBOOKS.json\n",
      "MAZ_corr/2201-2300/Moreau2230_GBOOKS.json\n",
      "MAZ_corr/2201-2300/Moreau2231_GBOOKS.json\n",
      "MAZ_corr/2201-2300/Moreau2232_GBOOKS.json\n",
      "MAZ_corr/2201-2300/Moreau2233_GBOOKS.json\n",
      "MAZ_corr/2201-2300/Moreau2235_GBOOKS.json\n",
      "MAZ_corr/2201-2300/Moreau2236_GBOOKS.json\n",
      "MAZ_corr/2201-2300/Moreau2242_GBOOKS.json\n",
      "MAZ_corr/2201-2300/Moreau2247_GBOOKS.json\n",
      "MAZ_corr/2201-2300/Moreau2248_GBOOKS.json\n",
      "MAZ_corr/2201-2300/Moreau2249_GBOOKS.json\n",
      "MAZ_corr/2201-2300/Moreau2251_GBOOKS.json\n",
      "MAZ_corr/2201-2300/Moreau2252_GBOOKS.json\n",
      "MAZ_corr/2201-2300/Moreau2253_GALL.json\n",
      "MAZ_corr/2201-2300/Moreau2258_GBOOKS.json\n",
      "MAZ_corr/2201-2300/Moreau2259_GBOOKS.json\n",
      "MAZ_corr/2201-2300/Moreau2263_MAZ.json\n",
      "MAZ_corr/2201-2300/Moreau2268_GBOOKS.json\n",
      "MAZ_corr/2201-2300/Moreau2269_GBOOKS.json\n",
      "MAZ_corr/2201-2300/Moreau2271_MAZ.json\n",
      "MAZ_corr/2201-2300/Moreau2272_GBOOKS.json\n",
      "MAZ_corr/2201-2300/Moreau2277_GBOOKS.json\n",
      "MAZ_corr/2201-2300/Moreau2280_GBOOKS.json\n",
      "MAZ_corr/2201-2300/Moreau2282_MAZ.json\n",
      "MAZ_corr/2201-2300/Moreau2287_GBOOKS.json\n",
      "MAZ_corr/2201-2300/Moreau2288_GBOOKS.json\n",
      "MAZ_corr/2201-2300/Moreau2289_MAZ.json\n",
      "MAZ_corr/2201-2300/Moreau2290_GBOOKS.json\n",
      "MAZ_corr/2201-2300/Moreau2297_GBOOKS.json\n",
      "MAZ_corr/2301-2400/Moreau2355_MAZ.json\n",
      "MAZ_corr/2301-2400/Moreau2372_MAZ.json\n",
      "MAZ_corr/2301-2400/Moreau2386_MAZ.json\n",
      "MAZ_corr/2301-2400/Moreau2397_MAZ.json\n",
      "MAZ_corr/2301-2400/Moreau2398_MAZ.json\n",
      "MAZ_corr/2401-2500/Moreau2404_MAZ.json\n",
      "MAZ_corr/2401-2500/Moreau2407_MAZ.json\n",
      "MAZ_corr/2401-2500/Moreau2408_GBOOKS.json\n",
      "MAZ_corr/2401-2500/Moreau2409_MAZ.json\n",
      "MAZ_corr/2401-2500/Moreau2410_MAZ.json\n",
      "MAZ_corr/2401-2500/Moreau2412_MAZ.json\n",
      "MAZ_corr/2401-2500/Moreau2413_MAZ.json\n",
      "MAZ_corr/2401-2500/Moreau2422_MAZ.json\n",
      "MAZ_corr/2401-2500/Moreau2436_GBOOKS.json\n",
      "MAZ_corr/2401-2500/Moreau2439_GBOOKS.json\n",
      "MAZ_corr/2401-2500/Moreau2440_MAZ.json\n",
      "MAZ_corr/2401-2500/Moreau2454_GBOOKS.json\n",
      "MAZ_corr/2401-2500/Moreau2455_MAZ.json\n",
      "MAZ_corr/2401-2500/Moreau2456_MAZ.json\n",
      "MAZ_corr/2401-2500/Moreau2457_MAZ.json\n",
      "MAZ_corr/2401-2500/Moreau2459_GBOOKS.json\n",
      "MAZ_corr/2401-2500/Moreau2489_MAZ.json\n",
      "MAZ_corr/2401-2500/Moreau2494_MAZ.json\n",
      "MAZ_corr/2401-2500/Moreau2495_GBOOKS.json\n",
      "MAZ_corr/2501-2600/Moreau2508_MAZ.json\n",
      "MAZ_corr/2501-2600/Moreau2537_GBOOKS.json\n",
      "MAZ_corr/2501-2600/Moreau2538_GALL.json\n",
      "MAZ_corr/2501-2600/Moreau2541_GALL.json\n",
      "MAZ_corr/2501-2600/Moreau2542_GALL.json\n",
      "MAZ_corr/2501-2600/Moreau2544_MAZ.json\n",
      "MAZ_corr/2501-2600/Moreau2554_MAZ.json\n",
      "MAZ_corr/2501-2600/Moreau2556_GBOOKS.json\n",
      "MAZ_corr/2501-2600/Moreau2557_MAZ.json\n",
      "MAZ_corr/2501-2600/Moreau2559_GBOOKS.json\n",
      "MAZ_corr/2501-2600/Moreau2568_MAZ.json\n",
      "MAZ_corr/2501-2600/Moreau2593_MAZ.json\n",
      "MAZ_corr/2601-2700/Moreau2617_MAZ.json\n",
      "MAZ_corr/2601-2700/Moreau2638_MAZ.json\n",
      "MAZ_corr/2601-2700/Moreau2677_MAZ.json\n",
      "MAZ_corr/2601-2700/Moreau2698_MAZ.json\n",
      "MAZ_corr/2701-2800/Moreau2701-i_MAZ.json\n",
      "MAZ_corr/2701-2800/Moreau2701-iii_MAZ.json\n",
      "MAZ_corr/2701-2800/Moreau2704_GBOOKS.json\n",
      "MAZ_corr/2701-2800/Moreau2705_GBOOKS.json\n",
      "MAZ_corr/2701-2800/Moreau2713_GBOOKS.json\n",
      "MAZ_corr/2701-2800/Moreau2714_GBOOKS.json\n",
      "MAZ_corr/2701-2800/Moreau2715_GBOOKS.json\n",
      "MAZ_corr/2701-2800/Moreau2718_MAZ.json\n",
      "MAZ_corr/2701-2800/Moreau2728_GBOOKS.json\n",
      "MAZ_corr/2701-2800/Moreau2747_GALL.json\n",
      "MAZ_corr/2701-2800/Moreau2752_MAZ.json\n",
      "MAZ_corr/2701-2800/Moreau2755_MAZ.json\n",
      "MAZ_corr/2701-2800/Moreau2765_MAZ.json\n",
      "MAZ_corr/2801-2900/Moreau2808_MAZ.json\n",
      "MAZ_corr/2801-2900/Moreau2829_GBOOKS.json\n",
      "MAZ_corr/2801-2900/Moreau2842_GBOOKS.json\n",
      "MAZ_corr/2801-2900/Moreau2847_GBOOKS.json\n",
      "MAZ_corr/2801-2900/Moreau2848_GALL.json\n",
      "MAZ_corr/2801-2900/Moreau2850-ii_MAZ.json\n",
      "MAZ_corr/2801-2900/Moreau2856_GBOOKS.json\n",
      "MAZ_corr/2801-2900/Moreau2861_MAZ.json\n",
      "MAZ_corr/2801-2900/Moreau2870_GBOOKS.json\n",
      "MAZ_corr/2801-2900/Moreau2871_GBOOKS.json\n",
      "MAZ_corr/2801-2900/Moreau2872_GBOOKS.json\n",
      "MAZ_corr/2801-2900/Moreau2879_GBOOKS.json\n",
      "MAZ_corr/2801-2900/Moreau2880_GBOOKS.json\n",
      "MAZ_corr/2801-2900/Moreau2882_GBOOKS.json\n",
      "MAZ_corr/2801-2900/Moreau2886_GBOOKS.json\n",
      "MAZ_corr/2801-2900/Moreau2889_GBOOKS.json\n",
      "MAZ_corr/2801-2900/Moreau2891_MAZ.json\n",
      "MAZ_corr/2801-2900/Moreau2892_MAZ.json\n",
      "MAZ_corr/2901-3000/Moreau2948_MAZ.json\n",
      "MAZ_corr/2901-3000/Moreau2964_MAZ.json\n",
      "MAZ_corr/2901-3000/Moreau2967_MAZ.json\n",
      "MAZ_corr/2901-3000/Moreau2971_MAZ.json\n",
      "MAZ_corr/2901-3000/Moreau2977_MAZ.json\n",
      "MAZ_corr/2901-3000/Moreau2984_MAZ.json\n",
      "MAZ_corr/2901-3000/Moreau2985_GBOOKS.json\n",
      "MAZ_corr/2901-3000/Moreau2986_GBOOKS.json\n",
      "MAZ_corr/2901-3000/Moreau2987_GBOOKS.json\n",
      "MAZ_corr/2901-3000/Moreau2994_GBOOKS.json\n",
      "MAZ_corr/2901-3000/Moreau2995_GALL.json\n",
      "MAZ_corr/2901-3000/Moreau2996_GBOOKS.json\n",
      "MAZ_corr/2901-3000/Moreau2999_GBOOKS.json\n",
      "MAZ_corr/2901-3000/Moreau3000_GBOOKS.json\n",
      "MAZ_corr/3001-3100/Moreau3003_GBOOKS.json\n",
      "MAZ_corr/3001-3100/Moreau3004_MAZ.json\n",
      "MAZ_corr/3001-3100/Moreau3005_GBOOKS.json\n",
      "MAZ_corr/3001-3100/Moreau3006_GBOOKS.json\n",
      "MAZ_corr/3001-3100/Moreau3007_GBOOKS.json\n",
      "MAZ_corr/3001-3100/Moreau3010_GBOOKS.json\n",
      "MAZ_corr/3001-3100/Moreau3011_GBOOKS.json\n",
      "MAZ_corr/3001-3100/Moreau3016_GBOOKS.json\n",
      "MAZ_corr/3001-3100/Moreau3017_MAZ.json\n",
      "MAZ_corr/3001-3100/Moreau3018_GBOOKS.json\n",
      "MAZ_corr/3001-3100/Moreau3019_GBOOKS.json\n",
      "MAZ_corr/3001-3100/Moreau3024_GBOOKS.json\n",
      "MAZ_corr/3001-3100/Moreau3027_MAZ.json\n",
      "MAZ_corr/3001-3100/Moreau3030_GBOOKS.json\n",
      "MAZ_corr/3001-3100/Moreau3032_MAZ.json\n",
      "MAZ_corr/3001-3100/Moreau3035-i_MAZ.json\n",
      "MAZ_corr/3001-3100/Moreau3035-ii_MAZ.json\n",
      "MAZ_corr/3001-3100/Moreau3035-iii_MAZ.json\n",
      "MAZ_corr/3001-3100/Moreau3035-iv_MAZ.json\n",
      "MAZ_corr/3001-3100/Moreau3037_MAZ.json\n",
      "MAZ_corr/3001-3100/Moreau3049_GALL.json\n",
      "MAZ_corr/3001-3100/Moreau3055_GALL.json\n",
      "MAZ_corr/3001-3100/Moreau3057_GBOOKS.json\n",
      "MAZ_corr/3001-3100/Moreau3096_GBOOKS.json\n",
      "MAZ_corr/3001-3100/Moreau3097_GBOOKS.json\n",
      "MAZ_corr/3001-3100/Moreau3098_GALL.json\n",
      "MAZ_corr/3001-3100/Moreau3099_GBOOKS.json\n",
      "MAZ_corr/3001-3100/Moreau3100_MAZ.json\n",
      "MAZ_corr/301-400/Moreau345_MAZ.json\n",
      "MAZ_corr/301-400/Moreau385_GBOOKS.json\n",
      "MAZ_corr/301-400/Moreau387_GBOOKS.json\n",
      "MAZ_corr/301-400/Moreau388_GBOOKS.json\n",
      "MAZ_corr/301-400/Moreau389_MAZ.json\n",
      "MAZ_corr/301-400/Moreau390_GBOOKS.json\n",
      "MAZ_corr/301-400/Moreau392_GBOOKS.json\n",
      "MAZ_corr/301-400/Moreau393_MAZ.json\n",
      "MAZ_corr/301-400/Moreau394_MAZ.json\n",
      "MAZ_corr/301-400/Moreau395_GBOOKS.json\n",
      "MAZ_corr/301-400/Moreau397_GBOOKS.json\n",
      "MAZ_corr/3101-3200/Moreau3104_GBOOKS.json\n",
      "MAZ_corr/3101-3200/Moreau3106_GBOOKS.json\n",
      "MAZ_corr/3101-3200/Moreau3108_GBOOKS.json\n",
      "MAZ_corr/3101-3200/Moreau3110_GBOOKS.json\n",
      "MAZ_corr/3101-3200/Moreau3114_GBOOKS.json\n",
      "MAZ_corr/3101-3200/Moreau3117_GBOOKS.json\n",
      "MAZ_corr/3101-3200/Moreau3118_GBOOKS.json\n",
      "MAZ_corr/3101-3200/Moreau3119_GBOOKS.json\n",
      "MAZ_corr/3101-3200/Moreau3121_GBOOKS.json\n",
      "MAZ_corr/3101-3200/Moreau3122_GBOOKS.json\n",
      "MAZ_corr/3101-3200/Moreau3125_GBOOKS.json\n",
      "MAZ_corr/3101-3200/Moreau3126_GBOOKS.json\n",
      "MAZ_corr/3101-3200/Moreau3127_MAZ.json\n",
      "MAZ_corr/3101-3200/Moreau3129_GBOOKS.json\n",
      "MAZ_corr/3101-3200/Moreau3130_GBOOKS.json\n",
      "MAZ_corr/3101-3200/Moreau3132_GBOOKS.json\n",
      "MAZ_corr/3101-3200/Moreau3137_MAZ.json\n",
      "MAZ_corr/3101-3200/Moreau3139_GBOOKS.json\n",
      "MAZ_corr/3101-3200/Moreau3141_MAZ.json\n",
      "MAZ_corr/3101-3200/Moreau3142_MAZ.json\n",
      "MAZ_corr/3101-3200/Moreau3143_GBOOKS.json\n",
      "MAZ_corr/3101-3200/Moreau3146_GBOOKS.json\n",
      "MAZ_corr/3101-3200/Moreau3149_GBOOKS.json\n",
      "MAZ_corr/3101-3200/Moreau3151_GBOOKS.json\n",
      "MAZ_corr/3101-3200/Moreau3152_GBOOKS.json\n",
      "MAZ_corr/3101-3200/Moreau3154_GBOOKS.json\n",
      "MAZ_corr/3101-3200/Moreau3156_GBOOKS.json\n",
      "MAZ_corr/3101-3200/Moreau3162_MAZ.json\n",
      "MAZ_corr/3101-3200/Moreau3163_GBOOKS.json\n",
      "MAZ_corr/3101-3200/Moreau3165_MAZ.json\n",
      "MAZ_corr/3101-3200/Moreau3166_MAZ.json\n",
      "MAZ_corr/3101-3200/Moreau3170_GBOOKS.json\n",
      "MAZ_corr/3101-3200/Moreau3176_GBOOKS.json\n",
      "MAZ_corr/3101-3200/Moreau3177_GBOOKS.json\n",
      "MAZ_corr/3101-3200/Moreau3180_GBOOKS.json\n",
      "MAZ_corr/3101-3200/Moreau3181_GBOOKS.json\n",
      "MAZ_corr/3101-3200/Moreau3186_GBOOKS.json\n",
      "MAZ_corr/3101-3200/Moreau3188_GBOOKS.json\n",
      "MAZ_corr/3101-3200/Moreau3189_GBOOKS.json\n",
      "MAZ_corr/3101-3200/Moreau3190_MAZ.json\n",
      "MAZ_corr/3101-3200/Moreau3191_GBOOKS.json\n",
      "MAZ_corr/3101-3200/Moreau3195_GBOOKS.json\n",
      "MAZ_corr/3101-3200/Moreau3198_GALL.json\n",
      "MAZ_corr/3101-3200/Moreau3199_MAZ.json\n",
      "MAZ_corr/3101-3200/Moreau3200_GBOOKS.json\n",
      "MAZ_corr/3201-3300/Moreau3204_GBOOKS.json\n",
      "MAZ_corr/3201-3300/Moreau3205_GBOOKS.json\n",
      "MAZ_corr/3201-3300/Moreau3209_GBOOKS.json\n",
      "MAZ_corr/3201-3300/Moreau3214_GBOOKS.json\n",
      "MAZ_corr/3201-3300/Moreau3215_GBOOKS.json\n",
      "MAZ_corr/3201-3300/Moreau3216_GBOOKS.json\n",
      "MAZ_corr/3201-3300/Moreau3219_GBOOKS.json\n",
      "MAZ_corr/3201-3300/Moreau3220_GBOOKS.json\n",
      "MAZ_corr/3201-3300/Moreau3222_GBOOKS.json\n",
      "MAZ_corr/3201-3300/Moreau3225_GBOOKS.json\n",
      "MAZ_corr/3201-3300/Moreau3229_GBOOKS.json\n",
      "MAZ_corr/3201-3300/Moreau3230_GBOOKS.json\n",
      "MAZ_corr/3201-3300/Moreau3233_GBOOKS.json\n",
      "MAZ_corr/3201-3300/Moreau3234_GBOOKS.json\n",
      "MAZ_corr/3201-3300/Moreau3241_GBOOKS.json\n",
      "MAZ_corr/3201-3300/Moreau3242_GBOOKS.json\n",
      "MAZ_corr/3201-3300/Moreau3243_GBOOKS.json\n",
      "MAZ_corr/3201-3300/Moreau3244_GBOOKS.json\n",
      "MAZ_corr/3201-3300/Moreau3246_MAZ.json\n",
      "MAZ_corr/3201-3300/Moreau3247_GBOOKS.json\n",
      "MAZ_corr/3201-3300/Moreau3248_GBOOKS.json\n",
      "MAZ_corr/3201-3300/Moreau3250_GBOOKS.json\n",
      "MAZ_corr/3201-3300/Moreau3251_GBOOKS.json\n",
      "MAZ_corr/3201-3300/Moreau3255_GBOOKS.json\n",
      "MAZ_corr/3201-3300/Moreau3256_GBOOKS.json\n",
      "MAZ_corr/3201-3300/Moreau3257_GBOOKS.json\n",
      "MAZ_corr/3201-3300/Moreau3273_GBOOKS.json\n",
      "MAZ_corr/3301-3400/Moreau3326_MAZ.json\n",
      "MAZ_corr/3301-3400/Moreau3328_MAZ.json\n",
      "MAZ_corr/3301-3400/Moreau3341_MAZ.json\n",
      "MAZ_corr/3301-3400/Moreau3399_MAZ.json\n",
      "MAZ_corr/3401-3500/Moreau3463_MAZ.json\n",
      "MAZ_corr/3401-3500/Moreau3478_MAZ.json\n",
      "MAZ_corr/3501-3600/Moreau3554_MAZ.json\n",
      "MAZ_corr/3501-3600/Moreau3561_MAZ.json\n",
      "MAZ_corr/3501-3600/Moreau3570_GBOOKS.json\n",
      "MAZ_corr/3501-3600/Moreau3572_GBOOKS.json\n",
      "MAZ_corr/3501-3600/Moreau3577_GALL.json\n",
      "MAZ_corr/3501-3600/Moreau3598_MAZ.json\n",
      "MAZ_corr/3601-3700/Moreau3620_MAZ.json\n",
      "MAZ_corr/3601-3700/Moreau3648_MAZ.json\n",
      "MAZ_corr/3601-3700/Moreau3663_MAZ.json\n",
      "MAZ_corr/3601-3700/Moreau3665_GBOOKS.json\n",
      "MAZ_corr/3601-3700/Moreau3671_GBOOKS.json\n",
      "MAZ_corr/3601-3700/Moreau3672_MAZ.json\n",
      "MAZ_corr/3601-3700/Moreau3686_GBOOKS.json\n",
      "MAZ_corr/3701-3800/Moreau3705_MAZ.json\n",
      "MAZ_corr/3701-3800/Moreau3721_MAZ.json\n",
      "MAZ_corr/3701-3800/Moreau3725_GBOOKS.json\n",
      "MAZ_corr/3701-3800/Moreau3726_GBOOKS.json\n",
      "MAZ_corr/3701-3800/Moreau3727_MAZ.json\n",
      "MAZ_corr/3701-3800/Moreau3728_GBOOKS.json\n",
      "MAZ_corr/3701-3800/Moreau3741_GBOOKS.json\n",
      "MAZ_corr/3701-3800/Moreau3742_GBOOKS.json\n",
      "MAZ_corr/3701-3800/Moreau3743_MAZ.json\n",
      "MAZ_corr/3701-3800/Moreau3748_MAZ.json\n",
      "MAZ_corr/3701-3800/Moreau3766_MAZ.json\n",
      "MAZ_corr/3701-3800/Moreau3769_MAZ.json\n",
      "MAZ_corr/3701-3800/Moreau3792_GBOOKS.json\n",
      "MAZ_corr/3701-3800/Moreau3794_GBOOKS.json\n",
      "MAZ_corr/3801-3900/Moreau3814_MAZ.json\n",
      "MAZ_corr/3801-3900/Moreau3846_GBOOKS.json\n",
      "MAZ_corr/3801-3900/Moreau3847_GALL.json\n",
      "MAZ_corr/3801-3900/Moreau3848_GALL.json\n",
      "MAZ_corr/3801-3900/Moreau3849_GALL.json\n",
      "MAZ_corr/3801-3900/Moreau3850_GALL.json\n",
      "MAZ_corr/3801-3900/Moreau3851_GALL.json\n",
      "MAZ_corr/3801-3900/Moreau3852_GALL.json\n",
      "MAZ_corr/3801-3900/Moreau3853_GALL.json\n",
      "MAZ_corr/3801-3900/Moreau3854_GALL.json\n",
      "MAZ_corr/3801-3900/Moreau3855_GALL.json\n",
      "MAZ_corr/3801-3900/Moreau3856_GBOOKS.json\n",
      "MAZ_corr/3801-3900/Moreau3857_GALL.json\n",
      "MAZ_corr/3801-3900/Moreau3858_GBOOKS.json\n",
      "MAZ_corr/3801-3900/Moreau3859_GALL.json\n",
      "MAZ_corr/3801-3900/Moreau3860_GALL.json\n",
      "MAZ_corr/3801-3900/Moreau3861_MAZ.json\n",
      "MAZ_corr/3801-3900/Moreau3862_GALL.json\n",
      "MAZ_corr/3801-3900/Moreau3864_GALL.json\n",
      "MAZ_corr/3801-3900/Moreau3865_GALL.json\n",
      "MAZ_corr/3801-3900/Moreau3866_GALL.json\n",
      "MAZ_corr/3801-3900/Moreau3867_GALL.json\n",
      "MAZ_corr/3801-3900/Moreau3868_GALL.json\n",
      "MAZ_corr/3801-3900/Moreau3869_GALL.json\n",
      "MAZ_corr/3801-3900/Moreau3870_GALL.json\n",
      "MAZ_corr/3801-3900/Moreau3871_GALL.json\n",
      "MAZ_corr/3801-3900/Moreau3872_GALL.json\n",
      "MAZ_corr/3801-3900/Moreau3899_GALL.json\n",
      "MAZ_corr/3801-3900/Moreau3900_MAZ.json\n",
      "MAZ_corr/3901-4000/Moreau3901_MAZ.json\n",
      "MAZ_corr/3901-4000/Moreau3927_GBOOKS.json\n",
      "MAZ_corr/3901-4000/Moreau3930_MAZ.json\n",
      "MAZ_corr/3901-4000/Moreau3947_MAZ.json\n",
      "MAZ_corr/3901-4000/Moreau3950_GBOOKS.json\n",
      "MAZ_corr/3901-4000/Moreau3951_MAZ.json\n",
      "MAZ_corr/3901-4000/Moreau3961_GBOOKS.json\n",
      "MAZ_corr/3901-4000/Moreau3962_MAZ.json\n",
      "MAZ_corr/3901-4000/Moreau3973_GBOOKS.json\n",
      "MAZ_corr/3901-4000/Moreau3974_GBOOKS.json\n",
      "MAZ_corr/3901-4000/Moreau3975_GBOOKS.json\n",
      "MAZ_corr/3901-4000/Moreau3986_GBOOKS.json\n",
      "MAZ_corr/3901-4000/Moreau3998_MAZ.json\n",
      "MAZ_corr/4001-4100/Moreau4004_MAZ.json\n",
      "MAZ_corr/4001-4100/Moreau4026_MAZ.json\n",
      "MAZ_corr/4001-4100/Moreau4075_MAZ.json\n",
      "MAZ_corr/401-500/Moreau412_MAZ.json\n",
      "MAZ_corr/401-500/Moreau439_GBOOKS.json\n",
      "MAZ_corr/401-500/Moreau456_MAZ.json\n",
      "MAZ_corr/401-500/Moreau460_MAZ.json\n",
      "MAZ_corr/401-500/Moreau465-i_MAZ.json\n",
      "MAZ_corr/401-500/Moreau465-ii_MAZ.json\n",
      "MAZ_corr/401-500/Moreau465-iii_MAZ.json\n",
      "MAZ_corr/401-500/Moreau467_MAZ.json\n",
      "MAZ_corr/401-500/Moreau473_MAZ.json\n",
      "MAZ_corr/401-500/Moreau489_MAZ.json\n",
      "MAZ_corr/501-600/Moreau514_MAZ.json\n",
      "MAZ_corr/501-600/Moreau555_MAZ.json\n",
      "MAZ_corr/501-600/Moreau562_GALL.json\n",
      "MAZ_corr/501-600/Moreau563_GALL.json\n",
      "MAZ_corr/501-600/Moreau564_GALL.json\n",
      "MAZ_corr/501-600/Moreau565_GALL.json\n",
      "MAZ_corr/501-600/Moreau566_GALL.json\n",
      "MAZ_corr/501-600/Moreau567_MAZ.json\n",
      "MAZ_corr/501-600/Moreau568_GALL.json\n",
      "MAZ_corr/501-600/Moreau569_GALL.json\n",
      "MAZ_corr/501-600/Moreau570_GALL.json\n",
      "MAZ_corr/501-600/Moreau572_GBOOKS.json\n",
      "MAZ_corr/601-700/Moreau612_MAZ.json\n",
      "MAZ_corr/601-700/Moreau616_MAZ.json\n",
      "MAZ_corr/601-700/Moreau617_MAZ.json\n",
      "MAZ_corr/601-700/Moreau638_GALL.json\n",
      "MAZ_corr/601-700/Moreau648_MAZ.json\n",
      "MAZ_corr/601-700/Moreau652_MAZ.json\n",
      "MAZ_corr/601-700/Moreau659_MAZ.json\n",
      "MAZ_corr/601-700/Moreau665_GBOOKS.json\n",
      "MAZ_corr/601-700/Moreau672_GBOOKS.json\n",
      "MAZ_corr/601-700/Moreau684_GBOOKS.json\n",
      "MAZ_corr/701-800/Moreau705_MAZ.json\n",
      "MAZ_corr/701-800/Moreau729_MAZ.json\n",
      "MAZ_corr/701-800/Moreau738_MAZ.json\n",
      "MAZ_corr/701-800/Moreau782_MAZ.json\n",
      "MAZ_corr/701-800/Moreau783_MAZ.json\n",
      "MAZ_corr/701-800/Moreau786_MAZ.json\n",
      "MAZ_corr/701-800/Moreau790_MAZ.json\n",
      "MAZ_corr/701-800/Moreau797_GALL.json\n",
      "MAZ_corr/701-800/Moreau800_GBOOKS.json\n",
      "MAZ_corr/801-900/Moreau802_MAZ.json\n",
      "MAZ_corr/801-900/Moreau803_GBOOKS.json\n",
      "MAZ_corr/801-900/Moreau804_GBOOKS.json\n",
      "MAZ_corr/801-900/Moreau805_MAZ.json\n",
      "MAZ_corr/801-900/Moreau806_MAZ.json\n",
      "MAZ_corr/801-900/Moreau808_GBOOKS.json\n",
      "MAZ_corr/801-900/Moreau809_GBOOKS.json\n",
      "MAZ_corr/801-900/Moreau819_GBOOKS.json\n",
      "MAZ_corr/801-900/Moreau820_GBOOKS.json\n",
      "MAZ_corr/801-900/Moreau821_GALL.json\n",
      "MAZ_corr/801-900/Moreau822_GBOOKS.json\n",
      "MAZ_corr/801-900/Moreau823_GBOOKS.json\n",
      "MAZ_corr/801-900/Moreau824_GBOOKS.json\n",
      "MAZ_corr/801-900/Moreau825_GBOOKS.json\n",
      "MAZ_corr/801-900/Moreau826_GBOOKS.json\n",
      "MAZ_corr/801-900/Moreau827_GBOOKS.json\n",
      "MAZ_corr/801-900/Moreau829_GBOOKS.json\n",
      "MAZ_corr/801-900/Moreau830_GBOOKS.json\n",
      "MAZ_corr/801-900/Moreau831_GALL.json\n",
      "MAZ_corr/801-900/Moreau834_GBOOKS.json\n",
      "MAZ_corr/801-900/Moreau837_MAZ.json\n",
      "MAZ_corr/801-900/Moreau856_MAZ.json\n",
      "MAZ_corr/801-900/Moreau866_MAZ.json\n",
      "MAZ_corr/801-900/Moreau871_MAZ.json\n",
      "MAZ_corr/901-1000/Moreau902_GBOOKS.json\n",
      "MAZ_corr/901-1000/Moreau906_GBOOKS.json\n",
      "MAZ_corr/901-1000/Moreau907_GBOOKS.json\n",
      "MAZ_corr/901-1000/Moreau908_GBOOKS.json\n",
      "MAZ_corr/901-1000/Moreau909_MAZ.json\n",
      "MAZ_corr/901-1000/Moreau911_MAZ.json\n",
      "MAZ_corr/901-1000/Moreau912_GBOOKS.json\n",
      "MAZ_corr/901-1000/Moreau915_MAZ.json\n",
      "MAZ_corr/901-1000/Moreau917_GBOOKS.json\n",
      "MAZ_corr/901-1000/Moreau918_GBOOKS.json\n",
      "MAZ_corr/901-1000/Moreau919_GBOOKS.json\n",
      "MAZ_corr/901-1000/Moreau921_GBOOKS.json\n",
      "MAZ_corr/901-1000/Moreau925_MAZ.json\n",
      "MAZ_corr/901-1000/Moreau928_GBOOKS.json\n",
      "MAZ_corr/901-1000/Moreau929_GBOOKS.json\n",
      "MAZ_corr/901-1000/Moreau930_GBOOKS.json\n",
      "MAZ_corr/901-1000/Moreau936_MAZ.json\n",
      "MAZ_corr/901-1000/Moreau937_GBOOKS.json\n",
      "MAZ_corr/901-1000/Moreau941_GBOOKS.json\n",
      "MAZ_corr/901-1000/Moreau944_MAZ.json\n",
      "MAZ_corr/901-1000/Moreau947_GBOOKS.json\n",
      "MAZ_corr/901-1000/Moreau950_GBOOKS.json\n",
      "MAZ_corr/901-1000/Moreau954_MAZ.json\n",
      "MAZ_corr/901-1000/Moreau955_GBOOKS.json\n",
      "MAZ_corr/901-1000/Moreau956_GBOOKS.json\n",
      "MAZ_corr/901-1000/Moreau958_GBOOKS.json\n",
      "MAZ_corr/901-1000/Moreau960_GBOOKS.json\n",
      "MAZ_corr/901-1000/Moreau961_GBOOKS.json\n",
      "MAZ_corr/901-1000/Moreau962_GBOOKS.json\n",
      "MAZ_corr/901-1000/Moreau963_GBOOKS.json\n",
      "MAZ_corr/901-1000/Moreau972_GBOOKS.json\n",
      "MAZ_corr/901-1000/Moreau977_GBOOKS.json\n",
      "MAZ_corr/901-1000/Moreau978_GBOOKS.json\n",
      "MAZ_corr/901-1000/Moreau981_GBOOKS.json\n",
      "MAZ_corr/901-1000/Moreau988_MAZ.json\n",
      "MAZ_corr/901-1000/Moreau989_GBOOKS.json\n",
      "MAZ_corr/901-1000/Moreau997_GBOOKS.json\n",
      "MAZ_corr/901-1000/Moreau999_GBOOKS.json\n",
      "MAZ_corr/Bibliotheque_Mazarine/BM48896_MAZ.json\n",
      "MAZ_corr/Bibliotheque_Mazarine/BM49066_MAZ.json\n",
      "MAZ_corr/Bibliotheque_Mazarine/BM49193_MAZ.json\n",
      "MAZ_corr/Bibliotheque_Mazarine/BM49206_MAZ.json\n",
      "MAZ_corr/Bibliotheque_Mazarine/BM49257_MAZ.json\n",
      "MAZ_corr/Bibliotheque_Mazarine/BM49258_MAZ.json\n",
      "MAZ_corr/Bibliotheque_Mazarine/BM49260_MAZ.json\n",
      "MAZ_corr/Bibliotheque_Mazarine/BM49261_MAZ.json\n",
      "MAZ_corr/Bibliotheque_Mazarine/BM49276_MAZ.json\n",
      "MAZ_corr/Bibliotheque_Mazarine/BM49283_MAZ.json\n",
      "MAZ_corr/Bibliotheque_Mazarine/BM49285_MAZ.json\n",
      "MAZ_corr/Bibliotheque_Mazarine/BM49286_MAZ.json\n",
      "MAZ_corr/Bibliotheque_Mazarine/BM49287_MAZ.json\n",
      "MAZ_corr/Bibliotheque_Mazarine/BM49295_MAZ.json\n",
      "MAZ_corr/Bibliotheque_Mazarine/BM49296_MAZ.json\n",
      "MAZ_corr/Bibliotheque_Mazarine/BM49386_MAZ.json\n",
      "MAZ_corr/Bibliotheque_Mazarine/BM49794_MAZ.json\n",
      "MAZ_corr/Bibliotheque_Mazarine/BM49797_MAZ.json\n",
      "MAZ_corr/Bibliotheque_Mazarine/BM49827_MAZ.json\n",
      "MAZ_corr/Bibliotheque_Mazarine/BM49840_MAZ.json\n",
      "MAZ_corr/Bibliotheque_Mazarine/BM50189_MAZ.json\n",
      "MAZ_corr/Labadie/Labadie13_BOR.json\n",
      "MAZ_corr/Labadie/Labadie50_MAZ.json\n",
      "MAZ_corr/Moreau_sup1/Moreau1suppl100_MAZ.json\n",
      "MAZ_corr/Moreau_sup1/Moreau1suppl120_MAZ.json\n",
      "MAZ_corr/Moreau_sup1/Moreau1suppl143_MAZ.json\n",
      "MAZ_corr/Moreau_sup1/Moreau1suppl193_MAZ.json\n",
      "MAZ_corr/Moreau_sup2/Moreau2suppl106_GBOOKS.json\n",
      "MAZ_corr/Moreau_sup2/Moreau2suppl111_GBOOKS.json\n",
      "MAZ_corr/Moreau_sup2/Moreau2suppl112_GBOOKS.json\n",
      "MAZ_corr/Moreau_sup2/Moreau2suppl129_GBOOKS.json\n",
      "MAZ_corr/Moreau_sup2/Moreau2suppl130_MAZ.json\n",
      "MAZ_corr/Moreau_sup2/Moreau2suppl132_MAZ.json\n",
      "MAZ_corr/Moreau_sup2/Moreau2suppl134_GBOOKS.json\n",
      "MAZ_corr/Moreau_sup2/Moreau2suppl135_GBOOKS.json\n",
      "MAZ_corr/Moreau_sup2/Moreau2suppl176_GBOOKS.json\n",
      "MAZ_corr/Moreau_sup2/Moreau2suppl197_GBOOKS.json\n",
      "MAZ_corr/Moreau_sup2/Moreau2suppl1_MAZ.json\n",
      "MAZ_corr/Moreau_sup2/Moreau2suppl203_GALL.json\n",
      "MAZ_corr/Moreau_sup2/Moreau2suppl43_GBOOKS.json\n",
      "MAZ_corr/Moreau_sup2/Moreau2suppl64_GBOOKS.json\n",
      "MAZ_corr/Moreau_sup2/Moreau2suppl65_GBOOKS.json\n",
      "MAZ_corr/Moreau_sup2/Moreau2suppl66_GBOOKS.json\n",
      "MAZ_corr/Moreau_sup2/Moreau2suppl7_MAZ.json\n",
      "MAZ_corr/Moreau_sup2/Moreau2suppl85_MAZ.json\n",
      "MAZ_corr/Moreau_sup2/Moreau2suppl8_MAZ.json\n",
      "MAZ_corr/Moreau_sup3/Moreau3suppl23_GALL.json\n",
      "MAZ_corr/Moreau_sup3/Moreau3suppl47_GALL.json\n",
      "MAZ_corr/Moreau_sup3/Moreau3suppl51_GALL.json\n",
      "MAZ_corr/Moreau_sup3/Moreau3suppl5_GBOOKS.json\n",
      "MAZ_corr/Moreau_sup3/Moreau3suppl62_MAZ.json\n",
      "MAZ_corr/Socard/Socard58_MAZ.json\n",
      "MAZ_corr/Socard/Socard79_MAZ.json\n"
     ]
    }
   ],
   "source": [
    "for e in files_by_type[\"B\"]:\n",
    "    print(e)"
   ],
   "metadata": {
    "collapsed": false,
    "ExecuteTime": {
     "end_time": "2024-01-26T18:25:59.917182647Z",
     "start_time": "2024-01-26T18:25:59.872204410Z"
    }
   },
   "id": "f42998857b72973c",
   "execution_count": 13
  },
  {
   "cell_type": "code",
   "outputs": [],
   "source": [
    "def how_many_pages(lst1, lst2):  \n",
    "    if not lst1 or not lst2:\n",
    "        raise ValueError(\"Empty list\")\n",
    "    \n",
    "    how_many = 0\n",
    "\n",
    "    if len(lst1) < len(lst2):\n",
    "        lst1, lst2 = lst2, lst1\n",
    "        \n",
    "    for p in lst1:\n",
    "        if p not in lst2:\n",
    "            how_many += 1\n",
    "            \n",
    "            \n",
    "    return how_many\n",
    "\n"
   ],
   "metadata": {
    "collapsed": false,
    "ExecuteTime": {
     "end_time": "2024-01-26T18:25:59.954409209Z",
     "start_time": "2024-01-26T18:25:59.909679110Z"
    }
   },
   "id": "6c8818ea631acfb",
   "execution_count": 14
  },
  {
   "cell_type": "code",
   "outputs": [],
   "source": [
    "how_many_for_b = []\n",
    "toremove = []\n",
    "\n",
    "for file_c in files_by_type[\"B\"]:\n",
    "    file_nc = non_corr / file_c.relative_to(corr)\n",
    "    \n",
    "    with open(file_c) as f:\n",
    "        c = json.load(f)\n",
    "    with open(file_nc) as f:\n",
    "        nc = json.load(f)\n",
    "        \n",
    "    txt_nc = nc[\"texte\"]\n",
    "    txt_c = c[\"texte\"]\n",
    "    \n",
    "    try:\n",
    "        hmp = how_many_pages(txt_nc, txt_c)        \n",
    "    except ValueError:\n",
    "        toremove.append(file_c)\n",
    "        files_by_type[\"C\"].append(file_c)\n",
    "        continue\n",
    "        \n",
    "    how_many_for_b.append(\n",
    "        {\n",
    "            \"file\": file_c,\n",
    "            \"how_many\": hmp,\n",
    "            \"len_c\": len(txt_c),\n",
    "            \"len_nc\": len(txt_nc),\n",
    "            \"same_len\": len(txt_c) == len(txt_nc),\n",
    "            \"ratio\": hmp / max(len(txt_c), len(txt_nc))\n",
    "        }\n",
    "    )\n",
    "    \n",
    "for e in toremove:\n",
    "    files_by_type[\"B\"].remove(e)\n",
    "    "
   ],
   "metadata": {
    "collapsed": false,
    "ExecuteTime": {
     "end_time": "2024-01-26T18:26:00.386712583Z",
     "start_time": "2024-01-26T18:25:59.950375999Z"
    }
   },
   "id": "b13ce5d3e2cc846b",
   "execution_count": 15
  },
  {
   "cell_type": "code",
   "outputs": [
    {
     "data": {
      "text/plain": "[{'file': PosixPath('MAZ_corr/1-100/Moreau19_GBOOKS.json'),\n  'how_many': 23,\n  'len_c': 21,\n  'len_nc': 23,\n  'same_len': False,\n  'ratio': 1.0},\n {'file': PosixPath('MAZ_corr/1-100/Moreau30_MAZ.json'),\n  'how_many': 15,\n  'len_c': 14,\n  'len_nc': 15,\n  'same_len': False,\n  'ratio': 1.0},\n {'file': PosixPath('MAZ_corr/1-100/Moreau3_MAZ.json'),\n  'how_many': 4,\n  'len_c': 16,\n  'len_nc': 16,\n  'same_len': True,\n  'ratio': 0.25},\n {'file': PosixPath('MAZ_corr/1-100/Moreau42_MAZ.json'),\n  'how_many': 1,\n  'len_c': 4,\n  'len_nc': 4,\n  'same_len': True,\n  'ratio': 0.25},\n {'file': PosixPath('MAZ_corr/1-100/Moreau59_MAZ.json'),\n  'how_many': 23,\n  'len_c': 20,\n  'len_nc': 23,\n  'same_len': False,\n  'ratio': 1.0},\n {'file': PosixPath('MAZ_corr/1-100/Moreau81_MAZ.json'),\n  'how_many': 11,\n  'len_c': 9,\n  'len_nc': 11,\n  'same_len': False,\n  'ratio': 1.0},\n {'file': PosixPath('MAZ_corr/1-100/Moreau83_MAZ.json'),\n  'how_many': 31,\n  'len_c': 22,\n  'len_nc': 31,\n  'same_len': False,\n  'ratio': 1.0},\n {'file': PosixPath('MAZ_corr/1-100/Moreau95_GBOOKS.json'),\n  'how_many': 13,\n  'len_c': 15,\n  'len_nc': 16,\n  'same_len': False,\n  'ratio': 0.8125},\n {'file': PosixPath('MAZ_corr/1-100/Moreau97_GBOOKS.json'),\n  'how_many': 7,\n  'len_c': 6,\n  'len_nc': 7,\n  'same_len': False,\n  'ratio': 1.0},\n {'file': PosixPath('MAZ_corr/1-100/Moreau98_MAZ.json'),\n  'how_many': 39,\n  'len_c': 33,\n  'len_nc': 39,\n  'same_len': False,\n  'ratio': 1.0},\n {'file': PosixPath('MAZ_corr/1-100/Moreau99_GBOOKS.json'),\n  'how_many': 21,\n  'len_c': 20,\n  'len_nc': 21,\n  'same_len': False,\n  'ratio': 1.0},\n {'file': PosixPath('MAZ_corr/1001-1100/Moreau1001_GBOOKS.json'),\n  'how_many': 7,\n  'len_c': 6,\n  'len_nc': 7,\n  'same_len': False,\n  'ratio': 1.0},\n {'file': PosixPath('MAZ_corr/1001-1100/Moreau1002_GBOOKS.json'),\n  'how_many': 8,\n  'len_c': 7,\n  'len_nc': 8,\n  'same_len': False,\n  'ratio': 1.0},\n {'file': PosixPath('MAZ_corr/1001-1100/Moreau1005_GBOOKS.json'),\n  'how_many': 8,\n  'len_c': 8,\n  'len_nc': 8,\n  'same_len': True,\n  'ratio': 1.0},\n {'file': PosixPath('MAZ_corr/1001-1100/Moreau1006_MAZ.json'),\n  'how_many': 31,\n  'len_c': 25,\n  'len_nc': 31,\n  'same_len': False,\n  'ratio': 1.0},\n {'file': PosixPath('MAZ_corr/1001-1100/Moreau1007_GBOOKS.json'),\n  'how_many': 5,\n  'len_c': 5,\n  'len_nc': 5,\n  'same_len': True,\n  'ratio': 1.0},\n {'file': PosixPath('MAZ_corr/1001-1100/Moreau1008_GBOOKS.json'),\n  'how_many': 7,\n  'len_c': 7,\n  'len_nc': 7,\n  'same_len': True,\n  'ratio': 1.0},\n {'file': PosixPath('MAZ_corr/1001-1100/Moreau1009_MAZ.json'),\n  'how_many': 38,\n  'len_c': 36,\n  'len_nc': 38,\n  'same_len': False,\n  'ratio': 1.0},\n {'file': PosixPath('MAZ_corr/1001-1100/Moreau1010_GBOOKS.json'),\n  'how_many': 5,\n  'len_c': 5,\n  'len_nc': 5,\n  'same_len': True,\n  'ratio': 1.0},\n {'file': PosixPath('MAZ_corr/1001-1100/Moreau1012_GBOOKS.json'),\n  'how_many': 6,\n  'len_c': 6,\n  'len_nc': 5,\n  'same_len': False,\n  'ratio': 1.0},\n {'file': PosixPath('MAZ_corr/1001-1100/Moreau1016_GBOOKS.json'),\n  'how_many': 5,\n  'len_c': 7,\n  'len_nc': 7,\n  'same_len': True,\n  'ratio': 0.7142857142857143},\n {'file': PosixPath('MAZ_corr/1001-1100/Moreau1018_GBOOKS.json'),\n  'how_many': 7,\n  'len_c': 7,\n  'len_nc': 7,\n  'same_len': True,\n  'ratio': 1.0},\n {'file': PosixPath('MAZ_corr/1001-1100/Moreau1019_GBOOKS.json'),\n  'how_many': 6,\n  'len_c': 5,\n  'len_nc': 6,\n  'same_len': False,\n  'ratio': 1.0},\n {'file': PosixPath('MAZ_corr/1001-1100/Moreau1020_GBOOKS.json'),\n  'how_many': 19,\n  'len_c': 17,\n  'len_nc': 19,\n  'same_len': False,\n  'ratio': 1.0},\n {'file': PosixPath('MAZ_corr/1001-1100/Moreau1021_GBOOKS.json'),\n  'how_many': 3,\n  'len_c': 3,\n  'len_nc': 3,\n  'same_len': True,\n  'ratio': 1.0},\n {'file': PosixPath('MAZ_corr/1001-1100/Moreau1023_GBOOKS.json'),\n  'how_many': 15,\n  'len_c': 15,\n  'len_nc': 14,\n  'same_len': False,\n  'ratio': 1.0},\n {'file': PosixPath('MAZ_corr/1001-1100/Moreau1024_GBOOKS.json'),\n  'how_many': 6,\n  'len_c': 4,\n  'len_nc': 6,\n  'same_len': False,\n  'ratio': 1.0},\n {'file': PosixPath('MAZ_corr/1001-1100/Moreau1030_GBOOKS.json'),\n  'how_many': 3,\n  'len_c': 31,\n  'len_nc': 32,\n  'same_len': False,\n  'ratio': 0.09375},\n {'file': PosixPath('MAZ_corr/1001-1100/Moreau1035_GBOOKS.json'),\n  'how_many': 21,\n  'len_c': 22,\n  'len_nc': 22,\n  'same_len': True,\n  'ratio': 0.9545454545454546},\n {'file': PosixPath('MAZ_corr/1001-1100/Moreau1036_GBOOKS.json'),\n  'how_many': 6,\n  'len_c': 7,\n  'len_nc': 7,\n  'same_len': True,\n  'ratio': 0.8571428571428571},\n {'file': PosixPath('MAZ_corr/1001-1100/Moreau1037_GBOOKS.json'),\n  'how_many': 6,\n  'len_c': 7,\n  'len_nc': 7,\n  'same_len': True,\n  'ratio': 0.8571428571428571},\n {'file': PosixPath('MAZ_corr/1001-1100/Moreau1040_MAZ.json'),\n  'how_many': 14,\n  'len_c': 15,\n  'len_nc': 15,\n  'same_len': True,\n  'ratio': 0.9333333333333333},\n {'file': PosixPath('MAZ_corr/1001-1100/Moreau1041_GBOOKS.json'),\n  'how_many': 1,\n  'len_c': 8,\n  'len_nc': 8,\n  'same_len': True,\n  'ratio': 0.125},\n {'file': PosixPath('MAZ_corr/1001-1100/Moreau1043_GBOOKS.json'),\n  'how_many': 5,\n  'len_c': 6,\n  'len_nc': 6,\n  'same_len': True,\n  'ratio': 0.8333333333333334},\n {'file': PosixPath('MAZ_corr/1001-1100/Moreau1047_GBOOKS.json'),\n  'how_many': 6,\n  'len_c': 7,\n  'len_nc': 7,\n  'same_len': True,\n  'ratio': 0.8571428571428571},\n {'file': PosixPath('MAZ_corr/1001-1100/Moreau1053_GBOOKS.json'),\n  'how_many': 39,\n  'len_c': 42,\n  'len_nc': 42,\n  'same_len': True,\n  'ratio': 0.9285714285714286},\n {'file': PosixPath('MAZ_corr/1001-1100/Moreau1054_GBOOKS.json'),\n  'how_many': 22,\n  'len_c': 23,\n  'len_nc': 23,\n  'same_len': True,\n  'ratio': 0.9565217391304348},\n {'file': PosixPath('MAZ_corr/1001-1100/Moreau1056_GALL.json'),\n  'how_many': 2,\n  'len_c': 6,\n  'len_nc': 6,\n  'same_len': True,\n  'ratio': 0.3333333333333333},\n {'file': PosixPath('MAZ_corr/1001-1100/Moreau1059_GBOOKS.json'),\n  'how_many': 26,\n  'len_c': 26,\n  'len_nc': 26,\n  'same_len': True,\n  'ratio': 1.0},\n {'file': PosixPath('MAZ_corr/1001-1100/Moreau1060_GBOOKS.json'),\n  'how_many': 2,\n  'len_c': 4,\n  'len_nc': 4,\n  'same_len': True,\n  'ratio': 0.5},\n {'file': PosixPath('MAZ_corr/1001-1100/Moreau1068_GBOOKS.json'),\n  'how_many': 5,\n  'len_c': 6,\n  'len_nc': 6,\n  'same_len': True,\n  'ratio': 0.8333333333333334},\n {'file': PosixPath('MAZ_corr/1001-1100/Moreau1072_MAZ.json'),\n  'how_many': 6,\n  'len_c': 7,\n  'len_nc': 7,\n  'same_len': True,\n  'ratio': 0.8571428571428571},\n {'file': PosixPath('MAZ_corr/1001-1100/Moreau1077_GALL.json'),\n  'how_many': 6,\n  'len_c': 7,\n  'len_nc': 7,\n  'same_len': True,\n  'ratio': 0.8571428571428571},\n {'file': PosixPath('MAZ_corr/1001-1100/Moreau1078_MAZ.json'),\n  'how_many': 4,\n  'len_c': 6,\n  'len_nc': 6,\n  'same_len': True,\n  'ratio': 0.6666666666666666},\n {'file': PosixPath('MAZ_corr/1001-1100/Moreau1080_GBOOKS.json'),\n  'how_many': 6,\n  'len_c': 7,\n  'len_nc': 7,\n  'same_len': True,\n  'ratio': 0.8571428571428571},\n {'file': PosixPath('MAZ_corr/1001-1100/Moreau1081_GBOOKS.json'),\n  'how_many': 7,\n  'len_c': 9,\n  'len_nc': 9,\n  'same_len': True,\n  'ratio': 0.7777777777777778},\n {'file': PosixPath('MAZ_corr/1001-1100/Moreau1084_GALL.json'),\n  'how_many': 1,\n  'len_c': 10,\n  'len_nc': 10,\n  'same_len': True,\n  'ratio': 0.1},\n {'file': PosixPath('MAZ_corr/1001-1100/Moreau1085-i_MAZ.json'),\n  'how_many': 7,\n  'len_c': 10,\n  'len_nc': 10,\n  'same_len': True,\n  'ratio': 0.7},\n {'file': PosixPath('MAZ_corr/1001-1100/Moreau1085-ii_MAZ.json'),\n  'how_many': 10,\n  'len_c': 11,\n  'len_nc': 11,\n  'same_len': True,\n  'ratio': 0.9090909090909091},\n {'file': PosixPath('MAZ_corr/1001-1100/Moreau1089_GBOOKS.json'),\n  'how_many': 6,\n  'len_c': 7,\n  'len_nc': 7,\n  'same_len': True,\n  'ratio': 0.8571428571428571},\n {'file': PosixPath('MAZ_corr/1001-1100/Moreau1090_GBOOKS.json'),\n  'how_many': 6,\n  'len_c': 7,\n  'len_nc': 7,\n  'same_len': True,\n  'ratio': 0.8571428571428571},\n {'file': PosixPath('MAZ_corr/1001-1100/Moreau1092_GALL.json'),\n  'how_many': 10,\n  'len_c': 10,\n  'len_nc': 10,\n  'same_len': True,\n  'ratio': 1.0},\n {'file': PosixPath('MAZ_corr/1001-1100/Moreau1093_MAZ.json'),\n  'how_many': 6,\n  'len_c': 7,\n  'len_nc': 7,\n  'same_len': True,\n  'ratio': 0.8571428571428571},\n {'file': PosixPath('MAZ_corr/1001-1100/Moreau1094_GBOOKS.json'),\n  'how_many': 30,\n  'len_c': 31,\n  'len_nc': 31,\n  'same_len': True,\n  'ratio': 0.967741935483871},\n {'file': PosixPath('MAZ_corr/1001-1100/Moreau1097_GBOOKS.json'),\n  'how_many': 14,\n  'len_c': 15,\n  'len_nc': 15,\n  'same_len': True,\n  'ratio': 0.9333333333333333},\n {'file': PosixPath('MAZ_corr/101-200/Moreau101_GBOOKS.json'),\n  'how_many': 10,\n  'len_c': 11,\n  'len_nc': 11,\n  'same_len': True,\n  'ratio': 0.9090909090909091},\n {'file': PosixPath('MAZ_corr/101-200/Moreau104_GBOOKS.json'),\n  'how_many': 7,\n  'len_c': 8,\n  'len_nc': 8,\n  'same_len': True,\n  'ratio': 0.875},\n {'file': PosixPath('MAZ_corr/101-200/Moreau105_MAZ.json'),\n  'how_many': 38,\n  'len_c': 40,\n  'len_nc': 40,\n  'same_len': True,\n  'ratio': 0.95},\n {'file': PosixPath('MAZ_corr/101-200/Moreau109_GBOOKS.json'),\n  'how_many': 34,\n  'len_c': 35,\n  'len_nc': 35,\n  'same_len': True,\n  'ratio': 0.9714285714285714},\n {'file': PosixPath('MAZ_corr/101-200/Moreau110_GBOOKS.json'),\n  'how_many': 10,\n  'len_c': 11,\n  'len_nc': 11,\n  'same_len': True,\n  'ratio': 0.9090909090909091},\n {'file': PosixPath('MAZ_corr/101-200/Moreau120_GBOOKS.json'),\n  'how_many': 13,\n  'len_c': 14,\n  'len_nc': 14,\n  'same_len': True,\n  'ratio': 0.9285714285714286},\n {'file': PosixPath('MAZ_corr/101-200/Moreau121_GALL.json'),\n  'how_many': 1,\n  'len_c': 9,\n  'len_nc': 9,\n  'same_len': True,\n  'ratio': 0.1111111111111111},\n {'file': PosixPath('MAZ_corr/101-200/Moreau123_GBOOKS.json'),\n  'how_many': 14,\n  'len_c': 15,\n  'len_nc': 15,\n  'same_len': True,\n  'ratio': 0.9333333333333333},\n {'file': PosixPath('MAZ_corr/101-200/Moreau124_GALL.json'),\n  'how_many': 1,\n  'len_c': 10,\n  'len_nc': 10,\n  'same_len': True,\n  'ratio': 0.1},\n {'file': PosixPath('MAZ_corr/101-200/Moreau125_GBOOKS.json'),\n  'how_many': 10,\n  'len_c': 11,\n  'len_nc': 11,\n  'same_len': True,\n  'ratio': 0.9090909090909091},\n {'file': PosixPath('MAZ_corr/101-200/Moreau126_MAZ.json'),\n  'how_many': 85,\n  'len_c': 86,\n  'len_nc': 85,\n  'same_len': False,\n  'ratio': 0.9883720930232558},\n {'file': PosixPath('MAZ_corr/101-200/Moreau127_MAZ.json'),\n  'how_many': 37,\n  'len_c': 38,\n  'len_nc': 38,\n  'same_len': True,\n  'ratio': 0.9736842105263158},\n {'file': PosixPath('MAZ_corr/101-200/Moreau131_MAZ.json'),\n  'how_many': 18,\n  'len_c': 19,\n  'len_nc': 19,\n  'same_len': True,\n  'ratio': 0.9473684210526315},\n {'file': PosixPath('MAZ_corr/101-200/Moreau144_MAZ.json'),\n  'how_many': 7,\n  'len_c': 8,\n  'len_nc': 8,\n  'same_len': True,\n  'ratio': 0.875},\n {'file': PosixPath('MAZ_corr/101-200/Moreau148_MAZ.json'),\n  'how_many': 4,\n  'len_c': 5,\n  'len_nc': 5,\n  'same_len': True,\n  'ratio': 0.8},\n {'file': PosixPath('MAZ_corr/101-200/Moreau164_MAZ.json'),\n  'how_many': 4,\n  'len_c': 5,\n  'len_nc': 5,\n  'same_len': True,\n  'ratio': 0.8},\n {'file': PosixPath('MAZ_corr/101-200/Moreau166_MAZ.json'),\n  'how_many': 4,\n  'len_c': 7,\n  'len_nc': 7,\n  'same_len': True,\n  'ratio': 0.5714285714285714},\n {'file': PosixPath('MAZ_corr/101-200/Moreau184_MAZ.json'),\n  'how_many': 5,\n  'len_c': 5,\n  'len_nc': 5,\n  'same_len': True,\n  'ratio': 1.0},\n {'file': PosixPath('MAZ_corr/101-200/Moreau196_MAZ.json'),\n  'how_many': 2,\n  'len_c': 2,\n  'len_nc': 2,\n  'same_len': True,\n  'ratio': 1.0},\n {'file': PosixPath('MAZ_corr/101-200/Moreau197_MAZ.json'),\n  'how_many': 4,\n  'len_c': 5,\n  'len_nc': 5,\n  'same_len': True,\n  'ratio': 0.8},\n {'file': PosixPath('MAZ_corr/101-200/Moreau200_MAZ.json'),\n  'how_many': 7,\n  'len_c': 7,\n  'len_nc': 7,\n  'same_len': True,\n  'ratio': 1.0},\n {'file': PosixPath('MAZ_corr/1101-1200/Moreau1102_MAZ.json'),\n  'how_many': 31,\n  'len_c': 31,\n  'len_nc': 31,\n  'same_len': True,\n  'ratio': 1.0},\n {'file': PosixPath('MAZ_corr/1101-1200/Moreau1104_MAZ.json'),\n  'how_many': 13,\n  'len_c': 14,\n  'len_nc': 14,\n  'same_len': True,\n  'ratio': 0.9285714285714286},\n {'file': PosixPath('MAZ_corr/1101-1200/Moreau1106_GBOOKS.json'),\n  'how_many': 8,\n  'len_c': 8,\n  'len_nc': 7,\n  'same_len': False,\n  'ratio': 1.0},\n {'file': PosixPath('MAZ_corr/1101-1200/Moreau1107_MAZ.json'),\n  'how_many': 25,\n  'len_c': 26,\n  'len_nc': 26,\n  'same_len': True,\n  'ratio': 0.9615384615384616},\n {'file': PosixPath('MAZ_corr/1101-1200/Moreau1113_MAZ.json'),\n  'how_many': 6,\n  'len_c': 14,\n  'len_nc': 14,\n  'same_len': True,\n  'ratio': 0.42857142857142855},\n {'file': PosixPath('MAZ_corr/1101-1200/Moreau1124_MAZ.json'),\n  'how_many': 7,\n  'len_c': 7,\n  'len_nc': 7,\n  'same_len': True,\n  'ratio': 1.0},\n {'file': PosixPath('MAZ_corr/1101-1200/Moreau1125_MAZ.json'),\n  'how_many': 11,\n  'len_c': 13,\n  'len_nc': 13,\n  'same_len': True,\n  'ratio': 0.8461538461538461},\n {'file': PosixPath('MAZ_corr/1101-1200/Moreau1160_GBOOKS.json'),\n  'how_many': 1,\n  'len_c': 19,\n  'len_nc': 19,\n  'same_len': True,\n  'ratio': 0.05263157894736842},\n {'file': PosixPath('MAZ_corr/1101-1200/Moreau1161_GALL.json'),\n  'how_many': 2,\n  'len_c': 7,\n  'len_nc': 7,\n  'same_len': True,\n  'ratio': 0.2857142857142857},\n {'file': PosixPath('MAZ_corr/1101-1200/Moreau1174_MAZ.json'),\n  'how_many': 1,\n  'len_c': 8,\n  'len_nc': 8,\n  'same_len': True,\n  'ratio': 0.125},\n {'file': PosixPath('MAZ_corr/1101-1200/Moreau1183_MAZ.json'),\n  'how_many': 30,\n  'len_c': 31,\n  'len_nc': 31,\n  'same_len': True,\n  'ratio': 0.967741935483871},\n {'file': PosixPath('MAZ_corr/1101-1200/Moreau1184_MAZ.json'),\n  'how_many': 14,\n  'len_c': 14,\n  'len_nc': 14,\n  'same_len': True,\n  'ratio': 1.0},\n {'file': PosixPath('MAZ_corr/1101-1200/Moreau1200_GALL.json'),\n  'how_many': 6,\n  'len_c': 5,\n  'len_nc': 6,\n  'same_len': False,\n  'ratio': 1.0},\n {'file': PosixPath('MAZ_corr/1201-1300/Moreau1210_GBOOKS.json'),\n  'how_many': 6,\n  'len_c': 7,\n  'len_nc': 7,\n  'same_len': True,\n  'ratio': 0.8571428571428571},\n {'file': PosixPath('MAZ_corr/1201-1300/Moreau1216_MAZ.json'),\n  'how_many': 4,\n  'len_c': 47,\n  'len_nc': 47,\n  'same_len': True,\n  'ratio': 0.0851063829787234},\n {'file': PosixPath('MAZ_corr/1201-1300/Moreau1217_GBOOKS.json'),\n  'how_many': 6,\n  'len_c': 7,\n  'len_nc': 7,\n  'same_len': True,\n  'ratio': 0.8571428571428571},\n {'file': PosixPath('MAZ_corr/1201-1300/Moreau1218_GBOOKS.json'),\n  'how_many': 3,\n  'len_c': 29,\n  'len_nc': 29,\n  'same_len': True,\n  'ratio': 0.10344827586206896},\n {'file': PosixPath('MAZ_corr/1201-1300/Moreau1220_GBOOKS.json'),\n  'how_many': 5,\n  'len_c': 5,\n  'len_nc': 5,\n  'same_len': True,\n  'ratio': 1.0},\n {'file': PosixPath('MAZ_corr/1201-1300/Moreau1225_GBOOKS.json'),\n  'how_many': 10,\n  'len_c': 14,\n  'len_nc': 14,\n  'same_len': True,\n  'ratio': 0.7142857142857143},\n {'file': PosixPath('MAZ_corr/1201-1300/Moreau1228_GALL.json'),\n  'how_many': 9,\n  'len_c': 10,\n  'len_nc': 10,\n  'same_len': True,\n  'ratio': 0.9},\n {'file': PosixPath('MAZ_corr/1201-1300/Moreau1241_GBOOKS.json'),\n  'how_many': 6,\n  'len_c': 6,\n  'len_nc': 6,\n  'same_len': True,\n  'ratio': 1.0},\n {'file': PosixPath('MAZ_corr/1201-1300/Moreau1242_GBOOKS.json'),\n  'how_many': 10,\n  'len_c': 11,\n  'len_nc': 11,\n  'same_len': True,\n  'ratio': 0.9090909090909091},\n {'file': PosixPath('MAZ_corr/1201-1300/Moreau1244_GBOOKS.json'),\n  'how_many': 20,\n  'len_c': 21,\n  'len_nc': 21,\n  'same_len': True,\n  'ratio': 0.9523809523809523},\n {'file': PosixPath('MAZ_corr/1201-1300/Moreau1248_GBOOKS.json'),\n  'how_many': 6,\n  'len_c': 6,\n  'len_nc': 6,\n  'same_len': True,\n  'ratio': 1.0},\n {'file': PosixPath('MAZ_corr/1201-1300/Moreau1249_GBOOKS.json'),\n  'how_many': 5,\n  'len_c': 7,\n  'len_nc': 7,\n  'same_len': True,\n  'ratio': 0.7142857142857143},\n {'file': PosixPath('MAZ_corr/1201-1300/Moreau1251_GBOOKS.json'),\n  'how_many': 30,\n  'len_c': 31,\n  'len_nc': 31,\n  'same_len': True,\n  'ratio': 0.967741935483871},\n {'file': PosixPath('MAZ_corr/1201-1300/Moreau1253_GBOOKS.json'),\n  'how_many': 6,\n  'len_c': 7,\n  'len_nc': 7,\n  'same_len': True,\n  'ratio': 0.8571428571428571},\n {'file': PosixPath('MAZ_corr/1201-1300/Moreau1255_GBOOKS.json'),\n  'how_many': 6,\n  'len_c': 7,\n  'len_nc': 7,\n  'same_len': True,\n  'ratio': 0.8571428571428571},\n {'file': PosixPath('MAZ_corr/1201-1300/Moreau1256_MAZ.json'),\n  'how_many': 1,\n  'len_c': 19,\n  'len_nc': 19,\n  'same_len': True,\n  'ratio': 0.05263157894736842},\n {'file': PosixPath('MAZ_corr/1201-1300/Moreau1257_GBOOKS.json'),\n  'how_many': 7,\n  'len_c': 7,\n  'len_nc': 7,\n  'same_len': True,\n  'ratio': 1.0},\n {'file': PosixPath('MAZ_corr/1201-1300/Moreau1260_GBOOKS.json'),\n  'how_many': 4,\n  'len_c': 5,\n  'len_nc': 5,\n  'same_len': True,\n  'ratio': 0.8},\n {'file': PosixPath('MAZ_corr/1201-1300/Moreau1264_GBOOKS.json'),\n  'how_many': 10,\n  'len_c': 10,\n  'len_nc': 10,\n  'same_len': True,\n  'ratio': 1.0},\n {'file': PosixPath('MAZ_corr/1201-1300/Moreau1267_GALL.json'),\n  'how_many': 1,\n  'len_c': 4,\n  'len_nc': 4,\n  'same_len': True,\n  'ratio': 0.25},\n {'file': PosixPath('MAZ_corr/1201-1300/Moreau1271_GBOOKS.json'),\n  'how_many': 6,\n  'len_c': 7,\n  'len_nc': 7,\n  'same_len': True,\n  'ratio': 0.8571428571428571},\n {'file': PosixPath('MAZ_corr/1201-1300/Moreau1272_GBOOKS.json'),\n  'how_many': 10,\n  'len_c': 11,\n  'len_nc': 11,\n  'same_len': True,\n  'ratio': 0.9090909090909091},\n {'file': PosixPath('MAZ_corr/1201-1300/Moreau1274_GALL.json'),\n  'how_many': 14,\n  'len_c': 15,\n  'len_nc': 15,\n  'same_len': True,\n  'ratio': 0.9333333333333333},\n {'file': PosixPath('MAZ_corr/1201-1300/Moreau1275_GBOOKS.json'),\n  'how_many': 7,\n  'len_c': 8,\n  'len_nc': 8,\n  'same_len': True,\n  'ratio': 0.875},\n {'file': PosixPath('MAZ_corr/1201-1300/Moreau1276_GBOOKS.json'),\n  'how_many': 6,\n  'len_c': 7,\n  'len_nc': 7,\n  'same_len': True,\n  'ratio': 0.8571428571428571},\n {'file': PosixPath('MAZ_corr/1201-1300/Moreau1278_GBOOKS.json'),\n  'how_many': 6,\n  'len_c': 7,\n  'len_nc': 7,\n  'same_len': True,\n  'ratio': 0.8571428571428571},\n {'file': PosixPath('MAZ_corr/1201-1300/Moreau1279_GBOOKS.json'),\n  'how_many': 23,\n  'len_c': 23,\n  'len_nc': 23,\n  'same_len': True,\n  'ratio': 1.0},\n {'file': PosixPath('MAZ_corr/1201-1300/Moreau1282_MAZ.json'),\n  'how_many': 17,\n  'len_c': 17,\n  'len_nc': 17,\n  'same_len': True,\n  'ratio': 1.0},\n {'file': PosixPath('MAZ_corr/1201-1300/Moreau1283_MAZ.json'),\n  'how_many': 15,\n  'len_c': 15,\n  'len_nc': 15,\n  'same_len': True,\n  'ratio': 1.0},\n {'file': PosixPath('MAZ_corr/1201-1300/Moreau1284_GBOOKS.json'),\n  'how_many': 4,\n  'len_c': 4,\n  'len_nc': 4,\n  'same_len': True,\n  'ratio': 1.0},\n {'file': PosixPath('MAZ_corr/1201-1300/Moreau1285_GBOOKS.json'),\n  'how_many': 6,\n  'len_c': 7,\n  'len_nc': 7,\n  'same_len': True,\n  'ratio': 0.8571428571428571},\n {'file': PosixPath('MAZ_corr/1201-1300/Moreau1287_GBOOKS.json'),\n  'how_many': 46,\n  'len_c': 47,\n  'len_nc': 47,\n  'same_len': True,\n  'ratio': 0.9787234042553191},\n {'file': PosixPath('MAZ_corr/1201-1300/Moreau1288_GBOOKS.json'),\n  'how_many': 9,\n  'len_c': 10,\n  'len_nc': 10,\n  'same_len': True,\n  'ratio': 0.9},\n {'file': PosixPath('MAZ_corr/1201-1300/Moreau1289_GBOOKS.json'),\n  'how_many': 3,\n  'len_c': 14,\n  'len_nc': 14,\n  'same_len': True,\n  'ratio': 0.21428571428571427},\n {'file': PosixPath('MAZ_corr/1201-1300/Moreau1290_GBOOKS.json'),\n  'how_many': 6,\n  'len_c': 7,\n  'len_nc': 7,\n  'same_len': True,\n  'ratio': 0.8571428571428571},\n {'file': PosixPath('MAZ_corr/1201-1300/Moreau1293_GBOOKS.json'),\n  'how_many': 5,\n  'len_c': 6,\n  'len_nc': 6,\n  'same_len': True,\n  'ratio': 0.8333333333333334},\n {'file': PosixPath('MAZ_corr/1201-1300/Moreau1294_GBOOKS.json'),\n  'how_many': 6,\n  'len_c': 7,\n  'len_nc': 7,\n  'same_len': True,\n  'ratio': 0.8571428571428571},\n {'file': PosixPath('MAZ_corr/1201-1300/Moreau1299_GBOOKS.json'),\n  'how_many': 6,\n  'len_c': 7,\n  'len_nc': 7,\n  'same_len': True,\n  'ratio': 0.8571428571428571},\n {'file': PosixPath('MAZ_corr/1301-1400/Moreau1314_MAZ.json'),\n  'how_many': 18,\n  'len_c': 18,\n  'len_nc': 18,\n  'same_len': True,\n  'ratio': 1.0},\n {'file': PosixPath('MAZ_corr/1301-1400/Moreau1317_GBOOKS.json'),\n  'how_many': 3,\n  'len_c': 8,\n  'len_nc': 8,\n  'same_len': True,\n  'ratio': 0.375},\n {'file': PosixPath('MAZ_corr/1301-1400/Moreau1324_MAZ.json'),\n  'how_many': 18,\n  'len_c': 18,\n  'len_nc': 18,\n  'same_len': True,\n  'ratio': 1.0},\n {'file': PosixPath('MAZ_corr/1301-1400/Moreau1326_GBOOKS.json'),\n  'how_many': 3,\n  'len_c': 11,\n  'len_nc': 11,\n  'same_len': True,\n  'ratio': 0.2727272727272727},\n {'file': PosixPath('MAZ_corr/1301-1400/Moreau1332_MAZ.json'),\n  'how_many': 13,\n  'len_c': 15,\n  'len_nc': 15,\n  'same_len': True,\n  'ratio': 0.8666666666666667},\n {'file': PosixPath('MAZ_corr/1301-1400/Moreau1342_GBOOKS.json'),\n  'how_many': 2,\n  'len_c': 6,\n  'len_nc': 6,\n  'same_len': True,\n  'ratio': 0.3333333333333333},\n {'file': PosixPath('MAZ_corr/1301-1400/Moreau1351_GBOOKS.json'),\n  'how_many': 45,\n  'len_c': 45,\n  'len_nc': 45,\n  'same_len': True,\n  'ratio': 1.0},\n {'file': PosixPath('MAZ_corr/1301-1400/Moreau1353_MAZ.json'),\n  'how_many': 2,\n  'len_c': 3,\n  'len_nc': 3,\n  'same_len': True,\n  'ratio': 0.6666666666666666},\n {'file': PosixPath('MAZ_corr/1301-1400/Moreau1359_MAZ.json'),\n  'how_many': 5,\n  'len_c': 6,\n  'len_nc': 6,\n  'same_len': True,\n  'ratio': 0.8333333333333334},\n {'file': PosixPath('MAZ_corr/1301-1400/Moreau1365_MAZ.json'),\n  'how_many': 6,\n  'len_c': 6,\n  'len_nc': 4,\n  'same_len': False,\n  'ratio': 1.0},\n {'file': PosixPath('MAZ_corr/1301-1400/Moreau1366_MAZ.json'),\n  'how_many': 12,\n  'len_c': 12,\n  'len_nc': 12,\n  'same_len': True,\n  'ratio': 1.0},\n {'file': PosixPath('MAZ_corr/1301-1400/Moreau1367_MAZ.json'),\n  'how_many': 36,\n  'len_c': 36,\n  'len_nc': 36,\n  'same_len': True,\n  'ratio': 1.0},\n {'file': PosixPath('MAZ_corr/1301-1400/Moreau1368_MAZ.json'),\n  'how_many': 8,\n  'len_c': 8,\n  'len_nc': 8,\n  'same_len': True,\n  'ratio': 1.0},\n {'file': PosixPath('MAZ_corr/1301-1400/Moreau1370_MAZ.json'),\n  'how_many': 4,\n  'len_c': 23,\n  'len_nc': 23,\n  'same_len': True,\n  'ratio': 0.17391304347826086},\n {'file': PosixPath('MAZ_corr/1301-1400/Moreau1372_GALL.json'),\n  'how_many': 3,\n  'len_c': 28,\n  'len_nc': 28,\n  'same_len': True,\n  'ratio': 0.10714285714285714},\n {'file': PosixPath('MAZ_corr/1301-1400/Moreau1376_MAZ.json'),\n  'how_many': 7,\n  'len_c': 8,\n  'len_nc': 8,\n  'same_len': True,\n  'ratio': 0.875},\n {'file': PosixPath('MAZ_corr/1301-1400/Moreau1377_GBOOKS.json'),\n  'how_many': 2,\n  'len_c': 13,\n  'len_nc': 13,\n  'same_len': True,\n  'ratio': 0.15384615384615385},\n {'file': PosixPath('MAZ_corr/1401-1500/Moreau1401_MAZ.json'),\n  'how_many': 23,\n  'len_c': 23,\n  'len_nc': 23,\n  'same_len': True,\n  'ratio': 1.0},\n {'file': PosixPath('MAZ_corr/1401-1500/Moreau1447_MAZ.json'),\n  'how_many': 15,\n  'len_c': 15,\n  'len_nc': 15,\n  'same_len': True,\n  'ratio': 1.0},\n {'file': PosixPath('MAZ_corr/1401-1500/Moreau1448_MAZ.json'),\n  'how_many': 5,\n  'len_c': 6,\n  'len_nc': 6,\n  'same_len': True,\n  'ratio': 0.8333333333333334},\n {'file': PosixPath('MAZ_corr/1401-1500/Moreau1461_MAZ.json'),\n  'how_many': 3,\n  'len_c': 6,\n  'len_nc': 6,\n  'same_len': True,\n  'ratio': 0.5},\n {'file': PosixPath('MAZ_corr/1401-1500/Moreau1463_GBOOKS.json'),\n  'how_many': 3,\n  'len_c': 17,\n  'len_nc': 17,\n  'same_len': True,\n  'ratio': 0.17647058823529413},\n {'file': PosixPath('MAZ_corr/1401-1500/Moreau1469_GALL.json'),\n  'how_many': 3,\n  'len_c': 13,\n  'len_nc': 14,\n  'same_len': False,\n  'ratio': 0.21428571428571427},\n {'file': PosixPath('MAZ_corr/1401-1500/Moreau1470_GBOOKS.json'),\n  'how_many': 2,\n  'len_c': 6,\n  'len_nc': 6,\n  'same_len': True,\n  'ratio': 0.3333333333333333},\n {'file': PosixPath('MAZ_corr/1401-1500/Moreau1472_MAZ.json'),\n  'how_many': 1,\n  'len_c': 8,\n  'len_nc': 8,\n  'same_len': True,\n  'ratio': 0.125},\n {'file': PosixPath('MAZ_corr/1401-1500/Moreau1477_MAZ.json'),\n  'how_many': 6,\n  'len_c': 6,\n  'len_nc': 6,\n  'same_len': True,\n  'ratio': 1.0},\n {'file': PosixPath('MAZ_corr/1401-1500/Moreau1498_GBOOKS.json'),\n  'how_many': 4,\n  'len_c': 11,\n  'len_nc': 12,\n  'same_len': False,\n  'ratio': 0.3333333333333333},\n {'file': PosixPath('MAZ_corr/1401-1500/Moreau1500_MAZ.json'),\n  'how_many': 12,\n  'len_c': 12,\n  'len_nc': 12,\n  'same_len': True,\n  'ratio': 1.0},\n {'file': PosixPath('MAZ_corr/1501-1600/Moreau1510_GBOOKS.json'),\n  'how_many': 3,\n  'len_c': 13,\n  'len_nc': 13,\n  'same_len': True,\n  'ratio': 0.23076923076923078},\n {'file': PosixPath('MAZ_corr/1501-1600/Moreau1531_GBOOKS.json'),\n  'how_many': 4,\n  'len_c': 7,\n  'len_nc': 7,\n  'same_len': True,\n  'ratio': 0.5714285714285714},\n {'file': PosixPath('MAZ_corr/1501-1600/Moreau1532_GBOOKS.json'),\n  'how_many': 2,\n  'len_c': 29,\n  'len_nc': 29,\n  'same_len': True,\n  'ratio': 0.06896551724137931},\n {'file': PosixPath('MAZ_corr/1601-1700/Moreau1624_GBOOKS.json'),\n  'how_many': 27,\n  'len_c': 27,\n  'len_nc': 27,\n  'same_len': True,\n  'ratio': 1.0},\n {'file': PosixPath('MAZ_corr/1601-1700/Moreau1634_GBOOKS.json'),\n  'how_many': 3,\n  'len_c': 6,\n  'len_nc': 6,\n  'same_len': True,\n  'ratio': 0.5},\n {'file': PosixPath('MAZ_corr/1601-1700/Moreau1638_GALL.json'),\n  'how_many': 17,\n  'len_c': 79,\n  'len_nc': 80,\n  'same_len': False,\n  'ratio': 0.2125},\n {'file': PosixPath('MAZ_corr/1601-1700/Moreau1639_GBOOKS.json'),\n  'how_many': 233,\n  'len_c': 234,\n  'len_nc': 234,\n  'same_len': True,\n  'ratio': 0.9957264957264957},\n {'file': PosixPath('MAZ_corr/1601-1700/Moreau1643_GBOOKS.json'),\n  'how_many': 464,\n  'len_c': 466,\n  'len_nc': 466,\n  'same_len': True,\n  'ratio': 0.9957081545064378},\n {'file': PosixPath('MAZ_corr/1601-1700/Moreau1644_MAZ.json'),\n  'how_many': 253,\n  'len_c': 254,\n  'len_nc': 254,\n  'same_len': True,\n  'ratio': 0.9960629921259843},\n {'file': PosixPath('MAZ_corr/1601-1700/Moreau1645_MAZ.json'),\n  'how_many': 39,\n  'len_c': 40,\n  'len_nc': 40,\n  'same_len': True,\n  'ratio': 0.975},\n {'file': PosixPath('MAZ_corr/1601-1700/Moreau1649_MAZ.json'),\n  'how_many': 6,\n  'len_c': 13,\n  'len_nc': 14,\n  'same_len': False,\n  'ratio': 0.42857142857142855},\n {'file': PosixPath('MAZ_corr/1601-1700/Moreau1650_MAZ.json'),\n  'how_many': 4,\n  'len_c': 6,\n  'len_nc': 6,\n  'same_len': True,\n  'ratio': 0.6666666666666666},\n {'file': PosixPath('MAZ_corr/1601-1700/Moreau1652_GALL.json'),\n  'how_many': 7,\n  'len_c': 7,\n  'len_nc': 8,\n  'same_len': False,\n  'ratio': 0.875},\n {'file': PosixPath('MAZ_corr/1601-1700/Moreau1653_GBOOKS.json'),\n  'how_many': 2,\n  'len_c': 6,\n  'len_nc': 6,\n  'same_len': True,\n  'ratio': 0.3333333333333333},\n {'file': PosixPath('MAZ_corr/1601-1700/Moreau1656_MAZ.json'),\n  'how_many': 17,\n  'len_c': 17,\n  'len_nc': 17,\n  'same_len': True,\n  'ratio': 1.0},\n {'file': PosixPath('MAZ_corr/1601-1700/Moreau1666_GBOOKS.json'),\n  'how_many': 2,\n  'len_c': 25,\n  'len_nc': 25,\n  'same_len': True,\n  'ratio': 0.08},\n {'file': PosixPath('MAZ_corr/1601-1700/Moreau1673_MAZ.json'),\n  'how_many': 18,\n  'len_c': 19,\n  'len_nc': 19,\n  'same_len': True,\n  'ratio': 0.9473684210526315},\n {'file': PosixPath('MAZ_corr/1601-1700/Moreau1674_MAZ.json'),\n  'how_many': 27,\n  'len_c': 27,\n  'len_nc': 27,\n  'same_len': True,\n  'ratio': 1.0},\n {'file': PosixPath('MAZ_corr/1601-1700/Moreau1691_GBOOKS.json'),\n  'how_many': 3,\n  'len_c': 9,\n  'len_nc': 9,\n  'same_len': True,\n  'ratio': 0.3333333333333333},\n {'file': PosixPath('MAZ_corr/1601-1700/Moreau1694_MAZ.json'),\n  'how_many': 6,\n  'len_c': 7,\n  'len_nc': 7,\n  'same_len': True,\n  'ratio': 0.8571428571428571},\n {'file': PosixPath('MAZ_corr/1701-1800/Moreau1733_GBOOKS.json'),\n  'how_many': 2,\n  'len_c': 7,\n  'len_nc': 7,\n  'same_len': True,\n  'ratio': 0.2857142857142857},\n {'file': PosixPath('MAZ_corr/1701-1800/Moreau1740_GALL.json'),\n  'how_many': 1,\n  'len_c': 43,\n  'len_nc': 43,\n  'same_len': True,\n  'ratio': 0.023255813953488372},\n {'file': PosixPath('MAZ_corr/1701-1800/Moreau1741_GBOOKS.json'),\n  'how_many': 329,\n  'len_c': 321,\n  'len_nc': 329,\n  'same_len': False,\n  'ratio': 1.0},\n {'file': PosixPath('MAZ_corr/1701-1800/Moreau1742_GBOOKS.json'),\n  'how_many': 1,\n  'len_c': 29,\n  'len_nc': 29,\n  'same_len': True,\n  'ratio': 0.034482758620689655},\n {'file': PosixPath('MAZ_corr/1701-1800/Moreau1743_GBOOKS.json'),\n  'how_many': 207,\n  'len_c': 209,\n  'len_nc': 209,\n  'same_len': True,\n  'ratio': 0.9904306220095693},\n {'file': PosixPath('MAZ_corr/1701-1800/Moreau1745_GBOOKS.json'),\n  'how_many': 3,\n  'len_c': 14,\n  'len_nc': 15,\n  'same_len': False,\n  'ratio': 0.2},\n {'file': PosixPath('MAZ_corr/1701-1800/Moreau1748_GBOOKS.json'),\n  'how_many': 2,\n  'len_c': 7,\n  'len_nc': 7,\n  'same_len': True,\n  'ratio': 0.2857142857142857},\n {'file': PosixPath('MAZ_corr/1701-1800/Moreau1751_GBOOKS.json'),\n  'how_many': 58,\n  'len_c': 58,\n  'len_nc': 58,\n  'same_len': True,\n  'ratio': 1.0},\n {'file': PosixPath('MAZ_corr/1701-1800/Moreau1757_GBOOKS.json'),\n  'how_many': 2,\n  'len_c': 15,\n  'len_nc': 15,\n  'same_len': True,\n  'ratio': 0.13333333333333333},\n {'file': PosixPath('MAZ_corr/1701-1800/Moreau1759_GALL.json'),\n  'how_many': 6,\n  'len_c': 14,\n  'len_nc': 17,\n  'same_len': False,\n  'ratio': 0.35294117647058826},\n {'file': PosixPath('MAZ_corr/1701-1800/Moreau1760_GBOOKS.json'),\n  'how_many': 42,\n  'len_c': 42,\n  'len_nc': 42,\n  'same_len': True,\n  'ratio': 1.0},\n {'file': PosixPath('MAZ_corr/1701-1800/Moreau1761_GALL.json'),\n  'how_many': 4,\n  'len_c': 8,\n  'len_nc': 8,\n  'same_len': True,\n  'ratio': 0.5},\n {'file': PosixPath('MAZ_corr/1701-1800/Moreau1762_GBOOKS.json'),\n  'how_many': 326,\n  'len_c': 326,\n  'len_nc': 325,\n  'same_len': False,\n  'ratio': 1.0},\n {'file': PosixPath('MAZ_corr/1701-1800/Moreau1763_GALL.json'),\n  'how_many': 2,\n  'len_c': 7,\n  'len_nc': 7,\n  'same_len': True,\n  'ratio': 0.2857142857142857},\n {'file': PosixPath('MAZ_corr/1701-1800/Moreau1764_GBOOKS.json'),\n  'how_many': 2,\n  'len_c': 7,\n  'len_nc': 7,\n  'same_len': True,\n  'ratio': 0.2857142857142857},\n {'file': PosixPath('MAZ_corr/1801-1900/Moreau1808_GBOOKS.json'),\n  'how_many': 6,\n  'len_c': 7,\n  'len_nc': 7,\n  'same_len': True,\n  'ratio': 0.8571428571428571},\n {'file': PosixPath('MAZ_corr/1801-1900/Moreau1819_GBOOKS.json'),\n  'how_many': 14,\n  'len_c': 14,\n  'len_nc': 4,\n  'same_len': False,\n  'ratio': 1.0},\n {'file': PosixPath('MAZ_corr/1801-1900/Moreau1832_GBOOKS.json'),\n  'how_many': 1,\n  'len_c': 4,\n  'len_nc': 4,\n  'same_len': True,\n  'ratio': 0.25},\n {'file': PosixPath('MAZ_corr/1801-1900/Moreau1836_GBOOKS.json'),\n  'how_many': 2,\n  'len_c': 11,\n  'len_nc': 12,\n  'same_len': False,\n  'ratio': 0.16666666666666666},\n {'file': PosixPath('MAZ_corr/1801-1900/Moreau1839_GBOOKS.json'),\n  'how_many': 33,\n  'len_c': 38,\n  'len_nc': 38,\n  'same_len': True,\n  'ratio': 0.868421052631579},\n {'file': PosixPath('MAZ_corr/1801-1900/Moreau1843_MAZ.json'),\n  'how_many': 13,\n  'len_c': 13,\n  'len_nc': 13,\n  'same_len': True,\n  'ratio': 1.0},\n {'file': PosixPath('MAZ_corr/1801-1900/Moreau1851_GBOOKS.json'),\n  'how_many': 8,\n  'len_c': 8,\n  'len_nc': 8,\n  'same_len': True,\n  'ratio': 1.0},\n {'file': PosixPath('MAZ_corr/1801-1900/Moreau1866_MAZ.json'),\n  'how_many': 6,\n  'len_c': 7,\n  'len_nc': 7,\n  'same_len': True,\n  'ratio': 0.8571428571428571},\n {'file': PosixPath('MAZ_corr/1801-1900/Moreau1869_GBOOKS.json'),\n  'how_many': 1,\n  'len_c': 7,\n  'len_nc': 7,\n  'same_len': True,\n  'ratio': 0.14285714285714285},\n {'file': PosixPath('MAZ_corr/1801-1900/Moreau1881_GBOOKS.json'),\n  'how_many': 1,\n  'len_c': 8,\n  'len_nc': 8,\n  'same_len': True,\n  'ratio': 0.125},\n {'file': PosixPath('MAZ_corr/1801-1900/Moreau1887_GBOOKS.json'),\n  'how_many': 2,\n  'len_c': 10,\n  'len_nc': 10,\n  'same_len': True,\n  'ratio': 0.2},\n {'file': PosixPath('MAZ_corr/1801-1900/Moreau1894_GBOOKS.json'),\n  'how_many': 1,\n  'len_c': 8,\n  'len_nc': 8,\n  'same_len': True,\n  'ratio': 0.125},\n {'file': PosixPath('MAZ_corr/1801-1900/Moreau1895_MAZ.json'),\n  'how_many': 9,\n  'len_c': 10,\n  'len_nc': 9,\n  'same_len': False,\n  'ratio': 0.9},\n {'file': PosixPath('MAZ_corr/1801-1900/Moreau1897_GBOOKS.json'),\n  'how_many': 1,\n  'len_c': 5,\n  'len_nc': 5,\n  'same_len': True,\n  'ratio': 0.2},\n {'file': PosixPath('MAZ_corr/1901-2000/Moreau1901_GBOOKS.json'),\n  'how_many': 2,\n  'len_c': 6,\n  'len_nc': 7,\n  'same_len': False,\n  'ratio': 0.2857142857142857},\n {'file': PosixPath('MAZ_corr/1901-2000/Moreau1902_GBOOKS.json'),\n  'how_many': 3,\n  'len_c': 6,\n  'len_nc': 8,\n  'same_len': False,\n  'ratio': 0.375},\n {'file': PosixPath('MAZ_corr/1901-2000/Moreau1904_GBOOKS.json'),\n  'how_many': 4,\n  'len_c': 2,\n  'len_nc': 4,\n  'same_len': False,\n  'ratio': 1.0},\n {'file': PosixPath('MAZ_corr/1901-2000/Moreau1910_GBOOKS.json'),\n  'how_many': 2,\n  'len_c': 6,\n  'len_nc': 7,\n  'same_len': False,\n  'ratio': 0.2857142857142857},\n {'file': PosixPath('MAZ_corr/1901-2000/Moreau1913_GBOOKS.json'),\n  'how_many': 1,\n  'len_c': 8,\n  'len_nc': 8,\n  'same_len': True,\n  'ratio': 0.125},\n {'file': PosixPath('MAZ_corr/1901-2000/Moreau1915_GBOOKS.json'),\n  'how_many': 1,\n  'len_c': 12,\n  'len_nc': 12,\n  'same_len': True,\n  'ratio': 0.08333333333333333},\n {'file': PosixPath('MAZ_corr/1901-2000/Moreau1916_GBOOKS.json'),\n  'how_many': 1,\n  'len_c': 8,\n  'len_nc': 8,\n  'same_len': True,\n  'ratio': 0.125},\n {'file': PosixPath('MAZ_corr/1901-2000/Moreau1917_MAZ.json'),\n  'how_many': 3,\n  'len_c': 4,\n  'len_nc': 4,\n  'same_len': True,\n  'ratio': 0.75},\n {'file': PosixPath('MAZ_corr/1901-2000/Moreau1921_MAZ.json'),\n  'how_many': 6,\n  'len_c': 7,\n  'len_nc': 7,\n  'same_len': True,\n  'ratio': 0.8571428571428571},\n {'file': PosixPath('MAZ_corr/1901-2000/Moreau1932_GBOOKS.json'),\n  'how_many': 1,\n  'len_c': 7,\n  'len_nc': 7,\n  'same_len': True,\n  'ratio': 0.14285714285714285},\n {'file': PosixPath('MAZ_corr/1901-2000/Moreau1936_GBOOKS.json'),\n  'how_many': 1,\n  'len_c': 6,\n  'len_nc': 6,\n  'same_len': True,\n  'ratio': 0.16666666666666666},\n {'file': PosixPath('MAZ_corr/1901-2000/Moreau1937_MAZ.json'),\n  'how_many': 2,\n  'len_c': 3,\n  'len_nc': 3,\n  'same_len': True,\n  'ratio': 0.6666666666666666},\n {'file': PosixPath('MAZ_corr/1901-2000/Moreau1939_GBOOKS.json'),\n  'how_many': 1,\n  'len_c': 7,\n  'len_nc': 7,\n  'same_len': True,\n  'ratio': 0.14285714285714285},\n {'file': PosixPath('MAZ_corr/1901-2000/Moreau1940_GBOOKS.json'),\n  'how_many': 1,\n  'len_c': 7,\n  'len_nc': 8,\n  'same_len': False,\n  'ratio': 0.125},\n {'file': PosixPath('MAZ_corr/1901-2000/Moreau1942_GBOOKS.json'),\n  'how_many': 2,\n  'len_c': 10,\n  'len_nc': 10,\n  'same_len': True,\n  'ratio': 0.2},\n {'file': PosixPath('MAZ_corr/1901-2000/Moreau1943_GBOOKS.json'),\n  'how_many': 1,\n  'len_c': 8,\n  'len_nc': 8,\n  'same_len': True,\n  'ratio': 0.125},\n {'file': PosixPath('MAZ_corr/1901-2000/Moreau1952_GBOOKS.json'),\n  'how_many': 1,\n  'len_c': 7,\n  'len_nc': 7,\n  'same_len': True,\n  'ratio': 0.14285714285714285},\n {'file': PosixPath('MAZ_corr/1901-2000/Moreau1960_GBOOKS.json'),\n  'how_many': 1,\n  'len_c': 7,\n  'len_nc': 7,\n  'same_len': True,\n  'ratio': 0.14285714285714285},\n {'file': PosixPath('MAZ_corr/1901-2000/Moreau1968_GBOOKS.json'),\n  'how_many': 1,\n  'len_c': 20,\n  'len_nc': 20,\n  'same_len': True,\n  'ratio': 0.05},\n {'file': PosixPath('MAZ_corr/1901-2000/Moreau1974_GBOOKS.json'),\n  'how_many': 3,\n  'len_c': 1,\n  'len_nc': 3,\n  'same_len': False,\n  'ratio': 1.0},\n {'file': PosixPath('MAZ_corr/1901-2000/Moreau1985_MAZ.json'),\n  'how_many': 5,\n  'len_c': 6,\n  'len_nc': 6,\n  'same_len': True,\n  'ratio': 0.8333333333333334},\n {'file': PosixPath('MAZ_corr/1901-2000/Moreau1986_MAZ.json'),\n  'how_many': 23,\n  'len_c': 25,\n  'len_nc': 25,\n  'same_len': True,\n  'ratio': 0.92},\n {'file': PosixPath('MAZ_corr/1901-2000/Moreau1991_GALL.json'),\n  'how_many': 2,\n  'len_c': 16,\n  'len_nc': 16,\n  'same_len': True,\n  'ratio': 0.125},\n {'file': PosixPath('MAZ_corr/2001-2100/Moreau2006_MAZ.json'),\n  'how_many': 4,\n  'len_c': 4,\n  'len_nc': 4,\n  'same_len': True,\n  'ratio': 1.0},\n {'file': PosixPath('MAZ_corr/2001-2100/Moreau2011_GBOOKS.json'),\n  'how_many': 6,\n  'len_c': 5,\n  'len_nc': 6,\n  'same_len': False,\n  'ratio': 1.0},\n {'file': PosixPath('MAZ_corr/2001-2100/Moreau2017_MAZ.json'),\n  'how_many': 9,\n  'len_c': 9,\n  'len_nc': 9,\n  'same_len': True,\n  'ratio': 1.0},\n {'file': PosixPath('MAZ_corr/2001-2100/Moreau2019_GBOOKS.json'),\n  'how_many': 2,\n  'len_c': 6,\n  'len_nc': 7,\n  'same_len': False,\n  'ratio': 0.2857142857142857},\n {'file': PosixPath('MAZ_corr/2001-2100/Moreau2020_GBOOKS.json'),\n  'how_many': 30,\n  'len_c': 31,\n  'len_nc': 31,\n  'same_len': True,\n  'ratio': 0.967741935483871},\n {'file': PosixPath('MAZ_corr/2001-2100/Moreau2022_GBOOKS.json'),\n  'how_many': 1,\n  'len_c': 7,\n  'len_nc': 8,\n  'same_len': False,\n  'ratio': 0.125},\n {'file': PosixPath('MAZ_corr/2001-2100/Moreau2026_GBOOKS.json'),\n  'how_many': 2,\n  'len_c': 7,\n  'len_nc': 8,\n  'same_len': False,\n  'ratio': 0.25},\n {'file': PosixPath('MAZ_corr/2001-2100/Moreau2032_MAZ.json'),\n  'how_many': 6,\n  'len_c': 7,\n  'len_nc': 7,\n  'same_len': True,\n  'ratio': 0.8571428571428571},\n {'file': PosixPath('MAZ_corr/2001-2100/Moreau2033_MAZ.json'),\n  'how_many': 5,\n  'len_c': 7,\n  'len_nc': 7,\n  'same_len': True,\n  'ratio': 0.7142857142857143},\n {'file': PosixPath('MAZ_corr/2001-2100/Moreau2040_GBOOKS.json'),\n  'how_many': 63,\n  'len_c': 64,\n  'len_nc': 64,\n  'same_len': True,\n  'ratio': 0.984375},\n {'file': PosixPath('MAZ_corr/2001-2100/Moreau2042_GBOOKS.json'),\n  'how_many': 2,\n  'len_c': 3,\n  'len_nc': 4,\n  'same_len': False,\n  'ratio': 0.5},\n {'file': PosixPath('MAZ_corr/2001-2100/Moreau2043_GBOOKS.json'),\n  'how_many': 11,\n  'len_c': 10,\n  'len_nc': 11,\n  'same_len': False,\n  'ratio': 1.0},\n {'file': PosixPath('MAZ_corr/2001-2100/Moreau2045_GBOOKS.json'),\n  'how_many': 2,\n  'len_c': 7,\n  'len_nc': 8,\n  'same_len': False,\n  'ratio': 0.25},\n {'file': PosixPath('MAZ_corr/2001-2100/Moreau2047_GBOOKS.json'),\n  'how_many': 1,\n  'len_c': 15,\n  'len_nc': 16,\n  'same_len': False,\n  'ratio': 0.0625},\n {'file': PosixPath('MAZ_corr/2001-2100/Moreau2050_GBOOKS.json'),\n  'how_many': 1,\n  'len_c': 8,\n  'len_nc': 8,\n  'same_len': True,\n  'ratio': 0.125},\n {'file': PosixPath('MAZ_corr/2001-2100/Moreau2051_GBOOKS.json'),\n  'how_many': 2,\n  'len_c': 5,\n  'len_nc': 6,\n  'same_len': False,\n  'ratio': 0.3333333333333333},\n {'file': PosixPath('MAZ_corr/2001-2100/Moreau2056_GBOOKS.json'),\n  'how_many': 2,\n  'len_c': 6,\n  'len_nc': 7,\n  'same_len': False,\n  'ratio': 0.2857142857142857},\n {'file': PosixPath('MAZ_corr/2001-2100/Moreau2059_GBOOKS.json'),\n  'how_many': 8,\n  'len_c': 7,\n  'len_nc': 8,\n  'same_len': False,\n  'ratio': 1.0},\n {'file': PosixPath('MAZ_corr/2001-2100/Moreau2061_GBOOKS.json'),\n  'how_many': 2,\n  'len_c': 6,\n  'len_nc': 7,\n  'same_len': False,\n  'ratio': 0.2857142857142857},\n {'file': PosixPath('MAZ_corr/2001-2100/Moreau2067_GBOOKS.json'),\n  'how_many': 1,\n  'len_c': 7,\n  'len_nc': 7,\n  'same_len': True,\n  'ratio': 0.14285714285714285},\n {'file': PosixPath('MAZ_corr/2001-2100/Moreau2068_GBOOKS.json'),\n  'how_many': 1,\n  'len_c': 7,\n  'len_nc': 8,\n  'same_len': False,\n  'ratio': 0.125},\n {'file': PosixPath('MAZ_corr/2001-2100/Moreau2069_GBOOKS.json'),\n  'how_many': 1,\n  'len_c': 7,\n  'len_nc': 8,\n  'same_len': False,\n  'ratio': 0.125},\n {'file': PosixPath('MAZ_corr/2001-2100/Moreau2076_GBOOKS.json'),\n  'how_many': 7,\n  'len_c': 8,\n  'len_nc': 8,\n  'same_len': True,\n  'ratio': 0.875},\n {'file': PosixPath('MAZ_corr/2001-2100/Moreau2079_GBOOKS.json'),\n  'how_many': 2,\n  'len_c': 5,\n  'len_nc': 6,\n  'same_len': False,\n  'ratio': 0.3333333333333333},\n {'file': PosixPath('MAZ_corr/2001-2100/Moreau2081_GALL.json'),\n  'how_many': 6,\n  'len_c': 6,\n  'len_nc': 6,\n  'same_len': True,\n  'ratio': 1.0},\n {'file': PosixPath('MAZ_corr/2001-2100/Moreau2084_GBOOKS.json'),\n  'how_many': 7,\n  'len_c': 7,\n  'len_nc': 8,\n  'same_len': False,\n  'ratio': 0.875},\n {'file': PosixPath('MAZ_corr/2001-2100/Moreau2086_GBOOKS.json'),\n  'how_many': 1,\n  'len_c': 8,\n  'len_nc': 8,\n  'same_len': True,\n  'ratio': 0.125},\n {'file': PosixPath('MAZ_corr/2001-2100/Moreau2088_GBOOKS.json'),\n  'how_many': 3,\n  'len_c': 3,\n  'len_nc': 3,\n  'same_len': True,\n  'ratio': 1.0},\n {'file': PosixPath('MAZ_corr/2001-2100/Moreau2094_GBOOKS.json'),\n  'how_many': 2,\n  'len_c': 6,\n  'len_nc': 7,\n  'same_len': False,\n  'ratio': 0.2857142857142857},\n {'file': PosixPath('MAZ_corr/2001-2100/Moreau2099-i_MAZ.json'),\n  'how_many': 16,\n  'len_c': 17,\n  'len_nc': 17,\n  'same_len': True,\n  'ratio': 0.9411764705882353},\n {'file': PosixPath('MAZ_corr/2001-2100/Moreau2099-ii_MAZ.json'),\n  'how_many': 6,\n  'len_c': 7,\n  'len_nc': 7,\n  'same_len': True,\n  'ratio': 0.8571428571428571},\n {'file': PosixPath('MAZ_corr/2001-2100/Moreau2099-iii_MAZ.json'),\n  'how_many': 6,\n  'len_c': 7,\n  'len_nc': 7,\n  'same_len': True,\n  'ratio': 0.8571428571428571},\n {'file': PosixPath('MAZ_corr/201-300/Moreau211_MAZ.json'),\n  'how_many': 4,\n  'len_c': 4,\n  'len_nc': 4,\n  'same_len': True,\n  'ratio': 1.0},\n {'file': PosixPath('MAZ_corr/201-300/Moreau212_MAZ.json'),\n  'how_many': 2,\n  'len_c': 2,\n  'len_nc': 2,\n  'same_len': True,\n  'ratio': 1.0},\n {'file': PosixPath('MAZ_corr/201-300/Moreau214_MAZ.json'),\n  'how_many': 4,\n  'len_c': 4,\n  'len_nc': 4,\n  'same_len': True,\n  'ratio': 1.0},\n {'file': PosixPath('MAZ_corr/201-300/Moreau216_MAZ.json'),\n  'how_many': 2,\n  'len_c': 2,\n  'len_nc': 2,\n  'same_len': True,\n  'ratio': 1.0},\n {'file': PosixPath('MAZ_corr/201-300/Moreau217_MAZ.json'),\n  'how_many': 3,\n  'len_c': 3,\n  'len_nc': 3,\n  'same_len': True,\n  'ratio': 1.0},\n {'file': PosixPath('MAZ_corr/201-300/Moreau219_MAZ.json'),\n  'how_many': 3,\n  'len_c': 3,\n  'len_nc': 3,\n  'same_len': True,\n  'ratio': 1.0},\n {'file': PosixPath('MAZ_corr/201-300/Moreau220_MAZ.json'),\n  'how_many': 2,\n  'len_c': 2,\n  'len_nc': 2,\n  'same_len': True,\n  'ratio': 1.0},\n {'file': PosixPath('MAZ_corr/201-300/Moreau223_MAZ.json'),\n  'how_many': 1,\n  'len_c': 2,\n  'len_nc': 2,\n  'same_len': True,\n  'ratio': 0.5},\n {'file': PosixPath('MAZ_corr/201-300/Moreau225_MAZ.json'),\n  'how_many': 3,\n  'len_c': 3,\n  'len_nc': 3,\n  'same_len': True,\n  'ratio': 1.0},\n {'file': PosixPath('MAZ_corr/201-300/Moreau227_MAZ.json'),\n  'how_many': 2,\n  'len_c': 2,\n  'len_nc': 2,\n  'same_len': True,\n  'ratio': 1.0},\n {'file': PosixPath('MAZ_corr/201-300/Moreau230_MAZ.json'),\n  'how_many': 1,\n  'len_c': 2,\n  'len_nc': 2,\n  'same_len': True,\n  'ratio': 0.5},\n {'file': PosixPath('MAZ_corr/201-300/Moreau233_MAZ.json'),\n  'how_many': 1,\n  'len_c': 2,\n  'len_nc': 2,\n  'same_len': True,\n  'ratio': 0.5},\n {'file': PosixPath('MAZ_corr/201-300/Moreau234_MAZ.json'),\n  'how_many': 1,\n  'len_c': 2,\n  'len_nc': 2,\n  'same_len': True,\n  'ratio': 0.5},\n {'file': PosixPath('MAZ_corr/201-300/Moreau242_MAZ.json'),\n  'how_many': 3,\n  'len_c': 3,\n  'len_nc': 3,\n  'same_len': True,\n  'ratio': 1.0},\n {'file': PosixPath('MAZ_corr/201-300/Moreau247_MAZ.json'),\n  'how_many': 1,\n  'len_c': 1,\n  'len_nc': 1,\n  'same_len': True,\n  'ratio': 1.0},\n {'file': PosixPath('MAZ_corr/201-300/Moreau258_MAZ.json'),\n  'how_many': 2,\n  'len_c': 2,\n  'len_nc': 2,\n  'same_len': True,\n  'ratio': 1.0},\n {'file': PosixPath('MAZ_corr/201-300/Moreau260_MAZ.json'),\n  'how_many': 3,\n  'len_c': 3,\n  'len_nc': 3,\n  'same_len': True,\n  'ratio': 1.0},\n {'file': PosixPath('MAZ_corr/201-300/Moreau278_MAZ.json'),\n  'how_many': 6,\n  'len_c': 6,\n  'len_nc': 6,\n  'same_len': True,\n  'ratio': 1.0},\n {'file': PosixPath('MAZ_corr/201-300/Moreau289_MAZ.json'),\n  'how_many': 3,\n  'len_c': 3,\n  'len_nc': 3,\n  'same_len': True,\n  'ratio': 1.0},\n {'file': PosixPath('MAZ_corr/201-300/Moreau293_MAZ.json'),\n  'how_many': 3,\n  'len_c': 4,\n  'len_nc': 4,\n  'same_len': True,\n  'ratio': 0.75},\n {'file': PosixPath('MAZ_corr/2101-2200/Moreau2101_GBOOKS.json'),\n  'how_many': 2,\n  'len_c': 7,\n  'len_nc': 8,\n  'same_len': False,\n  'ratio': 0.25},\n {'file': PosixPath('MAZ_corr/2101-2200/Moreau2103_GBOOKS.json'),\n  'how_many': 3,\n  'len_c': 5,\n  'len_nc': 6,\n  'same_len': False,\n  'ratio': 0.5},\n {'file': PosixPath('MAZ_corr/2101-2200/Moreau2105_GBOOKS.json'),\n  'how_many': 2,\n  'len_c': 6,\n  'len_nc': 7,\n  'same_len': False,\n  'ratio': 0.2857142857142857},\n {'file': PosixPath('MAZ_corr/2101-2200/Moreau2106_GBOOKS.json'),\n  'how_many': 3,\n  'len_c': 7,\n  'len_nc': 8,\n  'same_len': False,\n  'ratio': 0.375},\n {'file': PosixPath('MAZ_corr/2101-2200/Moreau2107_GBOOKS.json'),\n  'how_many': 4,\n  'len_c': 6,\n  'len_nc': 7,\n  'same_len': False,\n  'ratio': 0.5714285714285714},\n {'file': PosixPath('MAZ_corr/2101-2200/Moreau2110_GBOOKS.json'),\n  'how_many': 3,\n  'len_c': 5,\n  'len_nc': 6,\n  'same_len': False,\n  'ratio': 0.5},\n {'file': PosixPath('MAZ_corr/2101-2200/Moreau2113_GBOOKS.json'),\n  'how_many': 3,\n  'len_c': 6,\n  'len_nc': 7,\n  'same_len': False,\n  'ratio': 0.42857142857142855},\n {'file': PosixPath('MAZ_corr/2101-2200/Moreau2114_GBOOKS.json'),\n  'how_many': 8,\n  'len_c': 6,\n  'len_nc': 12,\n  'same_len': False,\n  'ratio': 0.6666666666666666},\n {'file': PosixPath('MAZ_corr/2101-2200/Moreau2116_GBOOKS.json'),\n  'how_many': 8,\n  'len_c': 8,\n  'len_nc': 8,\n  'same_len': True,\n  'ratio': 1.0},\n {'file': PosixPath('MAZ_corr/2101-2200/Moreau2118_GBOOKS.json'),\n  'how_many': 2,\n  'len_c': 7,\n  'len_nc': 8,\n  'same_len': False,\n  'ratio': 0.25},\n {'file': PosixPath('MAZ_corr/2101-2200/Moreau2119_GBOOKS.json'),\n  'how_many': 3,\n  'len_c': 10,\n  'len_nc': 11,\n  'same_len': False,\n  'ratio': 0.2727272727272727},\n {'file': PosixPath('MAZ_corr/2101-2200/Moreau2124_MAZ.json'),\n  'how_many': 8,\n  'len_c': 7,\n  'len_nc': 8,\n  'same_len': False,\n  'ratio': 1.0},\n {'file': PosixPath('MAZ_corr/2101-2200/Moreau2126_GBOOKS.json'),\n  'how_many': 3,\n  'len_c': 6,\n  'len_nc': 7,\n  'same_len': False,\n  'ratio': 0.42857142857142855},\n {'file': PosixPath('MAZ_corr/2101-2200/Moreau2128_GBOOKS.json'),\n  'how_many': 3,\n  'len_c': 31,\n  'len_nc': 32,\n  'same_len': False,\n  'ratio': 0.09375},\n {'file': PosixPath('MAZ_corr/2101-2200/Moreau2129_GBOOKS.json'),\n  'how_many': 3,\n  'len_c': 7,\n  'len_nc': 8,\n  'same_len': False,\n  'ratio': 0.375},\n {'file': PosixPath('MAZ_corr/2101-2200/Moreau2130_GBOOKS.json'),\n  'how_many': 3,\n  'len_c': 3,\n  'len_nc': 4,\n  'same_len': False,\n  'ratio': 0.75},\n {'file': PosixPath('MAZ_corr/2101-2200/Moreau2131_GBOOKS.json'),\n  'how_many': 4,\n  'len_c': 6,\n  'len_nc': 7,\n  'same_len': False,\n  'ratio': 0.5714285714285714},\n {'file': PosixPath('MAZ_corr/2101-2200/Moreau2132_GALL.json'),\n  'how_many': 12,\n  'len_c': 11,\n  'len_nc': 12,\n  'same_len': False,\n  'ratio': 1.0},\n {'file': PosixPath('MAZ_corr/2101-2200/Moreau2135_MAZ.json'),\n  'how_many': 3,\n  'len_c': 2,\n  'len_nc': 4,\n  'same_len': False,\n  'ratio': 0.75},\n {'file': PosixPath('MAZ_corr/2101-2200/Moreau2140_MAZ.json'),\n  'how_many': 5,\n  'len_c': 6,\n  'len_nc': 8,\n  'same_len': False,\n  'ratio': 0.625},\n {'file': PosixPath('MAZ_corr/2101-2200/Moreau2147_GBOOKS.json'),\n  'how_many': 1,\n  'len_c': 4,\n  'len_nc': 4,\n  'same_len': True,\n  'ratio': 0.25},\n {'file': PosixPath('MAZ_corr/2101-2200/Moreau2157_GBOOKS.json'),\n  'how_many': 2,\n  'len_c': 3,\n  'len_nc': 4,\n  'same_len': False,\n  'ratio': 0.5},\n {'file': PosixPath('MAZ_corr/2101-2200/Moreau2158_GBOOKS.json'),\n  'how_many': 1,\n  'len_c': 4,\n  'len_nc': 4,\n  'same_len': True,\n  'ratio': 0.25},\n {'file': PosixPath('MAZ_corr/2101-2200/Moreau2159_GBOOKS.json'),\n  'how_many': 1,\n  'len_c': 7,\n  'len_nc': 7,\n  'same_len': True,\n  'ratio': 0.14285714285714285},\n {'file': PosixPath('MAZ_corr/2101-2200/Moreau2160_GBOOKS.json'),\n  'how_many': 2,\n  'len_c': 5,\n  'len_nc': 6,\n  'same_len': False,\n  'ratio': 0.3333333333333333},\n {'file': PosixPath('MAZ_corr/2101-2200/Moreau2163_MAZ.json'),\n  'how_many': 3,\n  'len_c': 5,\n  'len_nc': 7,\n  'same_len': False,\n  'ratio': 0.42857142857142855},\n {'file': PosixPath('MAZ_corr/2101-2200/Moreau2164_MAZ.json'),\n  'how_many': 2,\n  'len_c': 2,\n  'len_nc': 2,\n  'same_len': True,\n  'ratio': 1.0},\n {'file': PosixPath('MAZ_corr/2101-2200/Moreau2166_GBOOKS.json'),\n  'how_many': 2,\n  'len_c': 6,\n  'len_nc': 7,\n  'same_len': False,\n  'ratio': 0.2857142857142857},\n {'file': PosixPath('MAZ_corr/2101-2200/Moreau2168_GBOOKS.json'),\n  'how_many': 1,\n  'len_c': 7,\n  'len_nc': 7,\n  'same_len': True,\n  'ratio': 0.14285714285714285},\n {'file': PosixPath('MAZ_corr/2101-2200/Moreau2169_GBOOKS.json'),\n  'how_many': 1,\n  'len_c': 3,\n  'len_nc': 3,\n  'same_len': True,\n  'ratio': 0.3333333333333333},\n {'file': PosixPath('MAZ_corr/2101-2200/Moreau2176_GBOOKS.json'),\n  'how_many': 1,\n  'len_c': 7,\n  'len_nc': 7,\n  'same_len': True,\n  'ratio': 0.14285714285714285},\n {'file': PosixPath('MAZ_corr/2101-2200/Moreau2180_GBOOKS.json'),\n  'how_many': 2,\n  'len_c': 5,\n  'len_nc': 6,\n  'same_len': False,\n  'ratio': 0.3333333333333333},\n {'file': PosixPath('MAZ_corr/2101-2200/Moreau2197_MAZ.json'),\n  'how_many': 12,\n  'len_c': 12,\n  'len_nc': 9,\n  'same_len': False,\n  'ratio': 1.0},\n {'file': PosixPath('MAZ_corr/2101-2200/Moreau2200_GBOOKS.json'),\n  'how_many': 2,\n  'len_c': 7,\n  'len_nc': 8,\n  'same_len': False,\n  'ratio': 0.25},\n {'file': PosixPath('MAZ_corr/2201-2300/Moreau2201_GBOOKS.json'),\n  'how_many': 4,\n  'len_c': 6,\n  'len_nc': 7,\n  'same_len': False,\n  'ratio': 0.5714285714285714},\n {'file': PosixPath('MAZ_corr/2201-2300/Moreau2202_GBOOKS.json'),\n  'how_many': 3,\n  'len_c': 9,\n  'len_nc': 10,\n  'same_len': False,\n  'ratio': 0.3},\n {'file': PosixPath('MAZ_corr/2201-2300/Moreau2203_GBOOKS.json'),\n  'how_many': 3,\n  'len_c': 15,\n  'len_nc': 16,\n  'same_len': False,\n  'ratio': 0.1875},\n {'file': PosixPath('MAZ_corr/2201-2300/Moreau2205_GBOOKS.json'),\n  'how_many': 3,\n  'len_c': 7,\n  'len_nc': 8,\n  'same_len': False,\n  'ratio': 0.375},\n {'file': PosixPath('MAZ_corr/2201-2300/Moreau2206_GBOOKS.json'),\n  'how_many': 2,\n  'len_c': 7,\n  'len_nc': 8,\n  'same_len': False,\n  'ratio': 0.25},\n {'file': PosixPath('MAZ_corr/2201-2300/Moreau2208_GBOOKS.json'),\n  'how_many': 23,\n  'len_c': 22,\n  'len_nc': 23,\n  'same_len': False,\n  'ratio': 1.0},\n {'file': PosixPath('MAZ_corr/2201-2300/Moreau2209_GBOOKS.json'),\n  'how_many': 1,\n  'len_c': 6,\n  'len_nc': 6,\n  'same_len': True,\n  'ratio': 0.16666666666666666},\n {'file': PosixPath('MAZ_corr/2201-2300/Moreau2212_GBOOKS.json'),\n  'how_many': 8,\n  'len_c': 8,\n  'len_nc': 8,\n  'same_len': True,\n  'ratio': 1.0},\n {'file': PosixPath('MAZ_corr/2201-2300/Moreau2213_GBOOKS.json'),\n  'how_many': 4,\n  'len_c': 7,\n  'len_nc': 8,\n  'same_len': False,\n  'ratio': 0.5},\n {'file': PosixPath('MAZ_corr/2201-2300/Moreau2216_GBOOKS.json'),\n  'how_many': 4,\n  'len_c': 7,\n  'len_nc': 8,\n  'same_len': False,\n  'ratio': 0.5},\n {'file': PosixPath('MAZ_corr/2201-2300/Moreau2217_GBOOKS.json'),\n  'how_many': 3,\n  'len_c': 7,\n  'len_nc': 8,\n  'same_len': False,\n  'ratio': 0.375},\n {'file': PosixPath('MAZ_corr/2201-2300/Moreau2220_GBOOKS.json'),\n  'how_many': 3,\n  'len_c': 14,\n  'len_nc': 15,\n  'same_len': False,\n  'ratio': 0.2},\n {'file': PosixPath('MAZ_corr/2201-2300/Moreau2225_GBOOKS.json'),\n  'how_many': 8,\n  'len_c': 8,\n  'len_nc': 8,\n  'same_len': True,\n  'ratio': 1.0},\n {'file': PosixPath('MAZ_corr/2201-2300/Moreau2227_GBOOKS.json'),\n  'how_many': 6,\n  'len_c': 6,\n  'len_nc': 6,\n  'same_len': True,\n  'ratio': 1.0},\n {'file': PosixPath('MAZ_corr/2201-2300/Moreau2229_GBOOKS.json'),\n  'how_many': 3,\n  'len_c': 7,\n  'len_nc': 8,\n  'same_len': False,\n  'ratio': 0.375},\n {'file': PosixPath('MAZ_corr/2201-2300/Moreau2230_GBOOKS.json'),\n  'how_many': 3,\n  'len_c': 7,\n  'len_nc': 8,\n  'same_len': False,\n  'ratio': 0.375},\n {'file': PosixPath('MAZ_corr/2201-2300/Moreau2231_GBOOKS.json'),\n  'how_many': 3,\n  'len_c': 6,\n  'len_nc': 7,\n  'same_len': False,\n  'ratio': 0.42857142857142855},\n {'file': PosixPath('MAZ_corr/2201-2300/Moreau2232_GBOOKS.json'),\n  'how_many': 3,\n  'len_c': 18,\n  'len_nc': 19,\n  'same_len': False,\n  'ratio': 0.15789473684210525},\n {'file': PosixPath('MAZ_corr/2201-2300/Moreau2233_GBOOKS.json'),\n  'how_many': 1,\n  'len_c': 2,\n  'len_nc': 2,\n  'same_len': True,\n  'ratio': 0.5},\n {'file': PosixPath('MAZ_corr/2201-2300/Moreau2235_GBOOKS.json'),\n  'how_many': 1,\n  'len_c': 8,\n  'len_nc': 8,\n  'same_len': True,\n  'ratio': 0.125},\n {'file': PosixPath('MAZ_corr/2201-2300/Moreau2236_GBOOKS.json'),\n  'how_many': 3,\n  'len_c': 7,\n  'len_nc': 8,\n  'same_len': False,\n  'ratio': 0.375},\n {'file': PosixPath('MAZ_corr/2201-2300/Moreau2242_GBOOKS.json'),\n  'how_many': 4,\n  'len_c': 5,\n  'len_nc': 6,\n  'same_len': False,\n  'ratio': 0.6666666666666666},\n {'file': PosixPath('MAZ_corr/2201-2300/Moreau2247_GBOOKS.json'),\n  'how_many': 3,\n  'len_c': 7,\n  'len_nc': 8,\n  'same_len': False,\n  'ratio': 0.375},\n {'file': PosixPath('MAZ_corr/2201-2300/Moreau2248_GBOOKS.json'),\n  'how_many': 3,\n  'len_c': 10,\n  'len_nc': 11,\n  'same_len': False,\n  'ratio': 0.2727272727272727},\n {'file': PosixPath('MAZ_corr/2201-2300/Moreau2249_GBOOKS.json'),\n  'how_many': 39,\n  'len_c': 38,\n  'len_nc': 39,\n  'same_len': False,\n  'ratio': 1.0},\n {'file': PosixPath('MAZ_corr/2201-2300/Moreau2251_GBOOKS.json'),\n  'how_many': 8,\n  'len_c': 7,\n  'len_nc': 8,\n  'same_len': False,\n  'ratio': 1.0},\n {'file': PosixPath('MAZ_corr/2201-2300/Moreau2252_GBOOKS.json'),\n  'how_many': 1,\n  'len_c': 8,\n  'len_nc': 8,\n  'same_len': True,\n  'ratio': 0.125},\n {'file': PosixPath('MAZ_corr/2201-2300/Moreau2253_GALL.json'),\n  'how_many': 10,\n  'len_c': 9,\n  'len_nc': 10,\n  'same_len': False,\n  'ratio': 1.0},\n {'file': PosixPath('MAZ_corr/2201-2300/Moreau2258_GBOOKS.json'),\n  'how_many': 3,\n  'len_c': 7,\n  'len_nc': 8,\n  'same_len': False,\n  'ratio': 0.375},\n {'file': PosixPath('MAZ_corr/2201-2300/Moreau2259_GBOOKS.json'),\n  'how_many': 14,\n  'len_c': 13,\n  'len_nc': 14,\n  'same_len': False,\n  'ratio': 1.0},\n {'file': PosixPath('MAZ_corr/2201-2300/Moreau2263_MAZ.json'),\n  'how_many': 8,\n  'len_c': 7,\n  'len_nc': 8,\n  'same_len': False,\n  'ratio': 1.0},\n {'file': PosixPath('MAZ_corr/2201-2300/Moreau2268_GBOOKS.json'),\n  'how_many': 8,\n  'len_c': 3,\n  'len_nc': 8,\n  'same_len': False,\n  'ratio': 1.0},\n {'file': PosixPath('MAZ_corr/2201-2300/Moreau2269_GBOOKS.json'),\n  'how_many': 2,\n  'len_c': 8,\n  'len_nc': 9,\n  'same_len': False,\n  'ratio': 0.2222222222222222},\n {'file': PosixPath('MAZ_corr/2201-2300/Moreau2271_MAZ.json'),\n  'how_many': 15,\n  'len_c': 15,\n  'len_nc': 15,\n  'same_len': True,\n  'ratio': 1.0},\n {'file': PosixPath('MAZ_corr/2201-2300/Moreau2272_GBOOKS.json'),\n  'how_many': 3,\n  'len_c': 3,\n  'len_nc': 4,\n  'same_len': False,\n  'ratio': 0.75},\n {'file': PosixPath('MAZ_corr/2201-2300/Moreau2277_GBOOKS.json'),\n  'how_many': 3,\n  'len_c': 15,\n  'len_nc': 16,\n  'same_len': False,\n  'ratio': 0.1875},\n {'file': PosixPath('MAZ_corr/2201-2300/Moreau2280_GBOOKS.json'),\n  'how_many': 12,\n  'len_c': 4,\n  'len_nc': 14,\n  'same_len': False,\n  'ratio': 0.8571428571428571},\n {'file': PosixPath('MAZ_corr/2201-2300/Moreau2282_MAZ.json'),\n  'how_many': 7,\n  'len_c': 10,\n  'len_nc': 10,\n  'same_len': True,\n  'ratio': 0.7},\n {'file': PosixPath('MAZ_corr/2201-2300/Moreau2287_GBOOKS.json'),\n  'how_many': 2,\n  'len_c': 13,\n  'len_nc': 14,\n  'same_len': False,\n  'ratio': 0.14285714285714285},\n {'file': PosixPath('MAZ_corr/2201-2300/Moreau2288_GBOOKS.json'),\n  'how_many': 40,\n  'len_c': 39,\n  'len_nc': 40,\n  'same_len': False,\n  'ratio': 1.0},\n {'file': PosixPath('MAZ_corr/2201-2300/Moreau2289_MAZ.json'),\n  'how_many': 11,\n  'len_c': 11,\n  'len_nc': 11,\n  'same_len': True,\n  'ratio': 1.0},\n {'file': PosixPath('MAZ_corr/2201-2300/Moreau2290_GBOOKS.json'),\n  'how_many': 3,\n  'len_c': 5,\n  'len_nc': 6,\n  'same_len': False,\n  'ratio': 0.5},\n {'file': PosixPath('MAZ_corr/2201-2300/Moreau2297_GBOOKS.json'),\n  'how_many': 2,\n  'len_c': 6,\n  'len_nc': 6,\n  'same_len': True,\n  'ratio': 0.3333333333333333},\n {'file': PosixPath('MAZ_corr/2301-2400/Moreau2355_MAZ.json'),\n  'how_many': 22,\n  'len_c': 22,\n  'len_nc': 22,\n  'same_len': True,\n  'ratio': 1.0},\n {'file': PosixPath('MAZ_corr/2301-2400/Moreau2372_MAZ.json'),\n  'how_many': 21,\n  'len_c': 22,\n  'len_nc': 22,\n  'same_len': True,\n  'ratio': 0.9545454545454546},\n {'file': PosixPath('MAZ_corr/2301-2400/Moreau2386_MAZ.json'),\n  'how_many': 4,\n  'len_c': 7,\n  'len_nc': 7,\n  'same_len': True,\n  'ratio': 0.5714285714285714},\n {'file': PosixPath('MAZ_corr/2301-2400/Moreau2397_MAZ.json'),\n  'how_many': 15,\n  'len_c': 15,\n  'len_nc': 15,\n  'same_len': True,\n  'ratio': 1.0},\n {'file': PosixPath('MAZ_corr/2301-2400/Moreau2398_MAZ.json'),\n  'how_many': 24,\n  'len_c': 25,\n  'len_nc': 25,\n  'same_len': True,\n  'ratio': 0.96},\n {'file': PosixPath('MAZ_corr/2401-2500/Moreau2404_MAZ.json'),\n  'how_many': 14,\n  'len_c': 15,\n  'len_nc': 15,\n  'same_len': True,\n  'ratio': 0.9333333333333333},\n {'file': PosixPath('MAZ_corr/2401-2500/Moreau2407_MAZ.json'),\n  'how_many': 22,\n  'len_c': 23,\n  'len_nc': 23,\n  'same_len': True,\n  'ratio': 0.9565217391304348},\n {'file': PosixPath('MAZ_corr/2401-2500/Moreau2408_GBOOKS.json'),\n  'how_many': 3,\n  'len_c': 13,\n  'len_nc': 13,\n  'same_len': True,\n  'ratio': 0.23076923076923078},\n {'file': PosixPath('MAZ_corr/2401-2500/Moreau2409_MAZ.json'),\n  'how_many': 3,\n  'len_c': 3,\n  'len_nc': 3,\n  'same_len': True,\n  'ratio': 1.0},\n {'file': PosixPath('MAZ_corr/2401-2500/Moreau2410_MAZ.json'),\n  'how_many': 3,\n  'len_c': 6,\n  'len_nc': 6,\n  'same_len': True,\n  'ratio': 0.5},\n {'file': PosixPath('MAZ_corr/2401-2500/Moreau2412_MAZ.json'),\n  'how_many': 3,\n  'len_c': 7,\n  'len_nc': 7,\n  'same_len': True,\n  'ratio': 0.42857142857142855},\n {'file': PosixPath('MAZ_corr/2401-2500/Moreau2413_MAZ.json'),\n  'how_many': 4,\n  'len_c': 6,\n  'len_nc': 6,\n  'same_len': True,\n  'ratio': 0.6666666666666666},\n {'file': PosixPath('MAZ_corr/2401-2500/Moreau2422_MAZ.json'),\n  'how_many': 6,\n  'len_c': 7,\n  'len_nc': 7,\n  'same_len': True,\n  'ratio': 0.8571428571428571},\n {'file': PosixPath('MAZ_corr/2401-2500/Moreau2436_GBOOKS.json'),\n  'how_many': 3,\n  'len_c': 15,\n  'len_nc': 15,\n  'same_len': True,\n  'ratio': 0.2},\n {'file': PosixPath('MAZ_corr/2401-2500/Moreau2439_GBOOKS.json'),\n  'how_many': 3,\n  'len_c': 58,\n  'len_nc': 59,\n  'same_len': False,\n  'ratio': 0.05084745762711865},\n {'file': PosixPath('MAZ_corr/2401-2500/Moreau2440_MAZ.json'),\n  'how_many': 5,\n  'len_c': 6,\n  'len_nc': 6,\n  'same_len': True,\n  'ratio': 0.8333333333333334},\n {'file': PosixPath('MAZ_corr/2401-2500/Moreau2454_GBOOKS.json'),\n  'how_many': 2,\n  'len_c': 6,\n  'len_nc': 6,\n  'same_len': True,\n  'ratio': 0.3333333333333333},\n {'file': PosixPath('MAZ_corr/2401-2500/Moreau2455_MAZ.json'),\n  'how_many': 6,\n  'len_c': 15,\n  'len_nc': 15,\n  'same_len': True,\n  'ratio': 0.4},\n {'file': PosixPath('MAZ_corr/2401-2500/Moreau2456_MAZ.json'),\n  'how_many': 1,\n  'len_c': 7,\n  'len_nc': 7,\n  'same_len': True,\n  'ratio': 0.14285714285714285},\n {'file': PosixPath('MAZ_corr/2401-2500/Moreau2457_MAZ.json'),\n  'how_many': 22,\n  'len_c': 23,\n  'len_nc': 23,\n  'same_len': True,\n  'ratio': 0.9565217391304348},\n {'file': PosixPath('MAZ_corr/2401-2500/Moreau2459_GBOOKS.json'),\n  'how_many': 1,\n  'len_c': 14,\n  'len_nc': 14,\n  'same_len': True,\n  'ratio': 0.07142857142857142},\n {'file': PosixPath('MAZ_corr/2401-2500/Moreau2489_MAZ.json'),\n  'how_many': 5,\n  'len_c': 5,\n  'len_nc': 5,\n  'same_len': True,\n  'ratio': 1.0},\n {'file': PosixPath('MAZ_corr/2401-2500/Moreau2494_MAZ.json'),\n  'how_many': 5,\n  'len_c': 6,\n  'len_nc': 7,\n  'same_len': False,\n  'ratio': 0.7142857142857143},\n {'file': PosixPath('MAZ_corr/2401-2500/Moreau2495_GBOOKS.json'),\n  'how_many': 2,\n  'len_c': 6,\n  'len_nc': 6,\n  'same_len': True,\n  'ratio': 0.3333333333333333},\n {'file': PosixPath('MAZ_corr/2501-2600/Moreau2508_MAZ.json'),\n  'how_many': 20,\n  'len_c': 21,\n  'len_nc': 21,\n  'same_len': True,\n  'ratio': 0.9523809523809523},\n {'file': PosixPath('MAZ_corr/2501-2600/Moreau2537_GBOOKS.json'),\n  'how_many': 166,\n  'len_c': 166,\n  'len_nc': 166,\n  'same_len': True,\n  'ratio': 1.0},\n {'file': PosixPath('MAZ_corr/2501-2600/Moreau2538_GALL.json'),\n  'how_many': 5,\n  'len_c': 39,\n  'len_nc': 39,\n  'same_len': True,\n  'ratio': 0.1282051282051282},\n {'file': PosixPath('MAZ_corr/2501-2600/Moreau2541_GALL.json'),\n  'how_many': 3,\n  'len_c': 6,\n  'len_nc': 6,\n  'same_len': True,\n  'ratio': 0.5},\n {'file': PosixPath('MAZ_corr/2501-2600/Moreau2542_GALL.json'),\n  'how_many': 4,\n  'len_c': 2,\n  'len_nc': 4,\n  'same_len': False,\n  'ratio': 1.0},\n {'file': PosixPath('MAZ_corr/2501-2600/Moreau2544_MAZ.json'),\n  'how_many': 4,\n  'len_c': 6,\n  'len_nc': 6,\n  'same_len': True,\n  'ratio': 0.6666666666666666},\n {'file': PosixPath('MAZ_corr/2501-2600/Moreau2554_MAZ.json'),\n  'how_many': 5,\n  'len_c': 7,\n  'len_nc': 7,\n  'same_len': True,\n  'ratio': 0.7142857142857143},\n {'file': PosixPath('MAZ_corr/2501-2600/Moreau2556_GBOOKS.json'),\n  'how_many': 2,\n  'len_c': 6,\n  'len_nc': 6,\n  'same_len': True,\n  'ratio': 0.3333333333333333},\n {'file': PosixPath('MAZ_corr/2501-2600/Moreau2557_MAZ.json'),\n  'how_many': 6,\n  'len_c': 6,\n  'len_nc': 6,\n  'same_len': True,\n  'ratio': 1.0},\n {'file': PosixPath('MAZ_corr/2501-2600/Moreau2559_GBOOKS.json'),\n  'how_many': 3,\n  'len_c': 7,\n  'len_nc': 7,\n  'same_len': True,\n  'ratio': 0.42857142857142855},\n {'file': PosixPath('MAZ_corr/2501-2600/Moreau2568_MAZ.json'),\n  'how_many': 34,\n  'len_c': 35,\n  'len_nc': 35,\n  'same_len': True,\n  'ratio': 0.9714285714285714},\n {'file': PosixPath('MAZ_corr/2501-2600/Moreau2593_MAZ.json'),\n  'how_many': 9,\n  'len_c': 10,\n  'len_nc': 10,\n  'same_len': True,\n  'ratio': 0.9},\n {'file': PosixPath('MAZ_corr/2601-2700/Moreau2617_MAZ.json'),\n  'how_many': 3,\n  'len_c': 3,\n  'len_nc': 3,\n  'same_len': True,\n  'ratio': 1.0},\n {'file': PosixPath('MAZ_corr/2601-2700/Moreau2638_MAZ.json'),\n  'how_many': 1,\n  'len_c': 11,\n  'len_nc': 11,\n  'same_len': True,\n  'ratio': 0.09090909090909091},\n {'file': PosixPath('MAZ_corr/2601-2700/Moreau2677_MAZ.json'),\n  'how_many': 39,\n  'len_c': 39,\n  'len_nc': 39,\n  'same_len': True,\n  'ratio': 1.0},\n {'file': PosixPath('MAZ_corr/2601-2700/Moreau2698_MAZ.json'),\n  'how_many': 5,\n  'len_c': 6,\n  'len_nc': 6,\n  'same_len': True,\n  'ratio': 0.8333333333333334},\n {'file': PosixPath('MAZ_corr/2701-2800/Moreau2701-i_MAZ.json'),\n  'how_many': 1,\n  'len_c': 7,\n  'len_nc': 7,\n  'same_len': True,\n  'ratio': 0.14285714285714285},\n {'file': PosixPath('MAZ_corr/2701-2800/Moreau2701-iii_MAZ.json'),\n  'how_many': 1,\n  'len_c': 6,\n  'len_nc': 6,\n  'same_len': True,\n  'ratio': 0.16666666666666666},\n {'file': PosixPath('MAZ_corr/2701-2800/Moreau2704_GBOOKS.json'),\n  'how_many': 2,\n  'len_c': 6,\n  'len_nc': 6,\n  'same_len': True,\n  'ratio': 0.3333333333333333},\n {'file': PosixPath('MAZ_corr/2701-2800/Moreau2705_GBOOKS.json'),\n  'how_many': 6,\n  'len_c': 6,\n  'len_nc': 6,\n  'same_len': True,\n  'ratio': 1.0},\n {'file': PosixPath('MAZ_corr/2701-2800/Moreau2713_GBOOKS.json'),\n  'how_many': 4,\n  'len_c': 6,\n  'len_nc': 7,\n  'same_len': False,\n  'ratio': 0.5714285714285714},\n {'file': PosixPath('MAZ_corr/2701-2800/Moreau2714_GBOOKS.json'),\n  'how_many': 3,\n  'len_c': 7,\n  'len_nc': 7,\n  'same_len': True,\n  'ratio': 0.42857142857142855},\n {'file': PosixPath('MAZ_corr/2701-2800/Moreau2715_GBOOKS.json'),\n  'how_many': 2,\n  'len_c': 7,\n  'len_nc': 7,\n  'same_len': True,\n  'ratio': 0.2857142857142857},\n {'file': PosixPath('MAZ_corr/2701-2800/Moreau2718_MAZ.json'),\n  'how_many': 3,\n  'len_c': 7,\n  'len_nc': 7,\n  'same_len': True,\n  'ratio': 0.42857142857142855},\n {'file': PosixPath('MAZ_corr/2701-2800/Moreau2728_GBOOKS.json'),\n  'how_many': 2,\n  'len_c': 6,\n  'len_nc': 6,\n  'same_len': True,\n  'ratio': 0.3333333333333333},\n {'file': PosixPath('MAZ_corr/2701-2800/Moreau2747_GALL.json'),\n  'how_many': 3,\n  'len_c': 7,\n  'len_nc': 7,\n  'same_len': True,\n  'ratio': 0.42857142857142855},\n {'file': PosixPath('MAZ_corr/2701-2800/Moreau2752_MAZ.json'),\n  'how_many': 14,\n  'len_c': 15,\n  'len_nc': 15,\n  'same_len': True,\n  'ratio': 0.9333333333333333},\n {'file': PosixPath('MAZ_corr/2701-2800/Moreau2755_MAZ.json'),\n  'how_many': 6,\n  'len_c': 7,\n  'len_nc': 7,\n  'same_len': True,\n  'ratio': 0.8571428571428571},\n {'file': PosixPath('MAZ_corr/2701-2800/Moreau2765_MAZ.json'),\n  'how_many': 38,\n  'len_c': 39,\n  'len_nc': 39,\n  'same_len': True,\n  'ratio': 0.9743589743589743},\n {'file': PosixPath('MAZ_corr/2801-2900/Moreau2808_MAZ.json'),\n  'how_many': 13,\n  'len_c': 14,\n  'len_nc': 14,\n  'same_len': True,\n  'ratio': 0.9285714285714286},\n {'file': PosixPath('MAZ_corr/2801-2900/Moreau2829_GBOOKS.json'),\n  'how_many': 2,\n  'len_c': 15,\n  'len_nc': 15,\n  'same_len': True,\n  'ratio': 0.13333333333333333},\n {'file': PosixPath('MAZ_corr/2801-2900/Moreau2842_GBOOKS.json'),\n  'how_many': 2,\n  'len_c': 3,\n  'len_nc': 3,\n  'same_len': True,\n  'ratio': 0.6666666666666666},\n {'file': PosixPath('MAZ_corr/2801-2900/Moreau2847_GBOOKS.json'),\n  'how_many': 2,\n  'len_c': 7,\n  'len_nc': 7,\n  'same_len': True,\n  'ratio': 0.2857142857142857},\n {'file': PosixPath('MAZ_corr/2801-2900/Moreau2848_GALL.json'),\n  'how_many': 2,\n  'len_c': 29,\n  'len_nc': 29,\n  'same_len': True,\n  'ratio': 0.06896551724137931},\n {'file': PosixPath('MAZ_corr/2801-2900/Moreau2850-ii_MAZ.json'),\n  'how_many': 1,\n  'len_c': 8,\n  'len_nc': 8,\n  'same_len': True,\n  'ratio': 0.125},\n {'file': PosixPath('MAZ_corr/2801-2900/Moreau2856_GBOOKS.json'),\n  'how_many': 1,\n  'len_c': 6,\n  'len_nc': 6,\n  'same_len': True,\n  'ratio': 0.16666666666666666},\n {'file': PosixPath('MAZ_corr/2801-2900/Moreau2861_MAZ.json'),\n  'how_many': 29,\n  'len_c': 29,\n  'len_nc': 29,\n  'same_len': True,\n  'ratio': 1.0},\n {'file': PosixPath('MAZ_corr/2801-2900/Moreau2870_GBOOKS.json'),\n  'how_many': 1,\n  'len_c': 10,\n  'len_nc': 10,\n  'same_len': True,\n  'ratio': 0.1},\n {'file': PosixPath('MAZ_corr/2801-2900/Moreau2871_GBOOKS.json'),\n  'how_many': 1,\n  'len_c': 7,\n  'len_nc': 7,\n  'same_len': True,\n  'ratio': 0.14285714285714285},\n {'file': PosixPath('MAZ_corr/2801-2900/Moreau2872_GBOOKS.json'),\n  'how_many': 2,\n  'len_c': 7,\n  'len_nc': 7,\n  'same_len': True,\n  'ratio': 0.2857142857142857},\n {'file': PosixPath('MAZ_corr/2801-2900/Moreau2879_GBOOKS.json'),\n  'how_many': 3,\n  'len_c': 6,\n  'len_nc': 6,\n  'same_len': True,\n  'ratio': 0.5},\n {'file': PosixPath('MAZ_corr/2801-2900/Moreau2880_GBOOKS.json'),\n  'how_many': 3,\n  'len_c': 7,\n  'len_nc': 7,\n  'same_len': True,\n  'ratio': 0.42857142857142855},\n {'file': PosixPath('MAZ_corr/2801-2900/Moreau2882_GBOOKS.json'),\n  'how_many': 3,\n  'len_c': 7,\n  'len_nc': 7,\n  'same_len': True,\n  'ratio': 0.42857142857142855},\n {'file': PosixPath('MAZ_corr/2801-2900/Moreau2886_GBOOKS.json'),\n  'how_many': 12,\n  'len_c': 11,\n  'len_nc': 12,\n  'same_len': False,\n  'ratio': 1.0},\n {'file': PosixPath('MAZ_corr/2801-2900/Moreau2889_GBOOKS.json'),\n  'how_many': 3,\n  'len_c': 13,\n  'len_nc': 13,\n  'same_len': True,\n  'ratio': 0.23076923076923078},\n {'file': PosixPath('MAZ_corr/2801-2900/Moreau2891_MAZ.json'),\n  'how_many': 10,\n  'len_c': 11,\n  'len_nc': 10,\n  'same_len': False,\n  'ratio': 0.9090909090909091},\n {'file': PosixPath('MAZ_corr/2801-2900/Moreau2892_MAZ.json'),\n  'how_many': 31,\n  'len_c': 31,\n  'len_nc': 31,\n  'same_len': True,\n  'ratio': 1.0},\n {'file': PosixPath('MAZ_corr/2901-3000/Moreau2948_MAZ.json'),\n  'how_many': 7,\n  'len_c': 8,\n  'len_nc': 8,\n  'same_len': True,\n  'ratio': 0.875},\n {'file': PosixPath('MAZ_corr/2901-3000/Moreau2964_MAZ.json'),\n  'how_many': 12,\n  'len_c': 13,\n  'len_nc': 13,\n  'same_len': True,\n  'ratio': 0.9230769230769231},\n {'file': PosixPath('MAZ_corr/2901-3000/Moreau2967_MAZ.json'),\n  'how_many': 25,\n  'len_c': 25,\n  'len_nc': 25,\n  'same_len': True,\n  'ratio': 1.0},\n {'file': PosixPath('MAZ_corr/2901-3000/Moreau2971_MAZ.json'),\n  'how_many': 26,\n  'len_c': 26,\n  'len_nc': 26,\n  'same_len': True,\n  'ratio': 1.0},\n {'file': PosixPath('MAZ_corr/2901-3000/Moreau2977_MAZ.json'),\n  'how_many': 31,\n  'len_c': 31,\n  'len_nc': 31,\n  'same_len': True,\n  'ratio': 1.0},\n {'file': PosixPath('MAZ_corr/2901-3000/Moreau2984_MAZ.json'),\n  'how_many': 6,\n  'len_c': 6,\n  'len_nc': 6,\n  'same_len': True,\n  'ratio': 1.0},\n {'file': PosixPath('MAZ_corr/2901-3000/Moreau2985_GBOOKS.json'),\n  'how_many': 1,\n  'len_c': 7,\n  'len_nc': 7,\n  'same_len': True,\n  'ratio': 0.14285714285714285},\n {'file': PosixPath('MAZ_corr/2901-3000/Moreau2986_GBOOKS.json'),\n  'how_many': 5,\n  'len_c': 8,\n  'len_nc': 10,\n  'same_len': False,\n  'ratio': 0.5},\n {'file': PosixPath('MAZ_corr/2901-3000/Moreau2987_GBOOKS.json'),\n  'how_many': 1,\n  'len_c': 14,\n  'len_nc': 14,\n  'same_len': True,\n  'ratio': 0.07142857142857142},\n {'file': PosixPath('MAZ_corr/2901-3000/Moreau2994_GBOOKS.json'),\n  'how_many': 2,\n  'len_c': 13,\n  'len_nc': 13,\n  'same_len': True,\n  'ratio': 0.15384615384615385},\n {'file': PosixPath('MAZ_corr/2901-3000/Moreau2995_GALL.json'),\n  'how_many': 5,\n  'len_c': 4,\n  'len_nc': 6,\n  'same_len': False,\n  'ratio': 0.8333333333333334},\n {'file': PosixPath('MAZ_corr/2901-3000/Moreau2996_GBOOKS.json'),\n  'how_many': 1,\n  'len_c': 25,\n  'len_nc': 25,\n  'same_len': True,\n  'ratio': 0.04},\n {'file': PosixPath('MAZ_corr/2901-3000/Moreau2999_GBOOKS.json'),\n  'how_many': 5,\n  'len_c': 7,\n  'len_nc': 8,\n  'same_len': False,\n  'ratio': 0.625},\n {'file': PosixPath('MAZ_corr/2901-3000/Moreau3000_GBOOKS.json'),\n  'how_many': 4,\n  'len_c': 6,\n  'len_nc': 7,\n  'same_len': False,\n  'ratio': 0.5714285714285714},\n {'file': PosixPath('MAZ_corr/3001-3100/Moreau3003_GBOOKS.json'),\n  'how_many': 3,\n  'len_c': 6,\n  'len_nc': 7,\n  'same_len': False,\n  'ratio': 0.42857142857142855},\n {'file': PosixPath('MAZ_corr/3001-3100/Moreau3004_MAZ.json'),\n  'how_many': 3,\n  'len_c': 5,\n  'len_nc': 5,\n  'same_len': True,\n  'ratio': 0.6},\n {'file': PosixPath('MAZ_corr/3001-3100/Moreau3005_GBOOKS.json'),\n  'how_many': 3,\n  'len_c': 6,\n  'len_nc': 7,\n  'same_len': False,\n  'ratio': 0.42857142857142855},\n {'file': PosixPath('MAZ_corr/3001-3100/Moreau3006_GBOOKS.json'),\n  'how_many': 7,\n  'len_c': 6,\n  'len_nc': 7,\n  'same_len': False,\n  'ratio': 1.0},\n {'file': PosixPath('MAZ_corr/3001-3100/Moreau3007_GBOOKS.json'),\n  'how_many': 5,\n  'len_c': 7,\n  'len_nc': 8,\n  'same_len': False,\n  'ratio': 0.625},\n {'file': PosixPath('MAZ_corr/3001-3100/Moreau3010_GBOOKS.json'),\n  'how_many': 2,\n  'len_c': 7,\n  'len_nc': 8,\n  'same_len': False,\n  'ratio': 0.25},\n {'file': PosixPath('MAZ_corr/3001-3100/Moreau3011_GBOOKS.json'),\n  'how_many': 3,\n  'len_c': 7,\n  'len_nc': 8,\n  'same_len': False,\n  'ratio': 0.375},\n {'file': PosixPath('MAZ_corr/3001-3100/Moreau3016_GBOOKS.json'),\n  'how_many': 4,\n  'len_c': 15,\n  'len_nc': 16,\n  'same_len': False,\n  'ratio': 0.25},\n {'file': PosixPath('MAZ_corr/3001-3100/Moreau3017_MAZ.json'),\n  'how_many': 6,\n  'len_c': 6,\n  'len_nc': 6,\n  'same_len': True,\n  'ratio': 1.0},\n {'file': PosixPath('MAZ_corr/3001-3100/Moreau3018_GBOOKS.json'),\n  'how_many': 3,\n  'len_c': 11,\n  'len_nc': 12,\n  'same_len': False,\n  'ratio': 0.25},\n {'file': PosixPath('MAZ_corr/3001-3100/Moreau3019_GBOOKS.json'),\n  'how_many': 4,\n  'len_c': 5,\n  'len_nc': 6,\n  'same_len': False,\n  'ratio': 0.6666666666666666},\n {'file': PosixPath('MAZ_corr/3001-3100/Moreau3024_GBOOKS.json'),\n  'how_many': 3,\n  'len_c': 5,\n  'len_nc': 6,\n  'same_len': False,\n  'ratio': 0.5},\n {'file': PosixPath('MAZ_corr/3001-3100/Moreau3027_MAZ.json'),\n  'how_many': 5,\n  'len_c': 6,\n  'len_nc': 6,\n  'same_len': True,\n  'ratio': 0.8333333333333334},\n {'file': PosixPath('MAZ_corr/3001-3100/Moreau3030_GBOOKS.json'),\n  'how_many': 2,\n  'len_c': 7,\n  'len_nc': 7,\n  'same_len': True,\n  'ratio': 0.2857142857142857},\n {'file': PosixPath('MAZ_corr/3001-3100/Moreau3032_MAZ.json'),\n  'how_many': 3,\n  'len_c': 6,\n  'len_nc': 6,\n  'same_len': True,\n  'ratio': 0.5},\n {'file': PosixPath('MAZ_corr/3001-3100/Moreau3035-i_MAZ.json'),\n  'how_many': 92,\n  'len_c': 94,\n  'len_nc': 94,\n  'same_len': True,\n  'ratio': 0.9787234042553191},\n {'file': PosixPath('MAZ_corr/3001-3100/Moreau3035-ii_MAZ.json'),\n  'how_many': 80,\n  'len_c': 82,\n  'len_nc': 82,\n  'same_len': True,\n  'ratio': 0.975609756097561},\n {'file': PosixPath('MAZ_corr/3001-3100/Moreau3035-iii_MAZ.json'),\n  'how_many': 94,\n  'len_c': 97,\n  'len_nc': 97,\n  'same_len': True,\n  'ratio': 0.9690721649484536},\n {'file': PosixPath('MAZ_corr/3001-3100/Moreau3035-iv_MAZ.json'),\n  'how_many': 93,\n  'len_c': 95,\n  'len_nc': 95,\n  'same_len': True,\n  'ratio': 0.9789473684210527},\n {'file': PosixPath('MAZ_corr/3001-3100/Moreau3037_MAZ.json'),\n  'how_many': 748,\n  'len_c': 755,\n  'len_nc': 740,\n  'same_len': False,\n  'ratio': 0.990728476821192},\n {'file': PosixPath('MAZ_corr/3001-3100/Moreau3049_GALL.json'),\n  'how_many': 114,\n  'len_c': 111,\n  'len_nc': 114,\n  'same_len': False,\n  'ratio': 1.0},\n {'file': PosixPath('MAZ_corr/3001-3100/Moreau3055_GALL.json'),\n  'how_many': 3,\n  'len_c': 26,\n  'len_nc': 27,\n  'same_len': False,\n  'ratio': 0.1111111111111111},\n {'file': PosixPath('MAZ_corr/3001-3100/Moreau3057_GBOOKS.json'),\n  'how_many': 80,\n  'len_c': 6,\n  'len_nc': 80,\n  'same_len': False,\n  'ratio': 1.0},\n {'file': PosixPath('MAZ_corr/3001-3100/Moreau3096_GBOOKS.json'),\n  'how_many': 3,\n  'len_c': 7,\n  'len_nc': 8,\n  'same_len': False,\n  'ratio': 0.375},\n {'file': PosixPath('MAZ_corr/3001-3100/Moreau3097_GBOOKS.json'),\n  'how_many': 257,\n  'len_c': 257,\n  'len_nc': 258,\n  'same_len': False,\n  'ratio': 0.9961240310077519},\n {'file': PosixPath('MAZ_corr/3001-3100/Moreau3098_GALL.json'),\n  'how_many': 3,\n  'len_c': 8,\n  'len_nc': 8,\n  'same_len': True,\n  'ratio': 0.375},\n {'file': PosixPath('MAZ_corr/3001-3100/Moreau3099_GBOOKS.json'),\n  'how_many': 3,\n  'len_c': 6,\n  'len_nc': 7,\n  'same_len': False,\n  'ratio': 0.42857142857142855},\n {'file': PosixPath('MAZ_corr/3001-3100/Moreau3100_MAZ.json'),\n  'how_many': 9,\n  'len_c': 11,\n  'len_nc': 11,\n  'same_len': True,\n  'ratio': 0.8181818181818182},\n {'file': PosixPath('MAZ_corr/301-400/Moreau345_MAZ.json'),\n  'how_many': 3,\n  'len_c': 3,\n  'len_nc': 3,\n  'same_len': True,\n  'ratio': 1.0},\n {'file': PosixPath('MAZ_corr/301-400/Moreau385_GBOOKS.json'),\n  'how_many': 3,\n  'len_c': 7,\n  'len_nc': 7,\n  'same_len': True,\n  'ratio': 0.42857142857142855},\n {'file': PosixPath('MAZ_corr/301-400/Moreau387_GBOOKS.json'),\n  'how_many': 2,\n  'len_c': 6,\n  'len_nc': 6,\n  'same_len': True,\n  'ratio': 0.3333333333333333},\n {'file': PosixPath('MAZ_corr/301-400/Moreau388_GBOOKS.json'),\n  'how_many': 2,\n  'len_c': 6,\n  'len_nc': 6,\n  'same_len': True,\n  'ratio': 0.3333333333333333},\n {'file': PosixPath('MAZ_corr/301-400/Moreau389_MAZ.json'),\n  'how_many': 7,\n  'len_c': 7,\n  'len_nc': 7,\n  'same_len': True,\n  'ratio': 1.0},\n {'file': PosixPath('MAZ_corr/301-400/Moreau390_GBOOKS.json'),\n  'how_many': 3,\n  'len_c': 7,\n  'len_nc': 7,\n  'same_len': True,\n  'ratio': 0.42857142857142855},\n {'file': PosixPath('MAZ_corr/301-400/Moreau392_GBOOKS.json'),\n  'how_many': 3,\n  'len_c': 8,\n  'len_nc': 8,\n  'same_len': True,\n  'ratio': 0.375},\n {'file': PosixPath('MAZ_corr/301-400/Moreau393_MAZ.json'),\n  'how_many': 6,\n  'len_c': 7,\n  'len_nc': 7,\n  'same_len': True,\n  'ratio': 0.8571428571428571},\n {'file': PosixPath('MAZ_corr/301-400/Moreau394_MAZ.json'),\n  'how_many': 3,\n  'len_c': 6,\n  'len_nc': 6,\n  'same_len': True,\n  'ratio': 0.5},\n {'file': PosixPath('MAZ_corr/301-400/Moreau395_GBOOKS.json'),\n  'how_many': 2,\n  'len_c': 6,\n  'len_nc': 6,\n  'same_len': True,\n  'ratio': 0.3333333333333333},\n {'file': PosixPath('MAZ_corr/301-400/Moreau397_GBOOKS.json'),\n  'how_many': 3,\n  'len_c': 15,\n  'len_nc': 15,\n  'same_len': True,\n  'ratio': 0.2},\n {'file': PosixPath('MAZ_corr/3101-3200/Moreau3104_GBOOKS.json'),\n  'how_many': 3,\n  'len_c': 11,\n  'len_nc': 12,\n  'same_len': False,\n  'ratio': 0.25},\n {'file': PosixPath('MAZ_corr/3101-3200/Moreau3106_GBOOKS.json'),\n  'how_many': 4,\n  'len_c': 7,\n  'len_nc': 8,\n  'same_len': False,\n  'ratio': 0.5},\n {'file': PosixPath('MAZ_corr/3101-3200/Moreau3108_GBOOKS.json'),\n  'how_many': 3,\n  'len_c': 22,\n  'len_nc': 23,\n  'same_len': False,\n  'ratio': 0.13043478260869565},\n {'file': PosixPath('MAZ_corr/3101-3200/Moreau3110_GBOOKS.json'),\n  'how_many': 2,\n  'len_c': 4,\n  'len_nc': 4,\n  'same_len': True,\n  'ratio': 0.5},\n {'file': PosixPath('MAZ_corr/3101-3200/Moreau3114_GBOOKS.json'),\n  'how_many': 4,\n  'len_c': 6,\n  'len_nc': 7,\n  'same_len': False,\n  'ratio': 0.5714285714285714},\n {'file': PosixPath('MAZ_corr/3101-3200/Moreau3117_GBOOKS.json'),\n  'how_many': 4,\n  'len_c': 7,\n  'len_nc': 8,\n  'same_len': False,\n  'ratio': 0.5},\n {'file': PosixPath('MAZ_corr/3101-3200/Moreau3118_GBOOKS.json'),\n  'how_many': 4,\n  'len_c': 6,\n  'len_nc': 7,\n  'same_len': False,\n  'ratio': 0.5714285714285714},\n {'file': PosixPath('MAZ_corr/3101-3200/Moreau3119_GBOOKS.json'),\n  'how_many': 3,\n  'len_c': 7,\n  'len_nc': 8,\n  'same_len': False,\n  'ratio': 0.375},\n {'file': PosixPath('MAZ_corr/3101-3200/Moreau3121_GBOOKS.json'),\n  'how_many': 3,\n  'len_c': 7,\n  'len_nc': 8,\n  'same_len': False,\n  'ratio': 0.375},\n {'file': PosixPath('MAZ_corr/3101-3200/Moreau3122_GBOOKS.json'),\n  'how_many': 4,\n  'len_c': 7,\n  'len_nc': 8,\n  'same_len': False,\n  'ratio': 0.5},\n {'file': PosixPath('MAZ_corr/3101-3200/Moreau3125_GBOOKS.json'),\n  'how_many': 4,\n  'len_c': 7,\n  'len_nc': 8,\n  'same_len': False,\n  'ratio': 0.5},\n {'file': PosixPath('MAZ_corr/3101-3200/Moreau3126_GBOOKS.json'),\n  'how_many': 4,\n  'len_c': 14,\n  'len_nc': 15,\n  'same_len': False,\n  'ratio': 0.26666666666666666},\n {'file': PosixPath('MAZ_corr/3101-3200/Moreau3127_MAZ.json'),\n  'how_many': 6,\n  'len_c': 11,\n  'len_nc': 11,\n  'same_len': True,\n  'ratio': 0.5454545454545454},\n {'file': PosixPath('MAZ_corr/3101-3200/Moreau3129_GBOOKS.json'),\n  'how_many': 4,\n  'len_c': 7,\n  'len_nc': 8,\n  'same_len': False,\n  'ratio': 0.5},\n {'file': PosixPath('MAZ_corr/3101-3200/Moreau3130_GBOOKS.json'),\n  'how_many': 3,\n  'len_c': 6,\n  'len_nc': 7,\n  'same_len': False,\n  'ratio': 0.42857142857142855},\n {'file': PosixPath('MAZ_corr/3101-3200/Moreau3132_GBOOKS.json'),\n  'how_many': 3,\n  'len_c': 11,\n  'len_nc': 12,\n  'same_len': False,\n  'ratio': 0.25},\n {'file': PosixPath('MAZ_corr/3101-3200/Moreau3137_MAZ.json'),\n  'how_many': 6,\n  'len_c': 11,\n  'len_nc': 11,\n  'same_len': True,\n  'ratio': 0.5454545454545454},\n {'file': PosixPath('MAZ_corr/3101-3200/Moreau3139_GBOOKS.json'),\n  'how_many': 5,\n  'len_c': 5,\n  'len_nc': 8,\n  'same_len': False,\n  'ratio': 0.625},\n {'file': PosixPath('MAZ_corr/3101-3200/Moreau3141_MAZ.json'),\n  'how_many': 6,\n  'len_c': 5,\n  'len_nc': 6,\n  'same_len': False,\n  'ratio': 1.0},\n {'file': PosixPath('MAZ_corr/3101-3200/Moreau3142_MAZ.json'),\n  'how_many': 16,\n  'len_c': 26,\n  'len_nc': 31,\n  'same_len': False,\n  'ratio': 0.5161290322580645},\n {'file': PosixPath('MAZ_corr/3101-3200/Moreau3143_GBOOKS.json'),\n  'how_many': 4,\n  'len_c': 6,\n  'len_nc': 7,\n  'same_len': False,\n  'ratio': 0.5714285714285714},\n {'file': PosixPath('MAZ_corr/3101-3200/Moreau3146_GBOOKS.json'),\n  'how_many': 16,\n  'len_c': 6,\n  'len_nc': 16,\n  'same_len': False,\n  'ratio': 1.0},\n {'file': PosixPath('MAZ_corr/3101-3200/Moreau3149_GBOOKS.json'),\n  'how_many': 3,\n  'len_c': 13,\n  'len_nc': 14,\n  'same_len': False,\n  'ratio': 0.21428571428571427},\n {'file': PosixPath('MAZ_corr/3101-3200/Moreau3151_GBOOKS.json'),\n  'how_many': 3,\n  'len_c': 6,\n  'len_nc': 7,\n  'same_len': False,\n  'ratio': 0.42857142857142855},\n {'file': PosixPath('MAZ_corr/3101-3200/Moreau3152_GBOOKS.json'),\n  'how_many': 3,\n  'len_c': 7,\n  'len_nc': 8,\n  'same_len': False,\n  'ratio': 0.375},\n {'file': PosixPath('MAZ_corr/3101-3200/Moreau3154_GBOOKS.json'),\n  'how_many': 3,\n  'len_c': 7,\n  'len_nc': 8,\n  'same_len': False,\n  'ratio': 0.375},\n {'file': PosixPath('MAZ_corr/3101-3200/Moreau3156_GBOOKS.json'),\n  'how_many': 3,\n  'len_c': 9,\n  'len_nc': 10,\n  'same_len': False,\n  'ratio': 0.3},\n {'file': PosixPath('MAZ_corr/3101-3200/Moreau3162_MAZ.json'),\n  'how_many': 4,\n  'len_c': 5,\n  'len_nc': 6,\n  'same_len': False,\n  'ratio': 0.6666666666666666},\n {'file': PosixPath('MAZ_corr/3101-3200/Moreau3163_GBOOKS.json'),\n  'how_many': 3,\n  'len_c': 6,\n  'len_nc': 7,\n  'same_len': False,\n  'ratio': 0.42857142857142855},\n {'file': PosixPath('MAZ_corr/3101-3200/Moreau3165_MAZ.json'),\n  'how_many': 4,\n  'len_c': 4,\n  'len_nc': 4,\n  'same_len': True,\n  'ratio': 1.0},\n {'file': PosixPath('MAZ_corr/3101-3200/Moreau3166_MAZ.json'),\n  'how_many': 24,\n  'len_c': 26,\n  'len_nc': 26,\n  'same_len': True,\n  'ratio': 0.9230769230769231},\n {'file': PosixPath('MAZ_corr/3101-3200/Moreau3170_GBOOKS.json'),\n  'how_many': 6,\n  'len_c': 9,\n  'len_nc': 12,\n  'same_len': False,\n  'ratio': 0.5},\n {'file': PosixPath('MAZ_corr/3101-3200/Moreau3176_GBOOKS.json'),\n  'how_many': 4,\n  'len_c': 7,\n  'len_nc': 8,\n  'same_len': False,\n  'ratio': 0.5},\n {'file': PosixPath('MAZ_corr/3101-3200/Moreau3177_GBOOKS.json'),\n  'how_many': 3,\n  'len_c': 15,\n  'len_nc': 16,\n  'same_len': False,\n  'ratio': 0.1875},\n {'file': PosixPath('MAZ_corr/3101-3200/Moreau3180_GBOOKS.json'),\n  'how_many': 4,\n  'len_c': 7,\n  'len_nc': 8,\n  'same_len': False,\n  'ratio': 0.5},\n {'file': PosixPath('MAZ_corr/3101-3200/Moreau3181_GBOOKS.json'),\n  'how_many': 4,\n  'len_c': 5,\n  'len_nc': 6,\n  'same_len': False,\n  'ratio': 0.6666666666666666},\n {'file': PosixPath('MAZ_corr/3101-3200/Moreau3186_GBOOKS.json'),\n  'how_many': 4,\n  'len_c': 6,\n  'len_nc': 7,\n  'same_len': False,\n  'ratio': 0.5714285714285714},\n {'file': PosixPath('MAZ_corr/3101-3200/Moreau3188_GBOOKS.json'),\n  'how_many': 4,\n  'len_c': 7,\n  'len_nc': 8,\n  'same_len': False,\n  'ratio': 0.5},\n {'file': PosixPath('MAZ_corr/3101-3200/Moreau3189_GBOOKS.json'),\n  'how_many': 3,\n  'len_c': 7,\n  'len_nc': 8,\n  'same_len': False,\n  'ratio': 0.375},\n {'file': PosixPath('MAZ_corr/3101-3200/Moreau3190_MAZ.json'),\n  'how_many': 3,\n  'len_c': 5,\n  'len_nc': 5,\n  'same_len': True,\n  'ratio': 0.6},\n {'file': PosixPath('MAZ_corr/3101-3200/Moreau3191_GBOOKS.json'),\n  'how_many': 3,\n  'len_c': 7,\n  'len_nc': 8,\n  'same_len': False,\n  'ratio': 0.375},\n {'file': PosixPath('MAZ_corr/3101-3200/Moreau3195_GBOOKS.json'),\n  'how_many': 4,\n  'len_c': 7,\n  'len_nc': 8,\n  'same_len': False,\n  'ratio': 0.5},\n {'file': PosixPath('MAZ_corr/3101-3200/Moreau3198_GALL.json'),\n  'how_many': 5,\n  'len_c': 6,\n  'len_nc': 7,\n  'same_len': False,\n  'ratio': 0.7142857142857143},\n {'file': PosixPath('MAZ_corr/3101-3200/Moreau3199_MAZ.json'),\n  'how_many': 6,\n  'len_c': 6,\n  'len_nc': 7,\n  'same_len': False,\n  'ratio': 0.8571428571428571},\n {'file': PosixPath('MAZ_corr/3101-3200/Moreau3200_GBOOKS.json'),\n  'how_many': 3,\n  'len_c': 6,\n  'len_nc': 7,\n  'same_len': False,\n  'ratio': 0.42857142857142855},\n {'file': PosixPath('MAZ_corr/3201-3300/Moreau3204_GBOOKS.json'),\n  'how_many': 4,\n  'len_c': 10,\n  'len_nc': 11,\n  'same_len': False,\n  'ratio': 0.36363636363636365},\n {'file': PosixPath('MAZ_corr/3201-3300/Moreau3205_GBOOKS.json'),\n  'how_many': 2,\n  'len_c': 12,\n  'len_nc': 13,\n  'same_len': False,\n  'ratio': 0.15384615384615385},\n {'file': PosixPath('MAZ_corr/3201-3300/Moreau3209_GBOOKS.json'),\n  'how_many': 8,\n  'len_c': 15,\n  'len_nc': 16,\n  'same_len': False,\n  'ratio': 0.5},\n {'file': PosixPath('MAZ_corr/3201-3300/Moreau3214_GBOOKS.json'),\n  'how_many': 4,\n  'len_c': 7,\n  'len_nc': 8,\n  'same_len': False,\n  'ratio': 0.5},\n {'file': PosixPath('MAZ_corr/3201-3300/Moreau3215_GBOOKS.json'),\n  'how_many': 4,\n  'len_c': 7,\n  'len_nc': 8,\n  'same_len': False,\n  'ratio': 0.5},\n {'file': PosixPath('MAZ_corr/3201-3300/Moreau3216_GBOOKS.json'),\n  'how_many': 4,\n  'len_c': 7,\n  'len_nc': 8,\n  'same_len': False,\n  'ratio': 0.5},\n {'file': PosixPath('MAZ_corr/3201-3300/Moreau3219_GBOOKS.json'),\n  'how_many': 3,\n  'len_c': 6,\n  'len_nc': 7,\n  'same_len': False,\n  'ratio': 0.42857142857142855},\n {'file': PosixPath('MAZ_corr/3201-3300/Moreau3220_GBOOKS.json'),\n  'how_many': 3,\n  'len_c': 6,\n  'len_nc': 7,\n  'same_len': False,\n  'ratio': 0.42857142857142855},\n {'file': PosixPath('MAZ_corr/3201-3300/Moreau3222_GBOOKS.json'),\n  'how_many': 3,\n  'len_c': 6,\n  'len_nc': 7,\n  'same_len': False,\n  'ratio': 0.42857142857142855},\n {'file': PosixPath('MAZ_corr/3201-3300/Moreau3225_GBOOKS.json'),\n  'how_many': 3,\n  'len_c': 15,\n  'len_nc': 16,\n  'same_len': False,\n  'ratio': 0.1875},\n {'file': PosixPath('MAZ_corr/3201-3300/Moreau3229_GBOOKS.json'),\n  'how_many': 5,\n  'len_c': 16,\n  'len_nc': 18,\n  'same_len': False,\n  'ratio': 0.2777777777777778},\n {'file': PosixPath('MAZ_corr/3201-3300/Moreau3230_GBOOKS.json'),\n  'how_many': 1,\n  'len_c': 16,\n  'len_nc': 16,\n  'same_len': True,\n  'ratio': 0.0625},\n {'file': PosixPath('MAZ_corr/3201-3300/Moreau3233_GBOOKS.json'),\n  'how_many': 3,\n  'len_c': 6,\n  'len_nc': 7,\n  'same_len': False,\n  'ratio': 0.42857142857142855},\n {'file': PosixPath('MAZ_corr/3201-3300/Moreau3234_GBOOKS.json'),\n  'how_many': 3,\n  'len_c': 7,\n  'len_nc': 8,\n  'same_len': False,\n  'ratio': 0.375},\n {'file': PosixPath('MAZ_corr/3201-3300/Moreau3241_GBOOKS.json'),\n  'how_many': 3,\n  'len_c': 7,\n  'len_nc': 8,\n  'same_len': False,\n  'ratio': 0.375},\n {'file': PosixPath('MAZ_corr/3201-3300/Moreau3242_GBOOKS.json'),\n  'how_many': 3,\n  'len_c': 7,\n  'len_nc': 8,\n  'same_len': False,\n  'ratio': 0.375},\n {'file': PosixPath('MAZ_corr/3201-3300/Moreau3243_GBOOKS.json'),\n  'how_many': 7,\n  'len_c': 6,\n  'len_nc': 7,\n  'same_len': False,\n  'ratio': 1.0},\n {'file': PosixPath('MAZ_corr/3201-3300/Moreau3244_GBOOKS.json'),\n  'how_many': 3,\n  'len_c': 5,\n  'len_nc': 6,\n  'same_len': False,\n  'ratio': 0.5},\n {'file': PosixPath('MAZ_corr/3201-3300/Moreau3246_MAZ.json'),\n  'how_many': 3,\n  'len_c': 6,\n  'len_nc': 6,\n  'same_len': True,\n  'ratio': 0.5},\n {'file': PosixPath('MAZ_corr/3201-3300/Moreau3247_GBOOKS.json'),\n  'how_many': 3,\n  'len_c': 6,\n  'len_nc': 7,\n  'same_len': False,\n  'ratio': 0.42857142857142855},\n {'file': PosixPath('MAZ_corr/3201-3300/Moreau3248_GBOOKS.json'),\n  'how_many': 2,\n  'len_c': 6,\n  'len_nc': 6,\n  'same_len': True,\n  'ratio': 0.3333333333333333},\n {'file': PosixPath('MAZ_corr/3201-3300/Moreau3250_GBOOKS.json'),\n  'how_many': 3,\n  'len_c': 6,\n  'len_nc': 7,\n  'same_len': False,\n  'ratio': 0.42857142857142855},\n {'file': PosixPath('MAZ_corr/3201-3300/Moreau3251_GBOOKS.json'),\n  'how_many': 1,\n  'len_c': 8,\n  'len_nc': 8,\n  'same_len': True,\n  'ratio': 0.125},\n {'file': PosixPath('MAZ_corr/3201-3300/Moreau3255_GBOOKS.json'),\n  'how_many': 3,\n  'len_c': 5,\n  'len_nc': 6,\n  'same_len': False,\n  'ratio': 0.5},\n {'file': PosixPath('MAZ_corr/3201-3300/Moreau3256_GBOOKS.json'),\n  'how_many': 3,\n  'len_c': 6,\n  'len_nc': 7,\n  'same_len': False,\n  'ratio': 0.42857142857142855},\n {'file': PosixPath('MAZ_corr/3201-3300/Moreau3257_GBOOKS.json'),\n  'how_many': 3,\n  'len_c': 6,\n  'len_nc': 7,\n  'same_len': False,\n  'ratio': 0.42857142857142855},\n {'file': PosixPath('MAZ_corr/3201-3300/Moreau3273_GBOOKS.json'),\n  'how_many': 3,\n  'len_c': 17,\n  'len_nc': 18,\n  'same_len': False,\n  'ratio': 0.16666666666666666},\n {'file': PosixPath('MAZ_corr/3301-3400/Moreau3326_MAZ.json'),\n  'how_many': 3,\n  'len_c': 6,\n  'len_nc': 6,\n  'same_len': True,\n  'ratio': 0.5},\n {'file': PosixPath('MAZ_corr/3301-3400/Moreau3328_MAZ.json'),\n  'how_many': 4,\n  'len_c': 6,\n  'len_nc': 6,\n  'same_len': True,\n  'ratio': 0.6666666666666666},\n {'file': PosixPath('MAZ_corr/3301-3400/Moreau3341_MAZ.json'),\n  'how_many': 5,\n  'len_c': 6,\n  'len_nc': 6,\n  'same_len': True,\n  'ratio': 0.8333333333333334},\n {'file': PosixPath('MAZ_corr/3301-3400/Moreau3399_MAZ.json'),\n  'how_many': 34,\n  'len_c': 34,\n  'len_nc': 34,\n  'same_len': True,\n  'ratio': 1.0},\n {'file': PosixPath('MAZ_corr/3401-3500/Moreau3463_MAZ.json'),\n  'how_many': 1,\n  'len_c': 7,\n  'len_nc': 7,\n  'same_len': True,\n  'ratio': 0.14285714285714285},\n {'file': PosixPath('MAZ_corr/3401-3500/Moreau3478_MAZ.json'),\n  'how_many': 4,\n  'len_c': 4,\n  'len_nc': 4,\n  'same_len': True,\n  'ratio': 1.0},\n {'file': PosixPath('MAZ_corr/3501-3600/Moreau3554_MAZ.json'),\n  'how_many': 11,\n  'len_c': 12,\n  'len_nc': 12,\n  'same_len': True,\n  'ratio': 0.9166666666666666},\n {'file': PosixPath('MAZ_corr/3501-3600/Moreau3561_MAZ.json'),\n  'how_many': 31,\n  'len_c': 31,\n  'len_nc': 31,\n  'same_len': True,\n  'ratio': 1.0},\n {'file': PosixPath('MAZ_corr/3501-3600/Moreau3570_GBOOKS.json'),\n  'how_many': 2,\n  'len_c': 6,\n  'len_nc': 7,\n  'same_len': False,\n  'ratio': 0.2857142857142857},\n {'file': PosixPath('MAZ_corr/3501-3600/Moreau3572_GBOOKS.json'),\n  'how_many': 3,\n  'len_c': 6,\n  'len_nc': 7,\n  'same_len': False,\n  'ratio': 0.42857142857142855},\n {'file': PosixPath('MAZ_corr/3501-3600/Moreau3577_GALL.json'),\n  'how_many': 2,\n  'len_c': 7,\n  'len_nc': 7,\n  'same_len': True,\n  'ratio': 0.2857142857142857},\n {'file': PosixPath('MAZ_corr/3501-3600/Moreau3598_MAZ.json'),\n  'how_many': 114,\n  'len_c': 115,\n  'len_nc': 115,\n  'same_len': True,\n  'ratio': 0.991304347826087},\n {'file': PosixPath('MAZ_corr/3601-3700/Moreau3620_MAZ.json'),\n  'how_many': 4,\n  'len_c': 6,\n  'len_nc': 6,\n  'same_len': True,\n  'ratio': 0.6666666666666666},\n {'file': PosixPath('MAZ_corr/3601-3700/Moreau3648_MAZ.json'),\n  'how_many': 75,\n  'len_c': 76,\n  'len_nc': 76,\n  'same_len': True,\n  'ratio': 0.9868421052631579},\n {'file': PosixPath('MAZ_corr/3601-3700/Moreau3663_MAZ.json'),\n  'how_many': 2,\n  'len_c': 3,\n  'len_nc': 3,\n  'same_len': True,\n  'ratio': 0.6666666666666666},\n {'file': PosixPath('MAZ_corr/3601-3700/Moreau3665_GBOOKS.json'),\n  'how_many': 4,\n  'len_c': 7,\n  'len_nc': 8,\n  'same_len': False,\n  'ratio': 0.5},\n {'file': PosixPath('MAZ_corr/3601-3700/Moreau3671_GBOOKS.json'),\n  'how_many': 4,\n  'len_c': 8,\n  'len_nc': 8,\n  'same_len': True,\n  'ratio': 0.5},\n {'file': PosixPath('MAZ_corr/3601-3700/Moreau3672_MAZ.json'),\n  'how_many': 3,\n  'len_c': 5,\n  'len_nc': 5,\n  'same_len': True,\n  'ratio': 0.6},\n {'file': PosixPath('MAZ_corr/3601-3700/Moreau3686_GBOOKS.json'),\n  'how_many': 82,\n  'len_c': 6,\n  'len_nc': 82,\n  'same_len': False,\n  'ratio': 1.0},\n {'file': PosixPath('MAZ_corr/3701-3800/Moreau3705_MAZ.json'),\n  'how_many': 1,\n  'len_c': 7,\n  'len_nc': 7,\n  'same_len': True,\n  'ratio': 0.14285714285714285},\n {'file': PosixPath('MAZ_corr/3701-3800/Moreau3721_MAZ.json'),\n  'how_many': 5,\n  'len_c': 6,\n  'len_nc': 6,\n  'same_len': True,\n  'ratio': 0.8333333333333334},\n {'file': PosixPath('MAZ_corr/3701-3800/Moreau3725_GBOOKS.json'),\n  'how_many': 4,\n  'len_c': 7,\n  'len_nc': 8,\n  'same_len': False,\n  'ratio': 0.5},\n {'file': PosixPath('MAZ_corr/3701-3800/Moreau3726_GBOOKS.json'),\n  'how_many': 46,\n  'len_c': 45,\n  'len_nc': 46,\n  'same_len': False,\n  'ratio': 1.0},\n {'file': PosixPath('MAZ_corr/3701-3800/Moreau3727_MAZ.json'),\n  'how_many': 1,\n  'len_c': 8,\n  'len_nc': 8,\n  'same_len': True,\n  'ratio': 0.125},\n {'file': PosixPath('MAZ_corr/3701-3800/Moreau3728_GBOOKS.json'),\n  'how_many': 261,\n  'len_c': 261,\n  'len_nc': 262,\n  'same_len': False,\n  'ratio': 0.9961832061068703},\n {'file': PosixPath('MAZ_corr/3701-3800/Moreau3741_GBOOKS.json'),\n  'how_many': 4,\n  'len_c': 14,\n  'len_nc': 15,\n  'same_len': False,\n  'ratio': 0.26666666666666666},\n {'file': PosixPath('MAZ_corr/3701-3800/Moreau3742_GBOOKS.json'),\n  'how_many': 38,\n  'len_c': 37,\n  'len_nc': 38,\n  'same_len': False,\n  'ratio': 1.0},\n {'file': PosixPath('MAZ_corr/3701-3800/Moreau3743_MAZ.json'),\n  'how_many': 2,\n  'len_c': 4,\n  'len_nc': 4,\n  'same_len': True,\n  'ratio': 0.5},\n {'file': PosixPath('MAZ_corr/3701-3800/Moreau3748_MAZ.json'),\n  'how_many': 10,\n  'len_c': 28,\n  'len_nc': 28,\n  'same_len': True,\n  'ratio': 0.35714285714285715},\n {'file': PosixPath('MAZ_corr/3701-3800/Moreau3766_MAZ.json'),\n  'how_many': 14,\n  'len_c': 15,\n  'len_nc': 15,\n  'same_len': True,\n  'ratio': 0.9333333333333333},\n {'file': PosixPath('MAZ_corr/3701-3800/Moreau3769_MAZ.json'),\n  'how_many': 10,\n  'len_c': 11,\n  'len_nc': 11,\n  'same_len': True,\n  'ratio': 0.9090909090909091},\n {'file': PosixPath('MAZ_corr/3701-3800/Moreau3792_GBOOKS.json'),\n  'how_many': 5,\n  'len_c': 6,\n  'len_nc': 7,\n  'same_len': False,\n  'ratio': 0.7142857142857143},\n {'file': PosixPath('MAZ_corr/3701-3800/Moreau3794_GBOOKS.json'),\n  'how_many': 3,\n  'len_c': 6,\n  'len_nc': 6,\n  'same_len': True,\n  'ratio': 0.5},\n {'file': PosixPath('MAZ_corr/3801-3900/Moreau3814_MAZ.json'),\n  'how_many': 13,\n  'len_c': 14,\n  'len_nc': 14,\n  'same_len': True,\n  'ratio': 0.9285714285714286},\n {'file': PosixPath('MAZ_corr/3801-3900/Moreau3846_GBOOKS.json'),\n  'how_many': 22,\n  'len_c': 7,\n  'len_nc': 22,\n  'same_len': False,\n  'ratio': 1.0},\n {'file': PosixPath('MAZ_corr/3801-3900/Moreau3847_GALL.json'),\n  'how_many': 4,\n  'len_c': 10,\n  'len_nc': 11,\n  'same_len': False,\n  'ratio': 0.36363636363636365},\n {'file': PosixPath('MAZ_corr/3801-3900/Moreau3848_GALL.json'),\n  'how_many': 3,\n  'len_c': 7,\n  'len_nc': 7,\n  'same_len': True,\n  'ratio': 0.42857142857142855},\n {'file': PosixPath('MAZ_corr/3801-3900/Moreau3849_GALL.json'),\n  'how_many': 2,\n  'len_c': 6,\n  'len_nc': 6,\n  'same_len': True,\n  'ratio': 0.3333333333333333},\n {'file': PosixPath('MAZ_corr/3801-3900/Moreau3850_GALL.json'),\n  'how_many': 3,\n  'len_c': 7,\n  'len_nc': 8,\n  'same_len': False,\n  'ratio': 0.375},\n {'file': PosixPath('MAZ_corr/3801-3900/Moreau3851_GALL.json'),\n  'how_many': 7,\n  'len_c': 9,\n  'len_nc': 9,\n  'same_len': True,\n  'ratio': 0.7777777777777778},\n {'file': PosixPath('MAZ_corr/3801-3900/Moreau3852_GALL.json'),\n  'how_many': 3,\n  'len_c': 6,\n  'len_nc': 6,\n  'same_len': True,\n  'ratio': 0.5},\n {'file': PosixPath('MAZ_corr/3801-3900/Moreau3853_GALL.json'),\n  'how_many': 4,\n  'len_c': 7,\n  'len_nc': 8,\n  'same_len': False,\n  'ratio': 0.5},\n {'file': PosixPath('MAZ_corr/3801-3900/Moreau3854_GALL.json'),\n  'how_many': 5,\n  'len_c': 7,\n  'len_nc': 8,\n  'same_len': False,\n  'ratio': 0.625},\n {'file': PosixPath('MAZ_corr/3801-3900/Moreau3855_GALL.json'),\n  'how_many': 3,\n  'len_c': 8,\n  'len_nc': 8,\n  'same_len': True,\n  'ratio': 0.375},\n {'file': PosixPath('MAZ_corr/3801-3900/Moreau3856_GBOOKS.json'),\n  'how_many': 4,\n  'len_c': 7,\n  'len_nc': 8,\n  'same_len': False,\n  'ratio': 0.5},\n {'file': PosixPath('MAZ_corr/3801-3900/Moreau3857_GALL.json'),\n  'how_many': 2,\n  'len_c': 6,\n  'len_nc': 6,\n  'same_len': True,\n  'ratio': 0.3333333333333333},\n {'file': PosixPath('MAZ_corr/3801-3900/Moreau3858_GBOOKS.json'),\n  'how_many': 2,\n  'len_c': 8,\n  'len_nc': 8,\n  'same_len': True,\n  'ratio': 0.25},\n {'file': PosixPath('MAZ_corr/3801-3900/Moreau3859_GALL.json'),\n  'how_many': 4,\n  'len_c': 10,\n  'len_nc': 11,\n  'same_len': False,\n  'ratio': 0.36363636363636365},\n {'file': PosixPath('MAZ_corr/3801-3900/Moreau3860_GALL.json'),\n  'how_many': 9,\n  'len_c': 1,\n  'len_nc': 9,\n  'same_len': False,\n  'ratio': 1.0},\n {'file': PosixPath('MAZ_corr/3801-3900/Moreau3861_MAZ.json'),\n  'how_many': 1,\n  'len_c': 4,\n  'len_nc': 4,\n  'same_len': True,\n  'ratio': 0.25},\n {'file': PosixPath('MAZ_corr/3801-3900/Moreau3862_GALL.json'),\n  'how_many': 4,\n  'len_c': 9,\n  'len_nc': 10,\n  'same_len': False,\n  'ratio': 0.4},\n {'file': PosixPath('MAZ_corr/3801-3900/Moreau3864_GALL.json'),\n  'how_many': 4,\n  'len_c': 7,\n  'len_nc': 8,\n  'same_len': False,\n  'ratio': 0.5},\n {'file': PosixPath('MAZ_corr/3801-3900/Moreau3865_GALL.json'),\n  'how_many': 2,\n  'len_c': 6,\n  'len_nc': 6,\n  'same_len': True,\n  'ratio': 0.3333333333333333},\n {'file': PosixPath('MAZ_corr/3801-3900/Moreau3866_GALL.json'),\n  'how_many': 3,\n  'len_c': 11,\n  'len_nc': 11,\n  'same_len': True,\n  'ratio': 0.2727272727272727},\n {'file': PosixPath('MAZ_corr/3801-3900/Moreau3867_GALL.json'),\n  'how_many': 3,\n  'len_c': 5,\n  'len_nc': 6,\n  'same_len': False,\n  'ratio': 0.5},\n {'file': PosixPath('MAZ_corr/3801-3900/Moreau3868_GALL.json'),\n  'how_many': 2,\n  'len_c': 6,\n  'len_nc': 6,\n  'same_len': True,\n  'ratio': 0.3333333333333333},\n {'file': PosixPath('MAZ_corr/3801-3900/Moreau3869_GALL.json'),\n  'how_many': 2,\n  'len_c': 6,\n  'len_nc': 6,\n  'same_len': True,\n  'ratio': 0.3333333333333333},\n {'file': PosixPath('MAZ_corr/3801-3900/Moreau3870_GALL.json'),\n  'how_many': 1,\n  'len_c': 7,\n  'len_nc': 7,\n  'same_len': True,\n  'ratio': 0.14285714285714285},\n {'file': PosixPath('MAZ_corr/3801-3900/Moreau3871_GALL.json'),\n  'how_many': 24,\n  'len_c': 23,\n  'len_nc': 24,\n  'same_len': False,\n  'ratio': 1.0},\n {'file': PosixPath('MAZ_corr/3801-3900/Moreau3872_GALL.json'),\n  'how_many': 3,\n  'len_c': 14,\n  'len_nc': 7,\n  'same_len': False,\n  'ratio': 0.21428571428571427},\n {'file': PosixPath('MAZ_corr/3801-3900/Moreau3899_GALL.json'),\n  'how_many': 2,\n  'len_c': 8,\n  'len_nc': 8,\n  'same_len': True,\n  'ratio': 0.25},\n {'file': PosixPath('MAZ_corr/3801-3900/Moreau3900_MAZ.json'),\n  'how_many': 15,\n  'len_c': 15,\n  'len_nc': 15,\n  'same_len': True,\n  'ratio': 1.0},\n {'file': PosixPath('MAZ_corr/3901-4000/Moreau3901_MAZ.json'),\n  'how_many': 271,\n  'len_c': 273,\n  'len_nc': 273,\n  'same_len': True,\n  'ratio': 0.9926739926739927},\n {'file': PosixPath('MAZ_corr/3901-4000/Moreau3927_GBOOKS.json'),\n  'how_many': 4,\n  'len_c': 7,\n  'len_nc': 8,\n  'same_len': False,\n  'ratio': 0.5},\n {'file': PosixPath('MAZ_corr/3901-4000/Moreau3930_MAZ.json'),\n  'how_many': 4,\n  'len_c': 6,\n  'len_nc': 7,\n  'same_len': False,\n  'ratio': 0.5714285714285714},\n {'file': PosixPath('MAZ_corr/3901-4000/Moreau3947_MAZ.json'),\n  'how_many': 3,\n  'len_c': 7,\n  'len_nc': 7,\n  'same_len': True,\n  'ratio': 0.42857142857142855},\n {'file': PosixPath('MAZ_corr/3901-4000/Moreau3950_GBOOKS.json'),\n  'how_many': 5,\n  'len_c': 6,\n  'len_nc': 8,\n  'same_len': False,\n  'ratio': 0.625},\n {'file': PosixPath('MAZ_corr/3901-4000/Moreau3951_MAZ.json'),\n  'how_many': 5,\n  'len_c': 6,\n  'len_nc': 6,\n  'same_len': True,\n  'ratio': 0.8333333333333334},\n {'file': PosixPath('MAZ_corr/3901-4000/Moreau3961_GBOOKS.json'),\n  'how_many': 3,\n  'len_c': 14,\n  'len_nc': 14,\n  'same_len': True,\n  'ratio': 0.21428571428571427},\n {'file': PosixPath('MAZ_corr/3901-4000/Moreau3962_MAZ.json'),\n  'how_many': 4,\n  'len_c': 4,\n  'len_nc': 4,\n  'same_len': True,\n  'ratio': 1.0},\n {'file': PosixPath('MAZ_corr/3901-4000/Moreau3973_GBOOKS.json'),\n  'how_many': 5,\n  'len_c': 7,\n  'len_nc': 8,\n  'same_len': False,\n  'ratio': 0.625},\n {'file': PosixPath('MAZ_corr/3901-4000/Moreau3974_GBOOKS.json'),\n  'how_many': 2,\n  'len_c': 8,\n  'len_nc': 8,\n  'same_len': True,\n  'ratio': 0.25},\n {'file': PosixPath('MAZ_corr/3901-4000/Moreau3975_GBOOKS.json'),\n  'how_many': 4,\n  'len_c': 7,\n  'len_nc': 8,\n  'same_len': False,\n  'ratio': 0.5},\n {'file': PosixPath('MAZ_corr/3901-4000/Moreau3986_GBOOKS.json'),\n  'how_many': 19,\n  'len_c': 18,\n  'len_nc': 19,\n  'same_len': False,\n  'ratio': 1.0},\n {'file': PosixPath('MAZ_corr/3901-4000/Moreau3998_MAZ.json'),\n  'how_many': 38,\n  'len_c': 39,\n  'len_nc': 39,\n  'same_len': True,\n  'ratio': 0.9743589743589743},\n {'file': PosixPath('MAZ_corr/4001-4100/Moreau4004_MAZ.json'),\n  'how_many': 8,\n  'len_c': 8,\n  'len_nc': 8,\n  'same_len': True,\n  'ratio': 1.0},\n {'file': PosixPath('MAZ_corr/4001-4100/Moreau4026_MAZ.json'),\n  'how_many': 1,\n  'len_c': 8,\n  'len_nc': 8,\n  'same_len': True,\n  'ratio': 0.125},\n {'file': PosixPath('MAZ_corr/4001-4100/Moreau4075_MAZ.json'),\n  'how_many': 6,\n  'len_c': 6,\n  'len_nc': 7,\n  'same_len': False,\n  'ratio': 0.8571428571428571},\n {'file': PosixPath('MAZ_corr/401-500/Moreau412_MAZ.json'),\n  'how_many': 2,\n  'len_c': 3,\n  'len_nc': 3,\n  'same_len': True,\n  'ratio': 0.6666666666666666},\n {'file': PosixPath('MAZ_corr/401-500/Moreau439_GBOOKS.json'),\n  'how_many': 6,\n  'len_c': 7,\n  'len_nc': 7,\n  'same_len': True,\n  'ratio': 0.8571428571428571},\n {'file': PosixPath('MAZ_corr/401-500/Moreau456_MAZ.json'),\n  'how_many': 22,\n  'len_c': 22,\n  'len_nc': 22,\n  'same_len': True,\n  'ratio': 1.0},\n {'file': PosixPath('MAZ_corr/401-500/Moreau460_MAZ.json'),\n  'how_many': 5,\n  'len_c': 5,\n  'len_nc': 5,\n  'same_len': True,\n  'ratio': 1.0},\n {'file': PosixPath('MAZ_corr/401-500/Moreau465-i_MAZ.json'),\n  'how_many': 29,\n  'len_c': 30,\n  'len_nc': 30,\n  'same_len': True,\n  'ratio': 0.9666666666666667},\n {'file': PosixPath('MAZ_corr/401-500/Moreau465-ii_MAZ.json'),\n  'how_many': 29,\n  'len_c': 30,\n  'len_nc': 30,\n  'same_len': True,\n  'ratio': 0.9666666666666667},\n {'file': PosixPath('MAZ_corr/401-500/Moreau465-iii_MAZ.json'),\n  'how_many': 30,\n  'len_c': 31,\n  'len_nc': 31,\n  'same_len': True,\n  'ratio': 0.967741935483871},\n {'file': PosixPath('MAZ_corr/401-500/Moreau467_MAZ.json'),\n  'how_many': 30,\n  'len_c': 30,\n  'len_nc': 30,\n  'same_len': True,\n  'ratio': 1.0},\n {'file': PosixPath('MAZ_corr/401-500/Moreau473_MAZ.json'),\n  'how_many': 5,\n  'len_c': 5,\n  'len_nc': 5,\n  'same_len': True,\n  'ratio': 1.0},\n {'file': PosixPath('MAZ_corr/401-500/Moreau489_MAZ.json'),\n  'how_many': 1,\n  'len_c': 1,\n  'len_nc': 1,\n  'same_len': True,\n  'ratio': 1.0},\n {'file': PosixPath('MAZ_corr/501-600/Moreau514_MAZ.json'),\n  'how_many': 4,\n  'len_c': 11,\n  'len_nc': 12,\n  'same_len': False,\n  'ratio': 0.3333333333333333},\n {'file': PosixPath('MAZ_corr/501-600/Moreau555_MAZ.json'),\n  'how_many': 30,\n  'len_c': 31,\n  'len_nc': 31,\n  'same_len': True,\n  'ratio': 0.967741935483871},\n {'file': PosixPath('MAZ_corr/501-600/Moreau562_GALL.json'),\n  'how_many': 3,\n  'len_c': 3,\n  'len_nc': 3,\n  'same_len': True,\n  'ratio': 1.0},\n {'file': PosixPath('MAZ_corr/501-600/Moreau563_GALL.json'),\n  'how_many': 3,\n  'len_c': 3,\n  'len_nc': 3,\n  'same_len': True,\n  'ratio': 1.0},\n {'file': PosixPath('MAZ_corr/501-600/Moreau564_GALL.json'),\n  'how_many': 1,\n  'len_c': 1,\n  'len_nc': 1,\n  'same_len': True,\n  'ratio': 1.0},\n {'file': PosixPath('MAZ_corr/501-600/Moreau565_GALL.json'),\n  'how_many': 5,\n  'len_c': 4,\n  'len_nc': 5,\n  'same_len': False,\n  'ratio': 1.0},\n {'file': PosixPath('MAZ_corr/501-600/Moreau566_GALL.json'),\n  'how_many': 2,\n  'len_c': 3,\n  'len_nc': 3,\n  'same_len': True,\n  'ratio': 0.6666666666666666},\n {'file': PosixPath('MAZ_corr/501-600/Moreau567_MAZ.json'),\n  'how_many': 1,\n  'len_c': 3,\n  'len_nc': 3,\n  'same_len': True,\n  'ratio': 0.3333333333333333},\n {'file': PosixPath('MAZ_corr/501-600/Moreau568_GALL.json'),\n  'how_many': 9,\n  'len_c': 8,\n  'len_nc': 10,\n  'same_len': False,\n  'ratio': 0.9},\n {'file': PosixPath('MAZ_corr/501-600/Moreau569_GALL.json'),\n  'how_many': 4,\n  'len_c': 7,\n  'len_nc': 8,\n  'same_len': False,\n  'ratio': 0.5},\n {'file': PosixPath('MAZ_corr/501-600/Moreau570_GALL.json'),\n  'how_many': 3,\n  'len_c': 11,\n  'len_nc': 12,\n  'same_len': False,\n  'ratio': 0.25},\n {'file': PosixPath('MAZ_corr/501-600/Moreau572_GBOOKS.json'),\n  'how_many': 5,\n  'len_c': 10,\n  'len_nc': 11,\n  'same_len': False,\n  'ratio': 0.45454545454545453},\n {'file': PosixPath('MAZ_corr/601-700/Moreau612_MAZ.json'),\n  'how_many': 1,\n  'len_c': 68,\n  'len_nc': 68,\n  'same_len': True,\n  'ratio': 0.014705882352941176},\n {'file': PosixPath('MAZ_corr/601-700/Moreau616_MAZ.json'),\n  'how_many': 3,\n  'len_c': 7,\n  'len_nc': 7,\n  'same_len': True,\n  'ratio': 0.42857142857142855},\n {'file': PosixPath('MAZ_corr/601-700/Moreau617_MAZ.json'),\n  'how_many': 31,\n  'len_c': 31,\n  'len_nc': 31,\n  'same_len': True,\n  'ratio': 1.0},\n {'file': PosixPath('MAZ_corr/601-700/Moreau638_GALL.json'),\n  'how_many': 3,\n  'len_c': 7,\n  'len_nc': 7,\n  'same_len': True,\n  'ratio': 0.42857142857142855},\n {'file': PosixPath('MAZ_corr/601-700/Moreau648_MAZ.json'),\n  'how_many': 1,\n  'len_c': 11,\n  'len_nc': 11,\n  'same_len': True,\n  'ratio': 0.09090909090909091},\n {'file': PosixPath('MAZ_corr/601-700/Moreau652_MAZ.json'),\n  'how_many': 14,\n  'len_c': 15,\n  'len_nc': 15,\n  'same_len': True,\n  'ratio': 0.9333333333333333},\n {'file': PosixPath('MAZ_corr/601-700/Moreau659_MAZ.json'),\n  'how_many': 21,\n  'len_c': 22,\n  'len_nc': 22,\n  'same_len': True,\n  'ratio': 0.9545454545454546},\n {'file': PosixPath('MAZ_corr/601-700/Moreau665_GBOOKS.json'),\n  'how_many': 2,\n  'len_c': 7,\n  'len_nc': 7,\n  'same_len': True,\n  'ratio': 0.2857142857142857},\n {'file': PosixPath('MAZ_corr/601-700/Moreau672_GBOOKS.json'),\n  'how_many': 2,\n  'len_c': 11,\n  'len_nc': 11,\n  'same_len': True,\n  'ratio': 0.18181818181818182},\n {'file': PosixPath('MAZ_corr/601-700/Moreau684_GBOOKS.json'),\n  'how_many': 3,\n  'len_c': 8,\n  'len_nc': 9,\n  'same_len': False,\n  'ratio': 0.3333333333333333},\n {'file': PosixPath('MAZ_corr/701-800/Moreau705_MAZ.json'),\n  'how_many': 11,\n  'len_c': 11,\n  'len_nc': 11,\n  'same_len': True,\n  'ratio': 1.0},\n {'file': PosixPath('MAZ_corr/701-800/Moreau729_MAZ.json'),\n  'how_many': 20,\n  'len_c': 21,\n  'len_nc': 21,\n  'same_len': True,\n  'ratio': 0.9523809523809523},\n {'file': PosixPath('MAZ_corr/701-800/Moreau738_MAZ.json'),\n  'how_many': 15,\n  'len_c': 16,\n  'len_nc': 16,\n  'same_len': True,\n  'ratio': 0.9375},\n {'file': PosixPath('MAZ_corr/701-800/Moreau782_MAZ.json'),\n  'how_many': 7,\n  'len_c': 8,\n  'len_nc': 8,\n  'same_len': True,\n  'ratio': 0.875},\n {'file': PosixPath('MAZ_corr/701-800/Moreau783_MAZ.json'),\n  'how_many': 15,\n  'len_c': 15,\n  'len_nc': 15,\n  'same_len': True,\n  'ratio': 1.0},\n {'file': PosixPath('MAZ_corr/701-800/Moreau786_MAZ.json'),\n  'how_many': 15,\n  'len_c': 15,\n  'len_nc': 15,\n  'same_len': True,\n  'ratio': 1.0},\n {'file': PosixPath('MAZ_corr/701-800/Moreau790_MAZ.json'),\n  'how_many': 7,\n  'len_c': 8,\n  'len_nc': 8,\n  'same_len': True,\n  'ratio': 0.875},\n {'file': PosixPath('MAZ_corr/701-800/Moreau797_GALL.json'),\n  'how_many': 3,\n  'len_c': 7,\n  'len_nc': 8,\n  'same_len': False,\n  'ratio': 0.375},\n {'file': PosixPath('MAZ_corr/701-800/Moreau800_GBOOKS.json'),\n  'how_many': 6,\n  'len_c': 7,\n  'len_nc': 7,\n  'same_len': True,\n  'ratio': 0.8571428571428571},\n {'file': PosixPath('MAZ_corr/801-900/Moreau802_MAZ.json'),\n  'how_many': 31,\n  'len_c': 31,\n  'len_nc': 31,\n  'same_len': True,\n  'ratio': 1.0},\n {'file': PosixPath('MAZ_corr/801-900/Moreau803_GBOOKS.json'),\n  'how_many': 16,\n  'len_c': 17,\n  'len_nc': 17,\n  'same_len': True,\n  'ratio': 0.9411764705882353},\n {'file': PosixPath('MAZ_corr/801-900/Moreau804_GBOOKS.json'),\n  'how_many': 6,\n  'len_c': 6,\n  'len_nc': 6,\n  'same_len': True,\n  'ratio': 1.0},\n {'file': PosixPath('MAZ_corr/801-900/Moreau805_MAZ.json'),\n  'how_many': 1,\n  'len_c': 4,\n  'len_nc': 4,\n  'same_len': True,\n  'ratio': 0.25},\n {'file': PosixPath('MAZ_corr/801-900/Moreau806_MAZ.json'),\n  'how_many': 20,\n  'len_c': 20,\n  'len_nc': 20,\n  'same_len': True,\n  'ratio': 1.0},\n {'file': PosixPath('MAZ_corr/801-900/Moreau808_GBOOKS.json'),\n  'how_many': 5,\n  'len_c': 7,\n  'len_nc': 7,\n  'same_len': True,\n  'ratio': 0.7142857142857143},\n {'file': PosixPath('MAZ_corr/801-900/Moreau809_GBOOKS.json'),\n  'how_many': 8,\n  'len_c': 9,\n  'len_nc': 9,\n  'same_len': True,\n  'ratio': 0.8888888888888888},\n {'file': PosixPath('MAZ_corr/801-900/Moreau819_GBOOKS.json'),\n  'how_many': 5,\n  'len_c': 7,\n  'len_nc': 7,\n  'same_len': True,\n  'ratio': 0.7142857142857143},\n {'file': PosixPath('MAZ_corr/801-900/Moreau820_GBOOKS.json'),\n  'how_many': 2,\n  'len_c': 7,\n  'len_nc': 7,\n  'same_len': True,\n  'ratio': 0.2857142857142857},\n {'file': PosixPath('MAZ_corr/801-900/Moreau821_GALL.json'),\n  'how_many': 3,\n  'len_c': 7,\n  'len_nc': 8,\n  'same_len': False,\n  'ratio': 0.375},\n {'file': PosixPath('MAZ_corr/801-900/Moreau822_GBOOKS.json'),\n  'how_many': 2,\n  'len_c': 7,\n  'len_nc': 7,\n  'same_len': True,\n  'ratio': 0.2857142857142857},\n {'file': PosixPath('MAZ_corr/801-900/Moreau823_GBOOKS.json'),\n  'how_many': 2,\n  'len_c': 5,\n  'len_nc': 5,\n  'same_len': True,\n  'ratio': 0.4},\n {'file': PosixPath('MAZ_corr/801-900/Moreau824_GBOOKS.json'),\n  'how_many': 3,\n  'len_c': 6,\n  'len_nc': 6,\n  'same_len': True,\n  'ratio': 0.5},\n {'file': PosixPath('MAZ_corr/801-900/Moreau825_GBOOKS.json'),\n  'how_many': 31,\n  'len_c': 31,\n  'len_nc': 31,\n  'same_len': True,\n  'ratio': 1.0},\n {'file': PosixPath('MAZ_corr/801-900/Moreau826_GBOOKS.json'),\n  'how_many': 2,\n  'len_c': 7,\n  'len_nc': 7,\n  'same_len': True,\n  'ratio': 0.2857142857142857},\n {'file': PosixPath('MAZ_corr/801-900/Moreau827_GBOOKS.json'),\n  'how_many': 2,\n  'len_c': 7,\n  'len_nc': 7,\n  'same_len': True,\n  'ratio': 0.2857142857142857},\n {'file': PosixPath('MAZ_corr/801-900/Moreau829_GBOOKS.json'),\n  'how_many': 2,\n  'len_c': 10,\n  'len_nc': 10,\n  'same_len': True,\n  'ratio': 0.2},\n {'file': PosixPath('MAZ_corr/801-900/Moreau830_GBOOKS.json'),\n  'how_many': 79,\n  'len_c': 82,\n  'len_nc': 82,\n  'same_len': True,\n  'ratio': 0.9634146341463414},\n {'file': PosixPath('MAZ_corr/801-900/Moreau831_GALL.json'),\n  'how_many': 3,\n  'len_c': 13,\n  'len_nc': 13,\n  'same_len': True,\n  'ratio': 0.23076923076923078},\n {'file': PosixPath('MAZ_corr/801-900/Moreau834_GBOOKS.json'),\n  'how_many': 3,\n  'len_c': 6,\n  'len_nc': 6,\n  'same_len': True,\n  'ratio': 0.5},\n {'file': PosixPath('MAZ_corr/801-900/Moreau837_MAZ.json'),\n  'how_many': 4,\n  'len_c': 4,\n  'len_nc': 4,\n  'same_len': True,\n  'ratio': 1.0},\n {'file': PosixPath('MAZ_corr/801-900/Moreau856_MAZ.json'),\n  'how_many': 1,\n  'len_c': 6,\n  'len_nc': 6,\n  'same_len': True,\n  'ratio': 0.16666666666666666},\n {'file': PosixPath('MAZ_corr/801-900/Moreau866_MAZ.json'),\n  'how_many': 15,\n  'len_c': 15,\n  'len_nc': 15,\n  'same_len': True,\n  'ratio': 1.0},\n {'file': PosixPath('MAZ_corr/801-900/Moreau871_MAZ.json'),\n  'how_many': 14,\n  'len_c': 15,\n  'len_nc': 15,\n  'same_len': True,\n  'ratio': 0.9333333333333333},\n {'file': PosixPath('MAZ_corr/901-1000/Moreau902_GBOOKS.json'),\n  'how_many': 11,\n  'len_c': 12,\n  'len_nc': 12,\n  'same_len': True,\n  'ratio': 0.9166666666666666},\n {'file': PosixPath('MAZ_corr/901-1000/Moreau906_GBOOKS.json'),\n  'how_many': 34,\n  'len_c': 35,\n  'len_nc': 35,\n  'same_len': True,\n  'ratio': 0.9714285714285714},\n {'file': PosixPath('MAZ_corr/901-1000/Moreau907_GBOOKS.json'),\n  'how_many': 12,\n  'len_c': 14,\n  'len_nc': 14,\n  'same_len': True,\n  'ratio': 0.8571428571428571},\n {'file': PosixPath('MAZ_corr/901-1000/Moreau908_GBOOKS.json'),\n  'how_many': 7,\n  'len_c': 7,\n  'len_nc': 7,\n  'same_len': True,\n  'ratio': 1.0},\n {'file': PosixPath('MAZ_corr/901-1000/Moreau909_MAZ.json'),\n  'how_many': 11,\n  'len_c': 11,\n  'len_nc': 11,\n  'same_len': True,\n  'ratio': 1.0},\n {'file': PosixPath('MAZ_corr/901-1000/Moreau911_MAZ.json'),\n  'how_many': 21,\n  'len_c': 22,\n  'len_nc': 22,\n  'same_len': True,\n  'ratio': 0.9545454545454546},\n {'file': PosixPath('MAZ_corr/901-1000/Moreau912_GBOOKS.json'),\n  'how_many': 4,\n  'len_c': 4,\n  'len_nc': 4,\n  'same_len': True,\n  'ratio': 1.0},\n {'file': PosixPath('MAZ_corr/901-1000/Moreau915_MAZ.json'),\n  'how_many': 5,\n  'len_c': 6,\n  'len_nc': 6,\n  'same_len': True,\n  'ratio': 0.8333333333333334},\n {'file': PosixPath('MAZ_corr/901-1000/Moreau917_GBOOKS.json'),\n  'how_many': 7,\n  'len_c': 8,\n  'len_nc': 8,\n  'same_len': True,\n  'ratio': 0.875},\n {'file': PosixPath('MAZ_corr/901-1000/Moreau918_GBOOKS.json'),\n  'how_many': 4,\n  'len_c': 4,\n  'len_nc': 4,\n  'same_len': True,\n  'ratio': 1.0},\n {'file': PosixPath('MAZ_corr/901-1000/Moreau919_GBOOKS.json'),\n  'how_many': 6,\n  'len_c': 7,\n  'len_nc': 7,\n  'same_len': True,\n  'ratio': 0.8571428571428571},\n {'file': PosixPath('MAZ_corr/901-1000/Moreau921_GBOOKS.json'),\n  'how_many': 4,\n  'len_c': 5,\n  'len_nc': 5,\n  'same_len': True,\n  'ratio': 0.8},\n {'file': PosixPath('MAZ_corr/901-1000/Moreau925_MAZ.json'),\n  'how_many': 12,\n  'len_c': 12,\n  'len_nc': 12,\n  'same_len': True,\n  'ratio': 1.0},\n {'file': PosixPath('MAZ_corr/901-1000/Moreau928_GBOOKS.json'),\n  'how_many': 26,\n  'len_c': 26,\n  'len_nc': 26,\n  'same_len': True,\n  'ratio': 1.0},\n {'file': PosixPath('MAZ_corr/901-1000/Moreau929_GBOOKS.json'),\n  'how_many': 13,\n  'len_c': 14,\n  'len_nc': 14,\n  'same_len': True,\n  'ratio': 0.9285714285714286},\n {'file': PosixPath('MAZ_corr/901-1000/Moreau930_GBOOKS.json'),\n  'how_many': 6,\n  'len_c': 6,\n  'len_nc': 6,\n  'same_len': True,\n  'ratio': 1.0},\n {'file': PosixPath('MAZ_corr/901-1000/Moreau936_MAZ.json'),\n  'how_many': 16,\n  'len_c': 17,\n  'len_nc': 17,\n  'same_len': True,\n  'ratio': 0.9411764705882353},\n {'file': PosixPath('MAZ_corr/901-1000/Moreau937_GBOOKS.json'),\n  'how_many': 9,\n  'len_c': 10,\n  'len_nc': 10,\n  'same_len': True,\n  'ratio': 0.9},\n {'file': PosixPath('MAZ_corr/901-1000/Moreau941_GBOOKS.json'),\n  'how_many': 8,\n  'len_c': 8,\n  'len_nc': 8,\n  'same_len': True,\n  'ratio': 1.0},\n {'file': PosixPath('MAZ_corr/901-1000/Moreau944_MAZ.json'),\n  'how_many': 14,\n  'len_c': 14,\n  'len_nc': 14,\n  'same_len': True,\n  'ratio': 1.0},\n {'file': PosixPath('MAZ_corr/901-1000/Moreau947_GBOOKS.json'),\n  'how_many': 5,\n  'len_c': 6,\n  'len_nc': 6,\n  'same_len': True,\n  'ratio': 0.8333333333333334},\n {'file': PosixPath('MAZ_corr/901-1000/Moreau950_GBOOKS.json'),\n  'how_many': 6,\n  'len_c': 6,\n  'len_nc': 6,\n  'same_len': True,\n  'ratio': 1.0},\n {'file': PosixPath('MAZ_corr/901-1000/Moreau954_MAZ.json'),\n  'how_many': 2,\n  'len_c': 3,\n  'len_nc': 3,\n  'same_len': True,\n  'ratio': 0.6666666666666666},\n {'file': PosixPath('MAZ_corr/901-1000/Moreau955_GBOOKS.json'),\n  'how_many': 5,\n  'len_c': 6,\n  'len_nc': 6,\n  'same_len': True,\n  'ratio': 0.8333333333333334},\n {'file': PosixPath('MAZ_corr/901-1000/Moreau956_GBOOKS.json'),\n  'how_many': 4,\n  'len_c': 6,\n  'len_nc': 6,\n  'same_len': True,\n  'ratio': 0.6666666666666666},\n {'file': PosixPath('MAZ_corr/901-1000/Moreau958_GBOOKS.json'),\n  'how_many': 6,\n  'len_c': 7,\n  'len_nc': 7,\n  'same_len': True,\n  'ratio': 0.8571428571428571},\n {'file': PosixPath('MAZ_corr/901-1000/Moreau960_GBOOKS.json'),\n  'how_many': 7,\n  'len_c': 7,\n  'len_nc': 7,\n  'same_len': True,\n  'ratio': 1.0},\n {'file': PosixPath('MAZ_corr/901-1000/Moreau961_GBOOKS.json'),\n  'how_many': 6,\n  'len_c': 7,\n  'len_nc': 7,\n  'same_len': True,\n  'ratio': 0.8571428571428571},\n {'file': PosixPath('MAZ_corr/901-1000/Moreau962_GBOOKS.json'),\n  'how_many': 2,\n  'len_c': 8,\n  'len_nc': 8,\n  'same_len': True,\n  'ratio': 0.25},\n {'file': PosixPath('MAZ_corr/901-1000/Moreau963_GBOOKS.json'),\n  'how_many': 4,\n  'len_c': 4,\n  'len_nc': 4,\n  'same_len': True,\n  'ratio': 1.0},\n {'file': PosixPath('MAZ_corr/901-1000/Moreau972_GBOOKS.json'),\n  'how_many': 1,\n  'len_c': 7,\n  'len_nc': 7,\n  'same_len': True,\n  'ratio': 0.14285714285714285},\n {'file': PosixPath('MAZ_corr/901-1000/Moreau977_GBOOKS.json'),\n  'how_many': 2,\n  'len_c': 7,\n  'len_nc': 7,\n  'same_len': True,\n  'ratio': 0.2857142857142857},\n {'file': PosixPath('MAZ_corr/901-1000/Moreau978_GBOOKS.json'),\n  'how_many': 2,\n  'len_c': 7,\n  'len_nc': 7,\n  'same_len': True,\n  'ratio': 0.2857142857142857},\n {'file': PosixPath('MAZ_corr/901-1000/Moreau981_GBOOKS.json'),\n  'how_many': 3,\n  'len_c': 7,\n  'len_nc': 7,\n  'same_len': True,\n  'ratio': 0.42857142857142855},\n {'file': PosixPath('MAZ_corr/901-1000/Moreau988_MAZ.json'),\n  'how_many': 4,\n  'len_c': 5,\n  'len_nc': 5,\n  'same_len': True,\n  'ratio': 0.8},\n {'file': PosixPath('MAZ_corr/901-1000/Moreau989_GBOOKS.json'),\n  'how_many': 8,\n  'len_c': 10,\n  'len_nc': 10,\n  'same_len': True,\n  'ratio': 0.8},\n {'file': PosixPath('MAZ_corr/901-1000/Moreau997_GBOOKS.json'),\n  'how_many': 6,\n  'len_c': 7,\n  'len_nc': 7,\n  'same_len': True,\n  'ratio': 0.8571428571428571},\n {'file': PosixPath('MAZ_corr/901-1000/Moreau999_GBOOKS.json'),\n  'how_many': 6,\n  'len_c': 7,\n  'len_nc': 7,\n  'same_len': True,\n  'ratio': 0.8571428571428571},\n {'file': PosixPath('MAZ_corr/Bibliotheque_Mazarine/BM48896_MAZ.json'),\n  'how_many': 3,\n  'len_c': 4,\n  'len_nc': 4,\n  'same_len': True,\n  'ratio': 0.75},\n {'file': PosixPath('MAZ_corr/Bibliotheque_Mazarine/BM49066_MAZ.json'),\n  'how_many': 1,\n  'len_c': 1,\n  'len_nc': 1,\n  'same_len': True,\n  'ratio': 1.0},\n {'file': PosixPath('MAZ_corr/Bibliotheque_Mazarine/BM49193_MAZ.json'),\n  'how_many': 12,\n  'len_c': 12,\n  'len_nc': 12,\n  'same_len': True,\n  'ratio': 1.0},\n {'file': PosixPath('MAZ_corr/Bibliotheque_Mazarine/BM49206_MAZ.json'),\n  'how_many': 4,\n  'len_c': 5,\n  'len_nc': 5,\n  'same_len': True,\n  'ratio': 0.8},\n {'file': PosixPath('MAZ_corr/Bibliotheque_Mazarine/BM49257_MAZ.json'),\n  'how_many': 2,\n  'len_c': 3,\n  'len_nc': 3,\n  'same_len': True,\n  'ratio': 0.6666666666666666},\n {'file': PosixPath('MAZ_corr/Bibliotheque_Mazarine/BM49258_MAZ.json'),\n  'how_many': 2,\n  'len_c': 3,\n  'len_nc': 3,\n  'same_len': True,\n  'ratio': 0.6666666666666666},\n {'file': PosixPath('MAZ_corr/Bibliotheque_Mazarine/BM49260_MAZ.json'),\n  'how_many': 3,\n  'len_c': 4,\n  'len_nc': 4,\n  'same_len': True,\n  'ratio': 0.75},\n {'file': PosixPath('MAZ_corr/Bibliotheque_Mazarine/BM49261_MAZ.json'),\n  'how_many': 3,\n  'len_c': 4,\n  'len_nc': 4,\n  'same_len': True,\n  'ratio': 0.75},\n {'file': PosixPath('MAZ_corr/Bibliotheque_Mazarine/BM49276_MAZ.json'),\n  'how_many': 3,\n  'len_c': 4,\n  'len_nc': 4,\n  'same_len': True,\n  'ratio': 0.75},\n {'file': PosixPath('MAZ_corr/Bibliotheque_Mazarine/BM49283_MAZ.json'),\n  'how_many': 7,\n  'len_c': 8,\n  'len_nc': 8,\n  'same_len': True,\n  'ratio': 0.875},\n {'file': PosixPath('MAZ_corr/Bibliotheque_Mazarine/BM49285_MAZ.json'),\n  'how_many': 4,\n  'len_c': 4,\n  'len_nc': 4,\n  'same_len': True,\n  'ratio': 1.0},\n {'file': PosixPath('MAZ_corr/Bibliotheque_Mazarine/BM49286_MAZ.json'),\n  'how_many': 4,\n  'len_c': 4,\n  'len_nc': 4,\n  'same_len': True,\n  'ratio': 1.0},\n {'file': PosixPath('MAZ_corr/Bibliotheque_Mazarine/BM49287_MAZ.json'),\n  'how_many': 4,\n  'len_c': 4,\n  'len_nc': 4,\n  'same_len': True,\n  'ratio': 1.0},\n {'file': PosixPath('MAZ_corr/Bibliotheque_Mazarine/BM49295_MAZ.json'),\n  'how_many': 4,\n  'len_c': 4,\n  'len_nc': 4,\n  'same_len': True,\n  'ratio': 1.0},\n {'file': PosixPath('MAZ_corr/Bibliotheque_Mazarine/BM49296_MAZ.json'),\n  'how_many': 6,\n  'len_c': 7,\n  'len_nc': 7,\n  'same_len': True,\n  'ratio': 0.8571428571428571},\n {'file': PosixPath('MAZ_corr/Bibliotheque_Mazarine/BM49386_MAZ.json'),\n  'how_many': 159,\n  'len_c': 178,\n  'len_nc': 178,\n  'same_len': True,\n  'ratio': 0.8932584269662921},\n {'file': PosixPath('MAZ_corr/Bibliotheque_Mazarine/BM49794_MAZ.json'),\n  'how_many': 4,\n  'len_c': 5,\n  'len_nc': 5,\n  'same_len': True,\n  'ratio': 0.8},\n {'file': PosixPath('MAZ_corr/Bibliotheque_Mazarine/BM49797_MAZ.json'),\n  'how_many': 5,\n  'len_c': 6,\n  'len_nc': 6,\n  'same_len': True,\n  'ratio': 0.8333333333333334},\n {'file': PosixPath('MAZ_corr/Bibliotheque_Mazarine/BM49827_MAZ.json'),\n  'how_many': 4,\n  'len_c': 5,\n  'len_nc': 5,\n  'same_len': True,\n  'ratio': 0.8},\n {'file': PosixPath('MAZ_corr/Bibliotheque_Mazarine/BM49840_MAZ.json'),\n  'how_many': 3,\n  'len_c': 3,\n  'len_nc': 3,\n  'same_len': True,\n  'ratio': 1.0},\n {'file': PosixPath('MAZ_corr/Bibliotheque_Mazarine/BM50189_MAZ.json'),\n  'how_many': 10,\n  'len_c': 11,\n  'len_nc': 11,\n  'same_len': True,\n  'ratio': 0.9090909090909091},\n {'file': PosixPath('MAZ_corr/Labadie/Labadie13_BOR.json'),\n  'how_many': 2,\n  'len_c': 8,\n  'len_nc': 8,\n  'same_len': True,\n  'ratio': 0.25},\n {'file': PosixPath('MAZ_corr/Labadie/Labadie50_MAZ.json'),\n  'how_many': 5,\n  'len_c': 6,\n  'len_nc': 6,\n  'same_len': True,\n  'ratio': 0.8333333333333334},\n {'file': PosixPath('MAZ_corr/Moreau_sup1/Moreau1suppl100_MAZ.json'),\n  'how_many': 28,\n  'len_c': 29,\n  'len_nc': 29,\n  'same_len': True,\n  'ratio': 0.9655172413793104},\n {'file': PosixPath('MAZ_corr/Moreau_sup1/Moreau1suppl120_MAZ.json'),\n  'how_many': 269,\n  'len_c': 269,\n  'len_nc': 269,\n  'same_len': True,\n  'ratio': 1.0},\n {'file': PosixPath('MAZ_corr/Moreau_sup1/Moreau1suppl143_MAZ.json'),\n  'how_many': 2,\n  'len_c': 4,\n  'len_nc': 4,\n  'same_len': True,\n  'ratio': 0.5},\n {'file': PosixPath('MAZ_corr/Moreau_sup1/Moreau1suppl193_MAZ.json'),\n  'how_many': 22,\n  'len_c': 23,\n  'len_nc': 23,\n  'same_len': True,\n  'ratio': 0.9565217391304348},\n {'file': PosixPath('MAZ_corr/Moreau_sup2/Moreau2suppl106_GBOOKS.json'),\n  'how_many': 6,\n  'len_c': 6,\n  'len_nc': 6,\n  'same_len': True,\n  'ratio': 1.0},\n {'file': PosixPath('MAZ_corr/Moreau_sup2/Moreau2suppl111_GBOOKS.json'),\n  'how_many': 1,\n  'len_c': 4,\n  'len_nc': 4,\n  'same_len': True,\n  'ratio': 0.25},\n {'file': PosixPath('MAZ_corr/Moreau_sup2/Moreau2suppl112_GBOOKS.json'),\n  'how_many': 20,\n  'len_c': 20,\n  'len_nc': 20,\n  'same_len': True,\n  'ratio': 1.0},\n {'file': PosixPath('MAZ_corr/Moreau_sup2/Moreau2suppl129_GBOOKS.json'),\n  'how_many': 16,\n  'len_c': 15,\n  'len_nc': 16,\n  'same_len': False,\n  'ratio': 1.0},\n {'file': PosixPath('MAZ_corr/Moreau_sup2/Moreau2suppl130_MAZ.json'),\n  'how_many': 6,\n  'len_c': 6,\n  'len_nc': 6,\n  'same_len': True,\n  'ratio': 1.0},\n {'file': PosixPath('MAZ_corr/Moreau_sup2/Moreau2suppl132_MAZ.json'),\n  'how_many': 8,\n  'len_c': 8,\n  'len_nc': 8,\n  'same_len': True,\n  'ratio': 1.0},\n {'file': PosixPath('MAZ_corr/Moreau_sup2/Moreau2suppl134_GBOOKS.json'),\n  'how_many': 2,\n  'len_c': 5,\n  'len_nc': 6,\n  'same_len': False,\n  'ratio': 0.3333333333333333},\n {'file': PosixPath('MAZ_corr/Moreau_sup2/Moreau2suppl135_GBOOKS.json'),\n  'how_many': 2,\n  'len_c': 7,\n  'len_nc': 8,\n  'same_len': False,\n  'ratio': 0.25},\n {'file': PosixPath('MAZ_corr/Moreau_sup2/Moreau2suppl176_GBOOKS.json'),\n  'how_many': 4,\n  'len_c': 4,\n  'len_nc': 4,\n  'same_len': True,\n  'ratio': 1.0},\n {'file': PosixPath('MAZ_corr/Moreau_sup2/Moreau2suppl197_GBOOKS.json'),\n  'how_many': 1,\n  'len_c': 8,\n  'len_nc': 8,\n  'same_len': True,\n  'ratio': 0.125},\n {'file': PosixPath('MAZ_corr/Moreau_sup2/Moreau2suppl1_MAZ.json'),\n  'how_many': 1,\n  'len_c': 1,\n  'len_nc': 1,\n  'same_len': True,\n  'ratio': 1.0},\n {'file': PosixPath('MAZ_corr/Moreau_sup2/Moreau2suppl203_GALL.json'),\n  'how_many': 2,\n  'len_c': 7,\n  'len_nc': 7,\n  'same_len': True,\n  'ratio': 0.2857142857142857},\n {'file': PosixPath('MAZ_corr/Moreau_sup2/Moreau2suppl43_GBOOKS.json'),\n  'how_many': 23,\n  'len_c': 7,\n  'len_nc': 30,\n  'same_len': False,\n  'ratio': 0.7666666666666667},\n {'file': PosixPath('MAZ_corr/Moreau_sup2/Moreau2suppl64_GBOOKS.json'),\n  'how_many': 2,\n  'len_c': 7,\n  'len_nc': 8,\n  'same_len': False,\n  'ratio': 0.25},\n {'file': PosixPath('MAZ_corr/Moreau_sup2/Moreau2suppl65_GBOOKS.json'),\n  'how_many': 2,\n  'len_c': 6,\n  'len_nc': 7,\n  'same_len': False,\n  'ratio': 0.2857142857142857},\n {'file': PosixPath('MAZ_corr/Moreau_sup2/Moreau2suppl66_GBOOKS.json'),\n  'how_many': 1,\n  'len_c': 7,\n  'len_nc': 8,\n  'same_len': False,\n  'ratio': 0.125},\n {'file': PosixPath('MAZ_corr/Moreau_sup2/Moreau2suppl7_MAZ.json'),\n  'how_many': 8,\n  'len_c': 9,\n  'len_nc': 9,\n  'same_len': True,\n  'ratio': 0.8888888888888888},\n {'file': PosixPath('MAZ_corr/Moreau_sup2/Moreau2suppl85_MAZ.json'),\n  'how_many': 36,\n  'len_c': 37,\n  'len_nc': 37,\n  'same_len': True,\n  'ratio': 0.972972972972973},\n {'file': PosixPath('MAZ_corr/Moreau_sup2/Moreau2suppl8_MAZ.json'),\n  'how_many': 11,\n  'len_c': 11,\n  'len_nc': 11,\n  'same_len': True,\n  'ratio': 1.0},\n {'file': PosixPath('MAZ_corr/Moreau_sup3/Moreau3suppl23_GALL.json'),\n  'how_many': 3,\n  'len_c': 3,\n  'len_nc': 4,\n  'same_len': False,\n  'ratio': 0.75},\n {'file': PosixPath('MAZ_corr/Moreau_sup3/Moreau3suppl47_GALL.json'),\n  'how_many': 79,\n  'len_c': 79,\n  'len_nc': 80,\n  'same_len': False,\n  'ratio': 0.9875},\n {'file': PosixPath('MAZ_corr/Moreau_sup3/Moreau3suppl51_GALL.json'),\n  'how_many': 3,\n  'len_c': 18,\n  'len_nc': 19,\n  'same_len': False,\n  'ratio': 0.15789473684210525},\n {'file': PosixPath('MAZ_corr/Moreau_sup3/Moreau3suppl5_GBOOKS.json'),\n  'how_many': 8,\n  'len_c': 8,\n  'len_nc': 8,\n  'same_len': True,\n  'ratio': 1.0},\n {'file': PosixPath('MAZ_corr/Moreau_sup3/Moreau3suppl62_MAZ.json'),\n  'how_many': 29,\n  'len_c': 30,\n  'len_nc': 30,\n  'same_len': True,\n  'ratio': 0.9666666666666667},\n {'file': PosixPath('MAZ_corr/Socard/Socard58_MAZ.json'),\n  'how_many': 22,\n  'len_c': 23,\n  'len_nc': 23,\n  'same_len': True,\n  'ratio': 0.9565217391304348},\n {'file': PosixPath('MAZ_corr/Socard/Socard79_MAZ.json'),\n  'how_many': 9,\n  'len_c': 11,\n  'len_nc': 10,\n  'same_len': False,\n  'ratio': 0.8181818181818182}]"
     },
     "execution_count": 16,
     "metadata": {},
     "output_type": "execute_result"
    }
   ],
   "source": [
    "how_many_for_b"
   ],
   "metadata": {
    "collapsed": false,
    "ExecuteTime": {
     "end_time": "2024-01-26T18:26:00.467536219Z",
     "start_time": "2024-01-26T18:26:00.401533766Z"
    }
   },
   "id": "1ecaba43806c210e",
   "execution_count": 16
  },
  {
   "cell_type": "code",
   "outputs": [],
   "source": [
    "import plotly.express as px\n",
    "import pandas as pd\n",
    "import matplotlib.pyplot as plt\n"
   ],
   "metadata": {
    "collapsed": false,
    "ExecuteTime": {
     "end_time": "2024-01-26T18:26:01.285811651Z",
     "start_time": "2024-01-26T18:26:00.458358055Z"
    }
   },
   "id": "58fa42bebedced0",
   "execution_count": 17
  },
  {
   "cell_type": "code",
   "outputs": [],
   "source": [
    "df = pd.DataFrame(how_many_for_b)"
   ],
   "metadata": {
    "collapsed": false,
    "ExecuteTime": {
     "end_time": "2024-01-26T18:26:01.291435604Z",
     "start_time": "2024-01-26T18:26:01.285786953Z"
    }
   },
   "id": "96351cbd1cbbe91c",
   "execution_count": 18
  },
  {
   "cell_type": "code",
   "outputs": [],
   "source": [
    "df[\"ratio\"] = df[\"ratio\"].round(2)"
   ],
   "metadata": {
    "collapsed": false,
    "ExecuteTime": {
     "end_time": "2024-01-26T18:26:01.324253016Z",
     "start_time": "2024-01-26T18:26:01.290374296Z"
    }
   },
   "id": "31871560dd6c0811",
   "execution_count": 19
  },
  {
   "cell_type": "code",
   "outputs": [
    {
     "data": {
      "text/plain": "ratio\n1.00    198\n0.50     58\n0.86     42\n0.43     36\n0.33     30\n       ... \n0.02      1\n0.03      1\n0.22      1\n0.01      1\n0.77      1\nName: count, Length: 67, dtype: int64"
     },
     "execution_count": 20,
     "metadata": {},
     "output_type": "execute_result"
    }
   ],
   "source": [
    "df[\"ratio\"].value_counts()"
   ],
   "metadata": {
    "collapsed": false,
    "ExecuteTime": {
     "end_time": "2024-01-26T18:26:01.363279391Z",
     "start_time": "2024-01-26T18:26:01.321484576Z"
    }
   },
   "id": "f912e8a9e9cbba33",
   "execution_count": 20
  },
  {
   "cell_type": "code",
   "outputs": [
    {
     "data": {
      "text/plain": "ratio\n0.01      1\n0.02      1\n0.03      1\n0.04      1\n0.05      4\n       ... \n0.96      8\n0.97     18\n0.98      6\n0.99      7\n1.00    198\nName: count, Length: 67, dtype: int64"
     },
     "execution_count": 21,
     "metadata": {},
     "output_type": "execute_result"
    }
   ],
   "source": [
    "df[\"ratio\"].value_counts().sort_index()"
   ],
   "metadata": {
    "collapsed": false,
    "ExecuteTime": {
     "end_time": "2024-01-26T18:26:01.396713091Z",
     "start_time": "2024-01-26T18:26:01.362489884Z"
    }
   },
   "id": "64075ccd4de4e32a",
   "execution_count": 21
  },
  {
   "cell_type": "code",
   "outputs": [
    {
     "data": {
      "text/plain": "<Axes: xlabel='ratio'>"
     },
     "execution_count": 22,
     "metadata": {},
     "output_type": "execute_result"
    },
    {
     "data": {
      "text/plain": "<Figure size 640x480 with 1 Axes>",
      "image/png": "[encoded data removed]"
     },
     "metadata": {},
     "output_type": "display_data"
    }
   ],
   "source": [
    "df[\"ratio\"].value_counts().sort_index().plot.bar()"
   ],
   "metadata": {
    "collapsed": false,
    "ExecuteTime": {
     "end_time": "2024-01-26T18:26:01.837296050Z",
     "start_time": "2024-01-26T18:26:01.392934607Z"
    }
   },
   "id": "bb34278e5c060aed",
   "execution_count": 22
  },
  {
   "cell_type": "code",
   "outputs": [
    {
     "data": {
      "text/plain": "<Axes: xlabel='how_many'>"
     },
     "execution_count": 23,
     "metadata": {},
     "output_type": "execute_result"
    },
    {
     "data": {
      "text/plain": "<Figure size 640x480 with 1 Axes>",
      "image/png": "[encoded data removed]"
     },
     "metadata": {},
     "output_type": "display_data"
    }
   ],
   "source": [
    "df[\"how_many\"].value_counts().sort_index().plot.bar()"
   ],
   "metadata": {
    "collapsed": false,
    "ExecuteTime": {
     "end_time": "2024-01-26T18:26:02.134685080Z",
     "start_time": "2024-01-26T18:26:01.839780148Z"
    }
   },
   "id": "3c8cb510f52fd15d",
   "execution_count": 23
  },
  {
   "cell_type": "code",
   "outputs": [
    {
     "data": {
      "text/plain": "<Axes: xlabel='hm10'>"
     },
     "execution_count": 24,
     "metadata": {},
     "output_type": "execute_result"
    },
    {
     "data": {
      "text/plain": "<Figure size 640x480 with 1 Axes>",
      "image/png": "[encoded data removed]"
     },
     "metadata": {},
     "output_type": "display_data"
    }
   ],
   "source": [
    "df[\"hm10\"] = df[\"how_many\"].apply(lambda x: x if x < 10 else 10)\n",
    "df[\"hm10\"].value_counts().sort_index().plot.bar()"
   ],
   "metadata": {
    "collapsed": false,
    "ExecuteTime": {
     "end_time": "2024-01-26T18:26:02.245398488Z",
     "start_time": "2024-01-26T18:26:02.149657644Z"
    }
   },
   "id": "e72d9761cffedc89",
   "execution_count": 24
  },
  {
   "cell_type": "code",
   "outputs": [
    {
     "data": {
      "text/plain": "<Axes: xlabel='hm5'>"
     },
     "execution_count": 25,
     "metadata": {},
     "output_type": "execute_result"
    },
    {
     "data": {
      "text/plain": "<Figure size 640x480 with 1 Axes>",
      "image/png": "[encoded data removed]"
     },
     "metadata": {},
     "output_type": "display_data"
    }
   ],
   "source": [
    "df[\"hm5\"] = df[\"how_many\"].apply(lambda x: x if x < 5 else 5)\n",
    "df[\"hm5\"].value_counts().sort_index().plot.bar()"
   ],
   "metadata": {
    "collapsed": false,
    "ExecuteTime": {
     "end_time": "2024-01-26T18:26:02.341701705Z",
     "start_time": "2024-01-26T18:26:02.266211267Z"
    }
   },
   "id": "94d65f5a4dd3c848",
   "execution_count": 25
  },
  {
   "cell_type": "code",
   "outputs": [
    {
     "name": "stdout",
     "output_type": "stream",
     "text": [
      "786 0\n"
     ]
    }
   ],
   "source": [
    "corr_from_xml = 0\n",
    "non_corr_from_xml = 0\n",
    "for e in files_by_type[\"B\"]:\n",
    "    with open(e) as f:\n",
    "        e = json.load(f)\n",
    "    if e.get(\"entête\", {}).get(\"change\", {}).get(\"@status\", \"\") == \"corrected\":\n",
    "        corr_from_xml += 1\n",
    "    else:\n",
    "        non_corr_from_xml += 1\n",
    "        \n",
    "print(corr_from_xml, non_corr_from_xml)"
   ],
   "metadata": {
    "collapsed": false,
    "ExecuteTime": {
     "end_time": "2024-01-26T18:28:29.795281905Z",
     "start_time": "2024-01-26T18:28:29.626106660Z"
    }
   },
   "id": "be0383aee7a37f58",
   "execution_count": 28
  },
  {
   "cell_type": "code",
   "outputs": [],
   "source": [],
   "metadata": {
    "collapsed": false
   },
   "id": "89afdd01894f5e9c"
  }
 ],
 "metadata": {
  "kernelspec": {
   "display_name": "Python 3",
   "language": "python",
   "name": "python3"
  },
  "language_info": {
   "codemirror_mode": {
    "name": "ipython",
    "version": 2
   },
   "file_extension": ".py",
   "mimetype": "text/x-python",
   "name": "python",
   "nbconvert_exporter": "python",
   "pygments_lexer": "ipython2",
   "version": "2.7.6"
  }
 },
 "nbformat": 4,
 "nbformat_minor": 5
}
